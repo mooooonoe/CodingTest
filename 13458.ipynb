{
 "cells": [
  {
   "cell_type": "markdown",
   "metadata": {},
   "source": [
    "## N개의 시험장\n",
    "각각의 시험장마다 응시자들이 있음 <br>\n",
    "i번 시험장에 있는 응시자 수 A_i 명<br>\n",
    "\n",
    "감독관은 총 감독관과 부감독관으로 두 종류<br>\n",
    "총 감독관은 한 시험장에서 감시 할 수 있는 응시자의 수가 B명<br>\n",
    "부감독관은 한 시험장에서 감시 할 수 있는 응시자의 수가 C명<br>\n",
    "<br>\n",
    "<br>\n",
    "각 시험장마다 총 감독관은 오직 1명만 있어야 하고 부 감독은 여러명 있어도 됨<br>\n",
    "<br>\n",
    "각 시험장마다 응시생 모두를 감시해야 함<br>\n",
    "이때 필요한 감독관의 최솟값을 구하는 프로그램"
   ]
  },
  {
   "cell_type": "markdown",
   "metadata": {},
   "source": [
    "## 입력\n",
    "\n",
    "첫째줄 시험장의 갯수 N ( 1 <= N 1,000,000) <br>\n",
    "둘째줄 각 시험장의 응시자 수 A_i (1 <= A_i <= 1,000,000)<br>\n",
    "셋째줄 B(총 감독관은 한 시험장에서 감시 할 수 있는 응시자의 수)와 C(부감독관은 한 시험장에서 감시 할 수 있는 응시자의 수) <br>"
   ]
  },
  {
   "cell_type": "code",
   "execution_count": 8,
   "metadata": {},
   "outputs": [
    {
     "name": "stdout",
     "output_type": "stream",
     "text": [
      "7\n"
     ]
    }
   ],
   "source": [
    "n=int(input())\n",
    "n_cnt=list(map(int,input().split()))\n",
    "b,c=map(int,input().split())\n",
    "res=0\n",
    "for i in range(n):\n",
    "    n_cnt[i]-=b\n",
    "    res+=1\n",
    "    if n_cnt[i]>0:\n",
    "        if n_cnt[i]%c==0:\n",
    "            res+=(n_cnt[i]//c)\n",
    "        else:\n",
    "            res+=(n_cnt[i]//c+1)\n",
    "\n",
    "print(res)"
   ]
  },
  {
   "cell_type": "code",
   "execution_count": null,
   "metadata": {},
   "outputs": [],
   "source": []
  }
 ],
 "metadata": {
  "kernelspec": {
   "display_name": "base",
   "language": "python",
   "name": "python3"
  },
  "language_info": {
   "codemirror_mode": {
    "name": "ipython",
    "version": 3
   },
   "file_extension": ".py",
   "mimetype": "text/x-python",
   "name": "python",
   "nbconvert_exporter": "python",
   "pygments_lexer": "ipython3",
   "version": "3.11.7"
  }
 },
 "nbformat": 4,
 "nbformat_minor": 2
}
