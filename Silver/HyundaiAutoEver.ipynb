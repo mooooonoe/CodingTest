{
 "cells": [
  {
   "cell_type": "code",
   "execution_count": 1,
   "metadata": {},
   "outputs": [
    {
     "name": "stdout",
     "output_type": "stream",
     "text": [
      "##  ##     ##     #####    #####    ##  ##            ##  ##            ##   ##    ##      ####\n",
      "##  ##    ####    ##  ##   ##  ##   ##  ##            ##  ##            ### ###   ####    ##  ##\n",
      "##  ##   ##  ##   ##  ##   ##  ##   ##  ##             ####             #######  ##  ##   ##\n",
      "######   ######   #####    #####     ####               ##     ######   ## # ##  ######    ####\n",
      "##  ##   ##  ##   ##       ##         ##               ####             ##   ##  ##  ##       ##\n",
      "##  ##   ##  ##   ##       ##         ##              ##  ##            ##   ##  ##  ##   ##  ##\n",
      "##  ##   ##  ##   ##       ##         ##              ##  ##            ##   ##  ##  ##    ####\n"
     ]
    }
   ],
   "source": [
    "# lv1 메리크리스마스\n",
    "print('##  ##     ##     #####    #####    ##  ##            ##  ##            ##   ##    ##      ####')\n",
    "print('##  ##    ####    ##  ##   ##  ##   ##  ##            ##  ##            ### ###   ####    ##  ##')\n",
    "print('##  ##   ##  ##   ##  ##   ##  ##   ##  ##             ####             #######  ##  ##   ##')\n",
    "print('######   ######   #####    #####     ####               ##     ######   ## # ##  ######    ####')\n",
    "print('##  ##   ##  ##   ##       ##         ##               ####             ##   ##  ##  ##       ##')\n",
    "print('##  ##   ##  ##   ##       ##         ##              ##  ##            ##   ##  ##  ##   ##  ##')\n",
    "print('##  ##   ##  ##   ##       ##         ##              ##  ##            ##   ##  ##  ##    ####')\n"
   ]
  },
  {
   "cell_type": "code",
   "execution_count": 4,
   "metadata": {},
   "outputs": [
    {
     "name": "stdout",
     "output_type": "stream",
     "text": [
      "++++ ++++ ||\n",
      "\n",
      "++++ |\n"
     ]
    }
   ],
   "source": [
    "# lv1 개표\n",
    "n = int(input())\n",
    "\n",
    "for _ in range(n):\n",
    "    num = int(input())\n",
    "    moc = num//5\n",
    "    mod = num-(5*moc)\n",
    "    \n",
    "    for _ in range(1, moc):\n",
    "        print('++++', end=' ')\n",
    "    \n",
    "    for _ in range(1, moc):\n",
    "        print('|',end='')\n",
    "    \n",
    "    print()"
   ]
  },
  {
   "cell_type": "code",
   "execution_count": null,
   "metadata": {},
   "outputs": [],
   "source": []
  }
 ],
 "metadata": {
  "kernelspec": {
   "display_name": "kwixmsb",
   "language": "python",
   "name": "python3"
  },
  "language_info": {
   "codemirror_mode": {
    "name": "ipython",
    "version": 3
   },
   "file_extension": ".py",
   "mimetype": "text/x-python",
   "name": "python",
   "nbconvert_exporter": "python",
   "pygments_lexer": "ipython3",
   "version": "3.9.18"
  }
 },
 "nbformat": 4,
 "nbformat_minor": 2
}
