{
 "cells": [
  {
   "cell_type": "code",
   "execution_count": 1,
   "metadata": {},
   "outputs": [
    {
     "name": "stdout",
     "output_type": "stream",
     "text": [
      "##  ##     ##     #####    #####    ##  ##            ##  ##            ##   ##    ##      ####\n",
      "##  ##    ####    ##  ##   ##  ##   ##  ##            ##  ##            ### ###   ####    ##  ##\n",
      "##  ##   ##  ##   ##  ##   ##  ##   ##  ##             ####             #######  ##  ##   ##\n",
      "######   ######   #####    #####     ####               ##     ######   ## # ##  ######    ####\n",
      "##  ##   ##  ##   ##       ##         ##               ####             ##   ##  ##  ##       ##\n",
      "##  ##   ##  ##   ##       ##         ##              ##  ##            ##   ##  ##  ##   ##  ##\n",
      "##  ##   ##  ##   ##       ##         ##              ##  ##            ##   ##  ##  ##    ####\n"
     ]
    }
   ],
   "source": [
    "# lv1 메리크리스마스\n",
    "print('##  ##     ##     #####    #####    ##  ##            ##  ##            ##   ##    ##      ####')\n",
    "print('##  ##    ####    ##  ##   ##  ##   ##  ##            ##  ##            ### ###   ####    ##  ##')\n",
    "print('##  ##   ##  ##   ##  ##   ##  ##   ##  ##             ####             #######  ##  ##   ##')\n",
    "print('######   ######   #####    #####     ####               ##     ######   ## # ##  ######    ####')\n",
    "print('##  ##   ##  ##   ##       ##         ##               ####             ##   ##  ##  ##       ##')\n",
    "print('##  ##   ##  ##   ##       ##         ##              ##  ##            ##   ##  ##  ##   ##  ##')\n",
    "print('##  ##   ##  ##   ##       ##         ##              ##  ##            ##   ##  ##  ##    ####')\n"
   ]
  },
  {
   "cell_type": "code",
   "execution_count": 4,
   "metadata": {},
   "outputs": [
    {
     "name": "stdout",
     "output_type": "stream",
     "text": [
      "++++ ++++ ||\n",
      "\n",
      "++++ |\n"
     ]
    }
   ],
   "source": [
    "# lv1 개표\n",
    "n = int(input())\n",
    "\n",
    "for _ in range(n):\n",
    "    num = int(input())\n",
    "    moc = num//5\n",
    "    mod = num-(5*moc)\n",
    "    \n",
    "    for _ in range(1, moc):\n",
    "        print('++++', end=' ')\n",
    "    \n",
    "    for _ in range(1, moc):\n",
    "        print('|',end='')\n",
    "    \n",
    "    print()"
   ]
  },
  {
   "cell_type": "code",
   "execution_count": null,
   "metadata": {},
   "outputs": [
    {
     "ename": "TypeError",
     "evalue": "'>' not supported between instances of 'NoneType' and 'int'",
     "output_type": "error",
     "traceback": [
      "\u001b[1;31m---------------------------------------------------------------------------\u001b[0m",
      "\u001b[1;31mTypeError\u001b[0m                                 Traceback (most recent call last)",
      "Cell \u001b[1;32mIn[2], line 12\u001b[0m\n\u001b[0;32m     10\u001b[0m \u001b[38;5;28;01mfor\u001b[39;00m i \u001b[38;5;129;01min\u001b[39;00m \u001b[38;5;28mrange\u001b[39m(n):\n\u001b[0;32m     11\u001b[0m     x,y \u001b[38;5;241m=\u001b[39m \u001b[38;5;28mmap\u001b[39m(\u001b[38;5;28mint\u001b[39m, \u001b[38;5;28minput\u001b[39m()\u001b[38;5;241m.\u001b[39msplit())\n\u001b[1;32m---> 12\u001b[0m     \u001b[38;5;28;01mif\u001b[39;00m \u001b[43mminy\u001b[49m\u001b[43m \u001b[49m\u001b[38;5;241;43m>\u001b[39;49m\u001b[43m \u001b[49m\u001b[43my\u001b[49m:\n\u001b[0;32m     13\u001b[0m         minx \u001b[38;5;241m=\u001b[39m x; miny \u001b[38;5;241m=\u001b[39m y\n\u001b[0;32m     15\u001b[0m \u001b[38;5;28mprint\u001b[39m(minx, miny)\n",
      "\u001b[1;31mTypeError\u001b[0m: '>' not supported between instances of 'NoneType' and 'int'"
     ]
    }
   ],
   "source": [
    "# lv1 Tren del Fin dle mundo\n",
    "\n",
    "# 세상에서 가장 남쪽에 있는 철도\n",
    "# x축의 양의 방향을 동쪽으로 하는 2차원 좌표평면\n",
    "# 가장 남쪽에 있는 점의 x,y 좌표\n",
    "\n",
    "n = int(input())\n",
    "minx, miny = 1000,1000\n",
    "\n",
    "for i in range(n):\n",
    "    x,y = map(int, input().split())\n",
    "    if miny > y:\n",
    "        minx = x; miny = y\n",
    "\n",
    "print(minx, miny)\n"
   ]
  },
  {
   "cell_type": "markdown",
   "metadata": {},
   "source": [
    "최소 최대 값을 입력 할수있는 최대 값으로 설정했더니, 오답 처리 된거 같다 None 으로 다시 "
   ]
  },
  {
   "cell_type": "code",
   "execution_count": null,
   "metadata": {},
   "outputs": [
    {
     "ename": "TypeError",
     "evalue": "'>' not supported between instances of 'NoneType' and 'int'",
     "output_type": "error",
     "traceback": [
      "\u001b[1;31m---------------------------------------------------------------------------\u001b[0m",
      "\u001b[1;31mTypeError\u001b[0m                                 Traceback (most recent call last)",
      "Cell \u001b[1;32mIn[4], line 12\u001b[0m\n\u001b[0;32m     10\u001b[0m \u001b[38;5;28;01mfor\u001b[39;00m i \u001b[38;5;129;01min\u001b[39;00m \u001b[38;5;28mrange\u001b[39m(n):\n\u001b[0;32m     11\u001b[0m     x,y \u001b[38;5;241m=\u001b[39m \u001b[38;5;28mmap\u001b[39m(\u001b[38;5;28mint\u001b[39m, \u001b[38;5;28minput\u001b[39m()\u001b[38;5;241m.\u001b[39msplit())\n\u001b[1;32m---> 12\u001b[0m     \u001b[38;5;28;01mif\u001b[39;00m \u001b[43mminy\u001b[49m\u001b[43m \u001b[49m\u001b[38;5;241;43m>\u001b[39;49m\u001b[43m \u001b[49m\u001b[43my\u001b[49m \u001b[38;5;129;01mor\u001b[39;00m miny \u001b[38;5;129;01mis\u001b[39;00m \u001b[38;5;28;01mNone\u001b[39;00m:    \u001b[38;5;66;03m# None 에 대한 조건 추가\u001b[39;00m\n\u001b[0;32m     13\u001b[0m         minx \u001b[38;5;241m=\u001b[39m x; miny \u001b[38;5;241m=\u001b[39m y\n\u001b[0;32m     15\u001b[0m \u001b[38;5;28mprint\u001b[39m(minx, miny)\n",
      "\u001b[1;31mTypeError\u001b[0m: '>' not supported between instances of 'NoneType' and 'int'"
     ]
    }
   ],
   "source": [
    "# lv1 Tren del Fin dle mundo\n",
    "\n",
    "# 세상에서 가장 남쪽에 있는 철도\n",
    "# x축의 양의 방향을 동쪽으로 하는 2차원 좌표평면\n",
    "# 가장 남쪽에 있는 점의 x,y 좌표\n",
    "\n",
    "n = int(input())\n",
    "minx, miny = None, None\n",
    "\n",
    "for i in range(n):\n",
    "    x,y = map(int, input().split())\n",
    "    if miny > y or miny is None:    # None 에 대한 조건 추가\n",
    "        minx = x; miny = y\n",
    "\n",
    "print(minx, miny)\n"
   ]
  },
  {
   "cell_type": "code",
   "execution_count": 7,
   "metadata": {},
   "outputs": [
    {
     "name": "stdout",
     "output_type": "stream",
     "text": [
      "6 -3\n"
     ]
    }
   ],
   "source": [
    "# lv1 Tren del Fin dle mundo\n",
    "\n",
    "# 세상에서 가장 남쪽에 있는 철도\n",
    "# x축의 양의 방향을 동쪽으로 하는 2차원 좌표평면\n",
    "# 가장 남쪽에 있는 점의 x,y 좌표\n",
    "\n",
    "n = int(input())\n",
    "minx, miny = None, None\n",
    "\n",
    "for i in range(n):\n",
    "    x,y = map(int, input().split())\n",
    "    if miny is None or miny > y:    # None 에 대한 조건 추가    # 왁 None 에 대한 조건이 먼저 와야 int 에러 안남 주의 *** \n",
    "        minx = x; miny = y\n",
    "\n",
    "print(minx, miny)\n"
   ]
  },
  {
   "cell_type": "code",
   "execution_count": 15,
   "metadata": {},
   "outputs": [
    {
     "name": "stdout",
     "output_type": "stream",
     "text": [
      "1\n"
     ]
    }
   ],
   "source": [
    "# lv1 연탄배달의 시작\n",
    "# 산타는 마을들 중 거리가 가장 가까운 두 마을을 먼저 방문할때, 처음 방문할 가능성이 있는 서로 다른 두 마을 조합의 수 \n",
    "\n",
    "n = int(input())\n",
    "\n",
    "arr = list(map(int, input().split()))\n",
    "dist = [None for _ in range(n+1)]\n",
    "mindist = None\n",
    "ret = 0\n",
    "\n",
    "for i in range(n-1):\n",
    "    dist[i] = arr[i+1]-arr[i]\n",
    "    if mindist is None or mindist > dist[i]:\n",
    "        mindist = dist[i]\n",
    "\n",
    "for num in dist:\n",
    "    if num == mindist:\n",
    "        ret +=1\n",
    "\n",
    "print(ret)"
   ]
  },
  {
   "cell_type": "code",
   "execution_count": 20,
   "metadata": {},
   "outputs": [
    {
     "name": "stdout",
     "output_type": "stream",
     "text": [
      "44\n"
     ]
    }
   ],
   "source": [
    "# lv1 위험한 효도 무궁화 꽃이 피었습니다 \n",
    "# 거리 d 처음 a초간 뒤를 보고있고 b초간 앞을 봄 1초에 거리 1만큼 이동\n",
    "\n",
    "# a초간 1초에 1만큼 이동 ㅇㅇ\n",
    "\n",
    "a, b, d = map(int, input().split())\n",
    "\n",
    "time = 0\n",
    "dist = 0\n",
    "\n",
    "# 전진\n",
    "time += (d//a) * a\n",
    "time += (d//a)*b\n",
    "time += d - ((d//a)*a)\n",
    "# 터치 \n",
    "\n",
    "# 후진\n",
    "time += (d//b)*b\n",
    "time += (d//b)*a\n",
    "time += d - ((d//b)*b)\n",
    "\n",
    "print(time)"
   ]
  },
  {
   "cell_type": "code",
   "execution_count": null,
   "metadata": {},
   "outputs": [],
   "source": [
    "# lv1 위험한 효도 무궁화 꽃이 피었습니다 \n",
    "# 거리 d 처음 a초간 뒤를 보고있고 b초간 앞을 봄 1초에 거리 1만큼 이동\n",
    "\n",
    "# a초간 1초에 1만큼 이동 ㅇㅇ\n",
    "\n",
    "a, b, d = map(int, input().split())\n",
    "\n",
    "time = 0\n",
    "dist = 0\n",
    "\n",
    "# 전진\n",
    "time += (d//a) * a\n",
    "time += (d//a)*b\n",
    "time += d - ((d//a)*a)\n",
    "# 터치 \n",
    "\n",
    "# 후진\n",
    "time += (d//b)*b\n",
    "time += (d//b)*a\n",
    "time += d - ((d//b)*b)\n",
    "\n",
    "print(time)"
   ]
  },
  {
   "cell_type": "code",
   "execution_count": null,
   "metadata": {},
   "outputs": [
    {
     "name": "stdout",
     "output_type": "stream",
     "text": [
      "10\n"
     ]
    }
   ],
   "source": [
    "a, b, d = map(int, input().split())\n",
    "\n",
    "time = 0\n",
    "dist = 0\n",
    "\n",
    "# 거리 d에 도달할 때까지 반복\n",
    "while dist < d:\n",
    "    # 뒤를 보고 있을 때 (a초 동안 이동)\n",
    "    if dist + a >= d:  # d에 도달하거나 넘어설 경우 남은 거리만큼 이동\n",
    "        time += d - dist\n",
    "        dist = d\n",
    "    else:\n",
    "        dist += a\n",
    "        time += a\n",
    "    \n",
    "    # 앞을 보고 있을 때 (b초 동안 정지)\n",
    "    if dist < d:  # 아직 d에 도달하지 않았다면 정지 시간 추가\n",
    "        time += b\n",
    "\n",
    "\n",
    "\n",
    "print(time)"
   ]
  },
  {
   "cell_type": "code",
   "execution_count": 1,
   "metadata": {},
   "outputs": [
    {
     "name": "stdout",
     "output_type": "stream",
     "text": [
      "Case #1: 2\n",
      "Case #2: 5\n",
      "Case #3: 7\n",
      "Case #4: 17\n",
      "Case #5: 7\n"
     ]
    }
   ],
   "source": [
    "# 나무출력\n",
    "\n",
    "n = int(input())\n",
    "\n",
    "for i in range(n):\n",
    "    a, b = map(int, input().split())\n",
    "    print(f\"Case #{i+1}: {a+b}\")\n"
   ]
  },
  {
   "cell_type": "code",
   "execution_count": 5,
   "metadata": {},
   "outputs": [
    {
     "name": "stdout",
     "output_type": "stream",
     "text": [
      "same\n"
     ]
    }
   ],
   "source": [
    "a,b = map(int, input().split())\n",
    "\n",
    "if a>b:\n",
    "    print('A')\n",
    "elif a<b:\n",
    "    print('B')\n",
    "elif a==b:\n",
    "    print('same')"
   ]
  },
  {
   "cell_type": "code",
   "execution_count": null,
   "metadata": {},
   "outputs": [],
   "source": []
  },
  {
   "cell_type": "code",
   "execution_count": 16,
   "metadata": {},
   "outputs": [
    {
     "ename": "ValueError",
     "evalue": "invalid literal for int() with base 10: ' '",
     "output_type": "error",
     "traceback": [
      "\u001b[1;31m---------------------------------------------------------------------------\u001b[0m",
      "\u001b[1;31mValueError\u001b[0m                                Traceback (most recent call last)",
      "Cell \u001b[1;32mIn[16], line 7\u001b[0m\n\u001b[0;32m      4\u001b[0m arr \u001b[38;5;241m=\u001b[39m [[\u001b[38;5;241m0\u001b[39m \u001b[38;5;28;01mfor\u001b[39;00m _ \u001b[38;5;129;01min\u001b[39;00m \u001b[38;5;28mrange\u001b[39m(m)] \u001b[38;5;28;01mfor\u001b[39;00m _ \u001b[38;5;129;01min\u001b[39;00m \u001b[38;5;28mrange\u001b[39m(n)]\n\u001b[0;32m      6\u001b[0m \u001b[38;5;28;01mfor\u001b[39;00m i \u001b[38;5;129;01min\u001b[39;00m \u001b[38;5;28mrange\u001b[39m(n):\n\u001b[1;32m----> 7\u001b[0m         arr[i] \u001b[38;5;241m=\u001b[39m \u001b[38;5;28;43mlist\u001b[39;49m\u001b[43m(\u001b[49m\u001b[38;5;28;43mmap\u001b[39;49m\u001b[43m(\u001b[49m\u001b[38;5;28;43mint\u001b[39;49m\u001b[43m,\u001b[49m\u001b[43m \u001b[49m\u001b[38;5;28;43minput\u001b[39;49m\u001b[43m(\u001b[49m\u001b[43m)\u001b[49m\u001b[38;5;241;43m.\u001b[39;49m\u001b[43mstrip\u001b[49m\u001b[43m(\u001b[49m\u001b[43m)\u001b[49m\u001b[43m)\u001b[49m\u001b[43m)\u001b[49m\n\u001b[0;32m     10\u001b[0m \u001b[38;5;28mprint\u001b[39m(arr)\n",
      "\u001b[1;31mValueError\u001b[0m: invalid literal for int() with base 10: ' '"
     ]
    }
   ],
   "source": [
    "# lv2 나무공격\n",
    "\n",
    "n,m = map(int, input().split())\n",
    "arr = [[0 for _ in range(m)] for _ in range(n)]\n",
    "\n",
    "for i in range(n):\n",
    "        arr[i] = list(map(int, input().strip()))\n",
    "\n",
    "\n",
    "print(arr)"
   ]
  },
  {
   "cell_type": "code",
   "execution_count": 20,
   "metadata": {},
   "outputs": [
    {
     "name": "stdout",
     "output_type": "stream",
     "text": [
      "[[1, 2, 3, 4], [], []]\n"
     ]
    }
   ],
   "source": [
    "n, m = map(int, input().split())\n",
    "\n",
    "# n행 m열의 2D 리스트 초기화\n",
    "arr = []\n",
    "\n",
    "for i in range(n):\n",
    "    # 각 줄을 입력받고, 이를 정수 리스트로 변환\n",
    "    row = list(map(int, input().strip()))\n",
    "    arr.append(row)\n",
    "\n",
    "# 결과 출력\n",
    "print(arr)\n"
   ]
  },
  {
   "cell_type": "code",
   "execution_count": null,
   "metadata": {},
   "outputs": [],
   "source": []
  }
 ],
 "metadata": {
  "kernelspec": {
   "display_name": "Python 3",
   "language": "python",
   "name": "python3"
  },
  "language_info": {
   "codemirror_mode": {
    "name": "ipython",
    "version": 3
   },
   "file_extension": ".py",
   "mimetype": "text/x-python",
   "name": "python",
   "nbconvert_exporter": "python",
   "pygments_lexer": "ipython3",
   "version": "3.11.9"
  }
 },
 "nbformat": 4,
 "nbformat_minor": 2
}
