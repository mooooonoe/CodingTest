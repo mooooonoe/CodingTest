{
 "cells": [
  {
   "cell_type": "code",
   "execution_count": null,
   "metadata": {},
   "outputs": [],
   "source": [
    "# lv1 메리크리스마스\n",
    "print('##  ##     ##     #####    #####    ##  ##            ##  ##            ##   ##    ##      ####')\n",
    "print('##  ##    ####    ##  ##   ##  ##   ##  ##            ##  ##            ### ###   ####    ##  ##')\n",
    "print('##  ##   ##  ##   ##  ##   ##  ##   ##  ##             ####             #######  ##  ##   ##')\n",
    "print('######   ######   #####    #####     ####               ##     ######   ## # ##  ######    ####')\n",
    "print('##  ##   ##  ##   ##       ##         ##               ####             ##   ##  ##  ##       ##')\n",
    "print('##  ##   ##  ##   ##       ##         ##              ##  ##            ##   ##  ##  ##   ##  ##')\n",
    "print('##  ##   ##  ##   ##       ##         ##              ##  ##            ##   ##  ##  ##    ####')\n"
   ]
  },
  {
   "cell_type": "code",
   "execution_count": null,
   "metadata": {},
   "outputs": [],
   "source": [
    "# lv1 개표\n",
    "n = int(input())\n",
    "\n",
    "for _ in range(n):\n",
    "    num = int(input())\n",
    "    moc = num//5\n",
    "    mod = num-(5*moc)\n",
    "    \n",
    "    for _ in range(1, moc):\n",
    "        print('++++', end=' ')\n",
    "    \n",
    "    for _ in range(1, moc):\n",
    "        print('|',end='')\n",
    "    \n",
    "    print()"
   ]
  },
  {
   "cell_type": "code",
   "execution_count": null,
   "metadata": {},
   "outputs": [],
   "source": [
    "# lv1 Tren del Fin dle mundo\n",
    "\n",
    "# 세상에서 가장 남쪽에 있는 철도\n",
    "# x축의 양의 방향을 동쪽으로 하는 2차원 좌표평면\n",
    "# 가장 남쪽에 있는 점의 x,y 좌표\n",
    "\n",
    "n = int(input())\n",
    "minx, miny = 1000,1000\n",
    "\n",
    "for i in range(n):\n",
    "    x,y = map(int, input().split())\n",
    "    if miny > y:\n",
    "        minx = x; miny = y\n",
    "\n",
    "print(minx, miny)\n"
   ]
  },
  {
   "cell_type": "markdown",
   "metadata": {},
   "source": [
    "최소 최대 값을 입력 할수있는 최대 값으로 설정했더니, 오답 처리 된거 같다 None 으로 다시 "
   ]
  },
  {
   "cell_type": "code",
   "execution_count": null,
   "metadata": {},
   "outputs": [],
   "source": [
    "# lv1 Tren del Fin dle mundo\n",
    "\n",
    "# 세상에서 가장 남쪽에 있는 철도\n",
    "# x축의 양의 방향을 동쪽으로 하는 2차원 좌표평면\n",
    "# 가장 남쪽에 있는 점의 x,y 좌표\n",
    "\n",
    "n = int(input())\n",
    "minx, miny = None, None\n",
    "\n",
    "for i in range(n):\n",
    "    x,y = map(int, input().split())\n",
    "    if miny > y or miny is None:    # None 에 대한 조건 추가\n",
    "        minx = x; miny = y\n",
    "\n",
    "print(minx, miny)\n"
   ]
  },
  {
   "cell_type": "code",
   "execution_count": null,
   "metadata": {},
   "outputs": [],
   "source": [
    "# lv1 Tren del Fin dle mundo\n",
    "\n",
    "# 세상에서 가장 남쪽에 있는 철도\n",
    "# x축의 양의 방향을 동쪽으로 하는 2차원 좌표평면\n",
    "# 가장 남쪽에 있는 점의 x,y 좌표\n",
    "\n",
    "n = int(input())\n",
    "minx, miny = None, None\n",
    "\n",
    "for i in range(n):\n",
    "    x,y = map(int, input().split())\n",
    "    if miny is None or miny > y:    # None 에 대한 조건 추가    # 왁 None 에 대한 조건이 먼저 와야 int 에러 안남 주의 *** \n",
    "        minx = x; miny = y\n",
    "\n",
    "print(minx, miny)\n"
   ]
  },
  {
   "cell_type": "code",
   "execution_count": null,
   "metadata": {},
   "outputs": [],
   "source": [
    "# lv1 연탄배달의 시작\n",
    "# 산타는 마을들 중 거리가 가장 가까운 두 마을을 먼저 방문할때, 처음 방문할 가능성이 있는 서로 다른 두 마을 조합의 수 \n",
    "\n",
    "n = int(input())\n",
    "\n",
    "arr = list(map(int, input().split()))\n",
    "dist = [None for _ in range(n+1)]\n",
    "mindist = None\n",
    "ret = 0\n",
    "\n",
    "for i in range(n-1):\n",
    "    dist[i] = arr[i+1]-arr[i]\n",
    "    if mindist is None or mindist > dist[i]:\n",
    "        mindist = dist[i]\n",
    "\n",
    "for num in dist:\n",
    "    if num == mindist:\n",
    "        ret +=1\n",
    "\n",
    "print(ret)"
   ]
  },
  {
   "cell_type": "code",
   "execution_count": null,
   "metadata": {},
   "outputs": [],
   "source": [
    "# lv1 위험한 효도 무궁화 꽃이 피었습니다 \n",
    "# 거리 d 처음 a초간 뒤를 보고있고 b초간 앞을 봄 1초에 거리 1만큼 이동\n",
    "\n",
    "# a초간 1초에 1만큼 이동 ㅇㅇ\n",
    "\n",
    "a, b, d = map(int, input().split())\n",
    "\n",
    "time = 0\n",
    "dist = 0\n",
    "\n",
    "# 전진\n",
    "time += (d//a) * a\n",
    "time += (d//a)*b\n",
    "time += d - ((d//a)*a)\n",
    "# 터치 \n",
    "\n",
    "# 후진\n",
    "time += (d//b)*b\n",
    "time += (d//b)*a\n",
    "time += d - ((d//b)*b)\n",
    "\n",
    "print(time)"
   ]
  },
  {
   "cell_type": "code",
   "execution_count": null,
   "metadata": {},
   "outputs": [],
   "source": [
    "# lv1 위험한 효도 무궁화 꽃이 피었습니다 \n",
    "# 거리 d 처음 a초간 뒤를 보고있고 b초간 앞을 봄 1초에 거리 1만큼 이동\n",
    "\n",
    "# a초간 1초에 1만큼 이동 ㅇㅇ\n",
    "\n",
    "a, b, d = map(int, input().split())\n",
    "\n",
    "time = 0\n",
    "dist = 0\n",
    "\n",
    "# 전진\n",
    "time += (d//a) * a\n",
    "time += (d//a)*b\n",
    "time += d - ((d//a)*a)\n",
    "# 터치 \n",
    "\n",
    "# 후진\n",
    "time += (d//b)*b\n",
    "time += (d//b)*a\n",
    "time += d - ((d//b)*b)\n",
    "\n",
    "print(time)"
   ]
  },
  {
   "cell_type": "code",
   "execution_count": null,
   "metadata": {},
   "outputs": [],
   "source": [
    "a, b, d = map(int, input().split())\n",
    "\n",
    "time = 0\n",
    "dist = 0\n",
    "\n",
    "# 거리 d에 도달할 때까지 반복\n",
    "while dist < d:\n",
    "    # 뒤를 보고 있을 때 (a초 동안 이동)\n",
    "    if dist + a >= d:  # d에 도달하거나 넘어설 경우 남은 거리만큼 이동\n",
    "        time += d - dist\n",
    "        dist = d\n",
    "    else:\n",
    "        dist += a\n",
    "        time += a\n",
    "    \n",
    "    # 앞을 보고 있을 때 (b초 동안 정지)\n",
    "    if dist < d:  # 아직 d에 도달하지 않았다면 정지 시간 추가\n",
    "        time += b\n",
    "\n",
    "\n",
    "\n",
    "print(time)"
   ]
  },
  {
   "cell_type": "code",
   "execution_count": null,
   "metadata": {},
   "outputs": [],
   "source": [
    "# 나무출력\n",
    "\n",
    "n = int(input())\n",
    "\n",
    "for i in range(n):\n",
    "    a, b = map(int, input().split())\n",
    "    print(f\"Case #{i+1}: {a+b}\")\n"
   ]
  },
  {
   "cell_type": "code",
   "execution_count": null,
   "metadata": {},
   "outputs": [],
   "source": [
    "a,b = map(int, input().split())\n",
    "\n",
    "if a>b:\n",
    "    print('A')\n",
    "elif a<b:\n",
    "    print('B')\n",
    "elif a==b:\n",
    "    print('same')"
   ]
  },
  {
   "cell_type": "code",
   "execution_count": null,
   "metadata": {},
   "outputs": [
    {
     "name": "stdout",
     "output_type": "stream",
     "text": [
      "[[0, 0, 1, 0, 0, 0, 1, 0], [0, 0, 0, 1, 0, 0, 0, 0], [0, 0, 1, 0, 0, 1, 1, 0], [0, 0, 0, 0, 1, 0, 0, 0], [0, 0, 0, 0, 0, 0, 0, 0], [0, 0, 0, 1, 0, 0, 0, 0]]\n"
     ]
    }
   ],
   "source": [
    "# lv2 나무공격\n",
    "\n",
    "n, m = map(int, input().split())\n",
    "arr =[None for _ in range(n)]\n",
    "\n",
    "for i in range(n):\n",
    "    tmp = list(map(int, input().split()))\n",
    "    arr[i] = tmp\n",
    "\n",
    "\n",
    "l1, r1 = map(int, input().split())\n",
    "l2, r2 = map(int, input().split())\n",
    "\n",
    "ret_l = int(((l1-l2) **2)**0.5)\n",
    "ret_r = int(((r1-r2) **2)**0.5)\n",
    "\n",
    "\n",
    "for i in range(n):\n",
    "    for j in range(l1-1, l2-1):\n",
    "        if arr[i][j] == 1:\n",
    "            arr[i][j] = 0\n",
    "\n",
    "\n",
    "    \n",
    "\n",
    "\n"
   ]
  },
  {
   "cell_type": "code",
   "execution_count": 30,
   "metadata": {},
   "outputs": [],
   "source": [
    "\n",
    "l1, r1 = map(int, input().split())\n",
    "l2, r2 = map(int, input().split())\n",
    "\n",
    "ret_l = l1 if l1<l2 else l2\n",
    "ret_r = r1 if r1>r2 else r2\n",
    "\n",
    "\n",
    "for i in range(n):\n",
    "    for j in range(ret_l, ret_r):\n",
    "        if arr[i][j] == 1:\n",
    "            arr[i][j] = 0\n",
    "\n"
   ]
  },
  {
   "cell_type": "code",
   "execution_count": 31,
   "metadata": {},
   "outputs": [
    {
     "name": "stdout",
     "output_type": "stream",
     "text": [
      "2\n"
     ]
    }
   ],
   "source": [
    "total = 0\n",
    "for i in range(n):\n",
    "    for j in range(m):\n",
    "        if arr[i][j] == 1:\n",
    "            total +=1\n",
    "\n",
    "print(total)"
   ]
  },
  {
   "cell_type": "code",
   "execution_count": 19,
   "metadata": {},
   "outputs": [
    {
     "name": "stdout",
     "output_type": "stream",
     "text": [
      "4\n"
     ]
    }
   ],
   "source": [
    "a = 4\n",
    "b = 8\n",
    "\n",
    "ret = int(((a-b) **2)**0.5)\n",
    "print(ret)"
   ]
  },
  {
   "cell_type": "code",
   "execution_count": 33,
   "metadata": {},
   "outputs": [
    {
     "name": "stdout",
     "output_type": "stream",
     "text": [
      "8\n"
     ]
    }
   ],
   "source": [
    "# lv2 나무공격\n",
    "\n",
    "n, m = map(int, input().split())\n",
    "arr =[None for _ in range(n)]\n",
    "\n",
    "for i in range(n):\n",
    "    tmp = list(map(int, input().split()))\n",
    "    arr[i] = tmp\n",
    "\n",
    "\n",
    "l1, r1 = map(int, input().split())\n",
    "l2, r2 = map(int, input().split())\n",
    "\n",
    "ret_l = l1 if l1<l2 else l2\n",
    "ret_r = r1 if r1>r2 else r2\n",
    "\n",
    "\n",
    "for i in range(n):\n",
    "    for j in range(ret_l, ret_r):\n",
    "        if arr[i][j] == 1:\n",
    "            arr[i][j] = 0\n",
    "\n",
    "\n",
    "total = 0\n",
    "for i in range(n):\n",
    "    for j in range(m):\n",
    "        if arr[i][j] == 1:\n",
    "            total +=1\n",
    "\n",
    "print(total)\n",
    "    \n",
    "\n",
    "\n"
   ]
  },
  {
   "cell_type": "markdown",
   "metadata": {},
   "source": [
    "으 문제를 잘 못 이해함.."
   ]
  },
  {
   "cell_type": "code",
   "execution_count": null,
   "metadata": {},
   "outputs": [
    {
     "name": "stdout",
     "output_type": "stream",
     "text": [
      "55\n"
     ]
    }
   ],
   "source": [
    "# lv2 나무공격\n",
    "\n",
    "n, m = map(int, input().split())\n",
    "arr =[None for _ in range(n)]\n",
    "\n",
    "for i in range(n):\n",
    "    tmp = list(map(int, input().split()))\n",
    "    arr[i] = tmp\n",
    "\n",
    "\n",
    "l1, r1 = map(int, input().split())\n",
    "l2, r2 = map(int, input().split())\n",
    "\n",
    "for i in range(l1-1,r1):\n",
    "    for j in range(m):\n",
    "        if arr[i][j] == 1:\n",
    "            arr[i][j] = 0\n",
    "            break\n",
    "\n",
    "for i in range(l2-1, r2):\n",
    "    for j in range(m):\n",
    "        if arr[i][j] == 1:\n",
    "            arr[i][j] = 0\n",
    "            break\n",
    "\n",
    "\n",
    "total = 0\n",
    "for i in range(n):\n",
    "    for j in range(m):\n",
    "        if arr[i][j] == 1:\n",
    "            total +=1\n",
    "\n",
    "print(total)"
   ]
  },
  {
   "cell_type": "code",
   "execution_count": null,
   "metadata": {},
   "outputs": [
    {
     "name": "stdout",
     "output_type": "stream",
     "text": [
      "(()())\n"
     ]
    }
   ],
   "source": [
    "# lv2 yeah but how? 균형잡힌 괄호 문자열\n",
    "\n",
    "string = input()\n",
    "print(string)\n",
    "\n",
    "print(string[0], end='')\n",
    "\n",
    "for i in range(1, len(string)):\n",
    "    if string[i] == string[i-1]:\n",
    "        print(string[i], end='')\n",
    "    elif string[i] == ')' and string[i-1] == '(':\n",
    "        print('1', end='')\n",
    "        print(')', end='')\n",
    "    elif string[i]=='(' and string[i-1] == ')':\n",
    "        print('+', end='')\n",
    "        print('(',end='')\n",
    "\n",
    "    \n",
    "\n",
    "\n"
   ]
  },
  {
   "cell_type": "code",
   "execution_count": 46,
   "metadata": {},
   "outputs": [
    {
     "name": "stdout",
     "output_type": "stream",
     "text": [
      "((1)+(1))"
     ]
    }
   ],
   "source": [
    "print(string[0], end='')\n",
    "\n",
    "for i in range(1, len(string)):\n",
    "    if string[i] == string[i-1]:\n",
    "        print(string[i], end='')\n",
    "    elif string[i] == ')' and string[i-1] == '(':\n",
    "        print('1', end='')\n",
    "        print(')', end='')\n",
    "    elif string[i]=='(' and string[i-1] == ')':\n",
    "        print('+', end='')\n",
    "        print('(',end='')\n",
    "\n",
    "    \n"
   ]
  },
  {
   "cell_type": "code",
   "execution_count": null,
   "metadata": {},
   "outputs": [
    {
     "ename": "IndexError",
     "evalue": "list assignment index out of range",
     "output_type": "error",
     "traceback": [
      "\u001b[1;31m---------------------------------------------------------------------------\u001b[0m",
      "\u001b[1;31mIndexError\u001b[0m                                Traceback (most recent call last)",
      "Cell \u001b[1;32mIn[58], line 13\u001b[0m\n\u001b[0;32m     11\u001b[0m             \u001b[38;5;28;01mcontinue\u001b[39;00m\n\u001b[0;32m     12\u001b[0m         \u001b[38;5;28;01melse\u001b[39;00m:\n\u001b[1;32m---> 13\u001b[0m             \u001b[43marr\u001b[49m\u001b[43m[\u001b[49m\u001b[43mi\u001b[49m\u001b[43m]\u001b[49m\u001b[43m[\u001b[49m\u001b[43mj\u001b[49m\u001b[43m]\u001b[49m \u001b[38;5;241m=\u001b[39m tmp[j]\n\u001b[0;32m     16\u001b[0m \u001b[38;5;28mprint\u001b[39m(arr)\n",
      "\u001b[1;31mIndexError\u001b[0m: list assignment index out of range"
     ]
    }
   ],
   "source": [
    "# lv3 # 나무 섭지 # 나 무섭지 \n",
    "\n",
    "n,m = map(int, input().split())\n",
    "arr =[['.' for _ in range(n)]\n",
    "        for _ in range(m)]\n",
    "\n",
    "for i in range(n):\n",
    "    tmp = input()\n",
    "    for j in range(m):\n",
    "        if tmp[j] == '.':\n",
    "            continue\n",
    "        else:\n",
    "            arr[i][j] = tmp[j]\n",
    "\n",
    "\n",
    "print(arr)"
   ]
  },
  {
   "cell_type": "code",
   "execution_count": null,
   "metadata": {},
   "outputs": [],
   "source": [
    "arr[1][1] = 'hi'\n",
    "print(arr)"
   ]
  },
  {
   "cell_type": "code",
   "execution_count": null,
   "metadata": {},
   "outputs": [],
   "source": [
    "tmp = '.....D'\n",
    "\n",
    "for j in range()"
   ]
  },
  {
   "cell_type": "code",
   "execution_count": 55,
   "metadata": {},
   "outputs": [],
   "source": [
    "arr = [[' ' for _ in range(3)] \n",
    "       for _ in range(3)]"
   ]
  },
  {
   "cell_type": "code",
   "execution_count": 56,
   "metadata": {},
   "outputs": [
    {
     "name": "stdout",
     "output_type": "stream",
     "text": [
      "[[' ', ' ', ' '], [' ', ' ', ' '], [' ', ' ', ' ']]\n"
     ]
    }
   ],
   "source": [
    "print(arr)"
   ]
  },
  {
   "cell_type": "code",
   "execution_count": null,
   "metadata": {},
   "outputs": [],
   "source": []
  }
 ],
 "metadata": {
  "kernelspec": {
   "display_name": "Python 3",
   "language": "python",
   "name": "python3"
  },
  "language_info": {
   "codemirror_mode": {
    "name": "ipython",
    "version": 3
   },
   "file_extension": ".py",
   "mimetype": "text/x-python",
   "name": "python",
   "nbconvert_exporter": "python",
   "pygments_lexer": "ipython3",
   "version": "3.11.9"
  }
 },
 "nbformat": 4,
 "nbformat_minor": 2
}
