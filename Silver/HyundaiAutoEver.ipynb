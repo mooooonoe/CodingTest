{
 "cells": [
  {
   "cell_type": "code",
   "execution_count": 1,
   "metadata": {},
   "outputs": [
    {
     "name": "stdout",
     "output_type": "stream",
     "text": [
      "##  ##     ##     #####    #####    ##  ##            ##  ##            ##   ##    ##      ####\n",
      "##  ##    ####    ##  ##   ##  ##   ##  ##            ##  ##            ### ###   ####    ##  ##\n",
      "##  ##   ##  ##   ##  ##   ##  ##   ##  ##             ####             #######  ##  ##   ##\n",
      "######   ######   #####    #####     ####               ##     ######   ## # ##  ######    ####\n",
      "##  ##   ##  ##   ##       ##         ##               ####             ##   ##  ##  ##       ##\n",
      "##  ##   ##  ##   ##       ##         ##              ##  ##            ##   ##  ##  ##   ##  ##\n",
      "##  ##   ##  ##   ##       ##         ##              ##  ##            ##   ##  ##  ##    ####\n"
     ]
    }
   ],
   "source": [
    "# lv1 메리크리스마스\n",
    "print('##  ##     ##     #####    #####    ##  ##            ##  ##            ##   ##    ##      ####')\n",
    "print('##  ##    ####    ##  ##   ##  ##   ##  ##            ##  ##            ### ###   ####    ##  ##')\n",
    "print('##  ##   ##  ##   ##  ##   ##  ##   ##  ##             ####             #######  ##  ##   ##')\n",
    "print('######   ######   #####    #####     ####               ##     ######   ## # ##  ######    ####')\n",
    "print('##  ##   ##  ##   ##       ##         ##               ####             ##   ##  ##  ##       ##')\n",
    "print('##  ##   ##  ##   ##       ##         ##              ##  ##            ##   ##  ##  ##   ##  ##')\n",
    "print('##  ##   ##  ##   ##       ##         ##              ##  ##            ##   ##  ##  ##    ####')\n"
   ]
  },
  {
   "cell_type": "code",
   "execution_count": 4,
   "metadata": {},
   "outputs": [
    {
     "name": "stdout",
     "output_type": "stream",
     "text": [
      "++++ ++++ ||\n",
      "\n",
      "++++ |\n"
     ]
    }
   ],
   "source": [
    "# lv1 개표\n",
    "n = int(input())\n",
    "\n",
    "for _ in range(n):\n",
    "    num = int(input())\n",
    "    moc = num//5\n",
    "    mod = num-(5*moc)\n",
    "    \n",
    "    for _ in range(1, moc):\n",
    "        print('++++', end=' ')\n",
    "    \n",
    "    for _ in range(1, moc):\n",
    "        print('|',end='')\n",
    "    \n",
    "    print()"
   ]
  },
  {
   "cell_type": "code",
   "execution_count": null,
   "metadata": {},
   "outputs": [
    {
     "ename": "TypeError",
     "evalue": "'>' not supported between instances of 'NoneType' and 'int'",
     "output_type": "error",
     "traceback": [
      "\u001b[1;31m---------------------------------------------------------------------------\u001b[0m",
      "\u001b[1;31mTypeError\u001b[0m                                 Traceback (most recent call last)",
      "Cell \u001b[1;32mIn[2], line 12\u001b[0m\n\u001b[0;32m     10\u001b[0m \u001b[38;5;28;01mfor\u001b[39;00m i \u001b[38;5;129;01min\u001b[39;00m \u001b[38;5;28mrange\u001b[39m(n):\n\u001b[0;32m     11\u001b[0m     x,y \u001b[38;5;241m=\u001b[39m \u001b[38;5;28mmap\u001b[39m(\u001b[38;5;28mint\u001b[39m, \u001b[38;5;28minput\u001b[39m()\u001b[38;5;241m.\u001b[39msplit())\n\u001b[1;32m---> 12\u001b[0m     \u001b[38;5;28;01mif\u001b[39;00m \u001b[43mminy\u001b[49m\u001b[43m \u001b[49m\u001b[38;5;241;43m>\u001b[39;49m\u001b[43m \u001b[49m\u001b[43my\u001b[49m:\n\u001b[0;32m     13\u001b[0m         minx \u001b[38;5;241m=\u001b[39m x; miny \u001b[38;5;241m=\u001b[39m y\n\u001b[0;32m     15\u001b[0m \u001b[38;5;28mprint\u001b[39m(minx, miny)\n",
      "\u001b[1;31mTypeError\u001b[0m: '>' not supported between instances of 'NoneType' and 'int'"
     ]
    }
   ],
   "source": [
    "# lv1 Tren del Fin dle mundo\n",
    "\n",
    "# 세상에서 가장 남쪽에 있는 철도\n",
    "# x축의 양의 방향을 동쪽으로 하는 2차원 좌표평면\n",
    "# 가장 남쪽에 있는 점의 x,y 좌표\n",
    "\n",
    "n = int(input())\n",
    "minx, miny = 1000,1000\n",
    "\n",
    "for i in range(n):\n",
    "    x,y = map(int, input().split())\n",
    "    if miny > y:\n",
    "        minx = x; miny = y\n",
    "\n",
    "print(minx, miny)\n"
   ]
  },
  {
   "cell_type": "markdown",
   "metadata": {},
   "source": [
    "최소 최대 값을 입력 할수있는 최대 값으로 설정했더니, 오답 처리 된거 같다 None 으로 다시 "
   ]
  },
  {
   "cell_type": "code",
   "execution_count": null,
   "metadata": {},
   "outputs": [
    {
     "ename": "TypeError",
     "evalue": "'>' not supported between instances of 'NoneType' and 'int'",
     "output_type": "error",
     "traceback": [
      "\u001b[1;31m---------------------------------------------------------------------------\u001b[0m",
      "\u001b[1;31mTypeError\u001b[0m                                 Traceback (most recent call last)",
      "Cell \u001b[1;32mIn[4], line 12\u001b[0m\n\u001b[0;32m     10\u001b[0m \u001b[38;5;28;01mfor\u001b[39;00m i \u001b[38;5;129;01min\u001b[39;00m \u001b[38;5;28mrange\u001b[39m(n):\n\u001b[0;32m     11\u001b[0m     x,y \u001b[38;5;241m=\u001b[39m \u001b[38;5;28mmap\u001b[39m(\u001b[38;5;28mint\u001b[39m, \u001b[38;5;28minput\u001b[39m()\u001b[38;5;241m.\u001b[39msplit())\n\u001b[1;32m---> 12\u001b[0m     \u001b[38;5;28;01mif\u001b[39;00m \u001b[43mminy\u001b[49m\u001b[43m \u001b[49m\u001b[38;5;241;43m>\u001b[39;49m\u001b[43m \u001b[49m\u001b[43my\u001b[49m \u001b[38;5;129;01mor\u001b[39;00m miny \u001b[38;5;129;01mis\u001b[39;00m \u001b[38;5;28;01mNone\u001b[39;00m:    \u001b[38;5;66;03m# None 에 대한 조건 추가\u001b[39;00m\n\u001b[0;32m     13\u001b[0m         minx \u001b[38;5;241m=\u001b[39m x; miny \u001b[38;5;241m=\u001b[39m y\n\u001b[0;32m     15\u001b[0m \u001b[38;5;28mprint\u001b[39m(minx, miny)\n",
      "\u001b[1;31mTypeError\u001b[0m: '>' not supported between instances of 'NoneType' and 'int'"
     ]
    }
   ],
   "source": [
    "# lv1 Tren del Fin dle mundo\n",
    "\n",
    "# 세상에서 가장 남쪽에 있는 철도\n",
    "# x축의 양의 방향을 동쪽으로 하는 2차원 좌표평면\n",
    "# 가장 남쪽에 있는 점의 x,y 좌표\n",
    "\n",
    "n = int(input())\n",
    "minx, miny = None, None\n",
    "\n",
    "for i in range(n):\n",
    "    x,y = map(int, input().split())\n",
    "    if miny > y or miny is None:    # None 에 대한 조건 추가\n",
    "        minx = x; miny = y\n",
    "\n",
    "print(minx, miny)\n"
   ]
  },
  {
   "cell_type": "code",
   "execution_count": 7,
   "metadata": {},
   "outputs": [
    {
     "name": "stdout",
     "output_type": "stream",
     "text": [
      "6 -3\n"
     ]
    }
   ],
   "source": [
    "# lv1 Tren del Fin dle mundo\n",
    "\n",
    "# 세상에서 가장 남쪽에 있는 철도\n",
    "# x축의 양의 방향을 동쪽으로 하는 2차원 좌표평면\n",
    "# 가장 남쪽에 있는 점의 x,y 좌표\n",
    "\n",
    "n = int(input())\n",
    "minx, miny = None, None\n",
    "\n",
    "for i in range(n):\n",
    "    x,y = map(int, input().split())\n",
    "    if miny is None or miny > y:    # None 에 대한 조건 추가    # 왁 None 에 대한 조건이 먼저 와야 int 에러 안남 주의 *** \n",
    "        minx = x; miny = y\n",
    "\n",
    "print(minx, miny)\n"
   ]
  },
  {
   "cell_type": "code",
   "execution_count": null,
   "metadata": {},
   "outputs": [],
   "source": []
  }
 ],
 "metadata": {
  "kernelspec": {
   "display_name": "kwixmsb",
   "language": "python",
   "name": "python3"
  },
  "language_info": {
   "codemirror_mode": {
    "name": "ipython",
    "version": 3
   },
   "file_extension": ".py",
   "mimetype": "text/x-python",
   "name": "python",
   "nbconvert_exporter": "python",
   "pygments_lexer": "ipython3",
   "version": "3.12.3"
  }
 },
 "nbformat": 4,
 "nbformat_minor": 2
}
