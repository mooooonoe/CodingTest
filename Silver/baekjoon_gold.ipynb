{
 "cells": [
  {
   "cell_type": "markdown",
   "metadata": {},
   "source": [
    "15486"
   ]
  },
  {
   "cell_type": "code",
   "execution_count": null,
   "metadata": {},
   "outputs": [],
   "source": [
    "# 15486 퇴사 2\n",
    "\n",
    "n = int(input())\n",
    "data = [list(map(int, input().split())) for _ in range(n)]\n",
    "dp = [0]*(n+1)\n",
    "\n",
    "profit = 0\n",
    "\n",
    "for i in range(n):\n",
    "    profit = max(profit, dp[i])\n",
    "    \n",
    "    if i + data[i][0] >n:\n",
    "        continue\n",
    "\n",
    "    dp[i+data[i][0]] = max(profit + data[i][1], dp[i+data[i][0]])\n",
    "\n",
    "print(max(dp))"
   ]
  },
  {
   "cell_type": "code",
   "execution_count": null,
   "metadata": {},
   "outputs": [],
   "source": [
    "# 14501 실버  퇴사\n",
    "# 15486 퇴사 2 랑 같은데 골드 문제 2 는 시간 초과 나고 실버는 맞음\n",
    "\n",
    "n = int(input())\n",
    "data = [list(map(int, input().split())) for _ in range(n)]\n",
    "dp = [0]*(n+1)\n",
    "\n",
    "profit = 0\n",
    "\n",
    "for i in range(n):\n",
    "    profit = max(profit, dp[i])\n",
    "    \n",
    "    if i + data[i][0] >n:\n",
    "        continue\n",
    "\n",
    "    dp[i+data[i][0]] = max(profit + data[i][1], dp[i+data[i][0]])\n",
    "\n",
    "print(max(dp))"
   ]
  },
  {
   "cell_type": "markdown",
   "metadata": {},
   "source": [
    "16960"
   ]
  },
  {
   "cell_type": "code",
   "execution_count": null,
   "metadata": {},
   "outputs": [],
   "source": [
    "# 16960 스위치와 램프\n",
    "\n",
    "n,m = map(int, input().split())\n",
    "\n",
    "# n 개 스위치 m 개 램프\n",
    "\n",
    "tree = [None]*(n+1)\n",
    "\n",
    "for i in range(n):\n",
    "    tmp = list(map(int, input().split()))\n",
    "    tree[i] = tmp[0]\n",
    "\n",
    "    for num in tmp:\n",
    "\n",
    "\n",
    "        \n",
    "\n"
   ]
  },
  {
   "cell_type": "markdown",
   "metadata": {},
   "source": [
    "17451"
   ]
  },
  {
   "cell_type": "code",
   "execution_count": null,
   "metadata": {},
   "outputs": [],
   "source": [
    "# 평행우주\n",
    "# 행성 1 2 ... n-1 을 순서대로 확인 하고 지구에 돌아오는 비용\n",
    "\n",
    "# 초고속 걷기 기계  # 지구 벗어나면 속도 떨어뜨릴 수만 있음\n",
    "# 지구에서 올려야 하는 속도 최소화\n",
    "\n",
    "n = int(input())\n",
    "nums = list(map(int, input().split()))\n",
    "speed = nums[-1]\n",
    "\n",
    "for i in range(n-2, -1,-1):\n",
    "    if nums[i] > speed:\n",
    "        speed = nums[i]\n",
    "    else:\n",
    "        if speed%nums[i]:\n",
    "            speed = (speed//nums[i]+1)*nums[i]\n",
    "\n",
    "print(speed)"
   ]
  },
  {
   "cell_type": "markdown",
   "metadata": {},
   "source": [
    "17478"
   ]
  },
  {
   "cell_type": "code",
   "execution_count": null,
   "metadata": {},
   "outputs": [],
   "source": [
    "# 재귀 함수가 뭔가요?\n",
    "\n",
    "n = int(input())\n",
    "cnt = 0\n",
    "nextcnt = n\n",
    "\n",
    "\n",
    "print(\"어느 한 컴퓨터공학과 학생이 유명한 교수님을 찾아가 물었다.\")\n",
    "def call(n,cnt, nextcnt):\n",
    "    if cnt<n:\n",
    "        for _ in range(cnt*4):\n",
    "            print(\"-\",end='')\n",
    "        print(\"\\\"재귀함수가 뭔가요?\\\"\")\n",
    "\n",
    "        for _ in range(cnt*4):\n",
    "            print(\"-\",end='')\n",
    "        print(\"\\\"잘 들어보게. 옛날옛날 한 산 꼭대기에 이세상 모든 지식을 통달한 선인이 있었어.\")\n",
    "        for _ in range(cnt*4):\n",
    "            print(\"-\",end='')\n",
    "        print(\"마을 사람들은 모두 그 선인에게 수많은 질문을 했고, 모두 지혜롭게 대답해 주었지.\")\n",
    "        for _ in range(cnt*4):\n",
    "            print(\"-\",end='')\n",
    "        print(\"그의 답은 대부분 옳았다고 하네. 그런데 어느 날, 그 선인에게 한 선비가 찾아와서 물었어.\\\"\")\n",
    "        cnt +=1\n",
    "        call(n,cnt,nextcnt)\n",
    "    \n",
    "    elif cnt == n:\n",
    "        for _ in range(nextcnt*4):\n",
    "            print(\"-\",end='')\n",
    "\n",
    "        if nextcnt == n:\n",
    "            print(\"\\\"재귀함수가 뭔가요?\\\"\")\n",
    "            for _ in range(cnt*4):\n",
    "                print(\"-\",end='')\n",
    "            print(\"\\\"재귀함수는 자기 자신을 호출하는 함수라네\\\"\")\n",
    "            for _ in range(cnt*4):\n",
    "                print(\"-\",end='')\n",
    "            print(\"라고 답변하였지.\") \n",
    "            nextcnt-=1\n",
    "            call(n,cnt,nextcnt)\n",
    "        elif 0<=nextcnt<n:\n",
    "            print(\"라고 답변하였지.\") \n",
    "            nextcnt -=1\n",
    "            call(n,cnt,nextcnt)\n",
    "        else:\n",
    "            return 0\n",
    "\n",
    "\n",
    "       \n",
    "\n",
    "call(n,cnt, nextcnt)"
   ]
  },
  {
   "cell_type": "code",
   "execution_count": null,
   "metadata": {},
   "outputs": [],
   "source": [
    "n = int(input())\n",
    "print(\"어느 한 컴퓨터공학과 학생이 유명한 교수님을 찾아가 물었다.\")\n",
    "\n",
    "def call(cnt):\n",
    "    # 들여쓰기 (줄여서 \"-\" 출력)\n",
    "    print(\"____\" * cnt + \"\\\"재귀함수가 뭔가요?\\\"\")\n",
    "    \n",
    "    # 재귀의 끝 조건\n",
    "    if cnt == n:\n",
    "        print(\"____\" * cnt + \"\\\"재귀함수는 자기 자신을 호출하는 함수라네\\\"\")\n",
    "    else:\n",
    "        print(\"____\" * cnt + \"\\\"잘 들어보게. 옛날옛날 한 산 꼭대기에 이세상 모든 지식을 통달한 선인이 있었어.\\\"\")\n",
    "        print(\"____\" * cnt + \"마을 사람들은 모두 그 선인에게 수많은 질문을 했고, 모두 지혜롭게 대답해 주었지.\")\n",
    "        print(\"____\" * cnt + \"그의 답은 대부분 옳았다고 하네. 그런데 어느 날, 그 선인에게 한 선비가 찾아와서 물었어.\")\n",
    "        \n",
    "        # 다음 레벨의 재귀 호출\n",
    "        call(cnt + 1)\n",
    "    \n",
    "    # 답변 출력\n",
    "    print(\"____\" * cnt + \"라고 답변하였지.\")\n",
    "    \n",
    "# 함수 호출\n",
    "call(0)\n"
   ]
  },
  {
   "cell_type": "code",
   "execution_count": null,
   "metadata": {},
   "outputs": [],
   "source": [
    "def chatbot(n, cnt):\n",
    "    print(\"____\" * cnt + '\"재귀함수가 뭔가요?\"')\n",
    "\n",
    "    if cnt == n:\n",
    "        print(\"____\" * cnt + '\"재귀함수는 자기 자신을 호출하는 함수라네\"')\n",
    "    else:\n",
    "        print(\"____\" * cnt + '\"잘 들어보게. 옛날옛날 한 산 꼭대기에 이세상 모든 지식을 통달한 선인이 있었어.')\n",
    "        print(\"____\" * cnt + \"마을 사람들은 모두 그 선인에게 수많은 질문을 했고, 모두 지혜롭게 대답해 주었지.\")\n",
    "        print(\"____\" * cnt + '그의 답은 대부분 옳았다고 하네. 그런데 어느 날, 그 선인에게 한 선비가 찾아와서 물었어.\"')\n",
    "        chatbot(n, cnt + 1)\n",
    "    print(\"____\" * cnt + \"라고 답변하였지.\")\n",
    "\n",
    "\n",
    "n = int(input())\n",
    "print(\"어느 한 컴퓨터공학과 학생이 유명한 교수님을 찾아가 물었다.\")\n",
    "chatbot(n, 0)"
   ]
  },
  {
   "cell_type": "markdown",
   "metadata": {},
   "source": [
    "9084"
   ]
  },
  {
   "cell_type": "code",
   "execution_count": null,
   "metadata": {},
   "outputs": [],
   "source": [
    "# 9084 동전\n",
    "\n",
    "# 우리나라 화폐단위 1 5 450 100 500\n",
    "\n",
    "def cal(coin_num, coins, done):\n",
    "    total = 0\n",
    "    dp = [0]*(done+1)\n",
    "    dp[0] = 1 # 어떤 화폐든 0개를 내면 0원이므로 1가지 방법 무조건 존재\n",
    "\n",
    "    for co in coins:\n",
    "        for i in range(1,done+1):\n",
    "            if i>= co:\n",
    "                dp[i] += dp[i-co]\n",
    "\n",
    "    print(dp[done])\n",
    "    \n",
    "\n",
    "n = int(input())\n",
    "\n",
    "for _ in range(n):\n",
    "    coin_num = int(input())\n",
    "    coins = list(map(int, input().split()))\n",
    "    done = int(input())\n",
    "\n",
    "    cal(coin_num, coins, done)\n",
    "    "
   ]
  },
  {
   "cell_type": "markdown",
   "metadata": {},
   "source": [
    "1520"
   ]
  },
  {
   "cell_type": "code",
   "execution_count": null,
   "metadata": {},
   "outputs": [
    {
     "name": "stdout",
     "output_type": "stream",
     "text": [
      "[[1, 1, 1, 1, 1], [2, 2, 2, 2, 2], [3, 3, 3, 3, 3], [4, 4, 4, 4, 4]]\n"
     ]
    }
   ],
   "source": [
    "# 1520 내리막길\n",
    "n,m = map(int, input().split())\n",
    "nav = [[0 for _ in range(m)] for _ in range(n)]\n",
    "\n",
    "for i in range(n):\n",
    "        nav[i] = list(map(int, input().split()))\n",
    "\n",
    "\n",
    "# 상하좌우 작은 숫자 갯수 확인\n",
    "# 위치 넣기 \n",
    "# 딕셔너리에 정보 저장? \n",
    "\n",
    "\n"
   ]
  },
  {
   "cell_type": "code",
   "execution_count": null,
   "metadata": {},
   "outputs": [],
   "source": [
    "import sys\n",
    "sys.setrecursionlimit(10**9)\n",
    "\n",
    "n,m = map(int, input().split())\n",
    "nav = [[0 for _ in range(m)] for _ in range(n)]\n",
    "\n",
    "for i in range(n):\n",
    "        nav[i] = list(map(int, input().split()))\n",
    "\n",
    "dx = [0,1,0,-1]\n",
    "dy = [1,0,-1,0]\n",
    "\n",
    "dp = [[-1]*n for i in range(m)]\n",
    "\n",
    "def is_range(x,y,now):\n",
    "    return 0<= x<m and 0<=y<n and nav[x][y] < now\n",
    "\n",
    "def solution(x,y):\n",
    "    if x == m-1 and y == n-1:\n",
    "        return 1\n",
    "\n",
    "    if dp[x][y] == -1:\n",
    "        dp[x][y] = 0\n",
    "\n",
    "        for i in range(4):\n",
    "            dr_x, dr_y = x+dx[i], y+dy[i]\n",
    "            if is_range(dr_x, dr_y, nav[x][y]):\n",
    "                dp[x][y] += solution(dr_x, dr_y)\n",
    "\n",
    "    return dp[x][y]\n",
    "\n",
    "print(solution(0,0))\n",
    "    \n"
   ]
  },
  {
   "cell_type": "markdown",
   "metadata": {},
   "source": [
    "9251"
   ]
  },
  {
   "cell_type": "code",
   "execution_count": 4,
   "metadata": {},
   "outputs": [
    {
     "name": "stdout",
     "output_type": "stream",
     "text": [
      "['a', 'c', 'a', 'k', 'p']\n"
     ]
    }
   ],
   "source": [
    "# 9251 LCS\n",
    "# LCS : Longkest Common Subsequence  최장 공통 부분 수열\n",
    "\n",
    "# 모두의 부분 수열이 되는 수열 중 가장 긴것을 찾는 문제\n",
    "\n",
    "a_str = input()\n",
    "b_str = input()\n",
    "\n",
    "heap =[]\n",
    "\n",
    "for char in a_str:\n",
    "    for b_char in b_str:\n",
    "        if char == b_char:\n",
    "            heap.append(b_char)\n",
    "            break\n",
    "    \n",
    "print(heap)\n",
    "\n",
    "        "
   ]
  },
  {
   "cell_type": "code",
   "execution_count": 7,
   "metadata": {},
   "outputs": [
    {
     "name": "stdout",
     "output_type": "stream",
     "text": [
      "4\n"
     ]
    }
   ],
   "source": [
    "# 9251 LCS\n",
    "# LCS : Longkest Common Subsequence  최장 공통 부분 수열\n",
    "\n",
    "# 모두의 부분 수열이 되는 수열 중 가장 긴것을 찾는 문제\n",
    "\n",
    "a_str = input()\n",
    "b_str = input()\n",
    "\n",
    "heap =[]\n",
    "\n",
    "cnt = 0\n",
    "bcnt = 0\n",
    "for char in a_str:\n",
    "    cnt += 1\n",
    "    bcnt = 0\n",
    "    for b_char in b_str:\n",
    "        bcnt +=1\n",
    "        if char == b_char and bcnt >cnt:\n",
    "            heap.append(b_char)\n",
    "            break\n",
    "    \n",
    "print(len(heap))\n",
    "\n",
    "        "
   ]
  },
  {
   "cell_type": "code",
   "execution_count": 6,
   "metadata": {},
   "outputs": [
    {
     "data": {
      "text/plain": [
       "4"
      ]
     },
     "execution_count": 6,
     "metadata": {},
     "output_type": "execute_result"
    }
   ],
   "source": [
    "len(heap)"
   ]
  },
  {
   "cell_type": "code",
   "execution_count": 9,
   "metadata": {},
   "outputs": [
    {
     "name": "stdout",
     "output_type": "stream",
     "text": [
      "4\n"
     ]
    }
   ],
   "source": [
    "# 9251 LCS\n",
    "# LCS : Longkest Common Subsequence  최장 공통 부분 수열\n",
    "\n",
    "# 모두의 부분 수열이 되는 수열 중 가장 긴것을 찾는 문제\n",
    "\n",
    "a_str = input()\n",
    "b_str = input()\n",
    "\n",
    "heap =[]\n",
    "\n",
    "for i in range(0,len(a_str)):\n",
    "    # cnt += 1\n",
    "    # bcnt = 0\n",
    "\n",
    "    for j in range(len(heap), len(b_str)):\n",
    "        # bcnt +=1\n",
    "        if a_str[i] == b_str[j]:\n",
    "            heap.append(b_str[j])\n",
    "            break\n",
    "    \n",
    "print(len(heap))\n",
    "\n",
    "        "
   ]
  },
  {
   "cell_type": "code",
   "execution_count": 10,
   "metadata": {},
   "outputs": [
    {
     "name": "stdout",
     "output_type": "stream",
     "text": [
      "5\n"
     ]
    }
   ],
   "source": [
    "# 9251 LCS\n",
    "# LCS : Longkest Common Subsequence  최장 공통 부분 수열\n",
    "\n",
    "# 모두의 부분 수열이 되는 수열 중 가장 긴것을 찾는 문제\n",
    "a_str = input()\n",
    "b_str = input()\n",
    "\n",
    "def check(a_str, b_str):\n",
    "    heap =[]\n",
    "    \n",
    "    for i in range(0,len(a_str)):\n",
    "        for j in range(len(heap), len(b_str)):\n",
    "            if a_str[i] == b_str[j]:\n",
    "                heap.append(b_str[j])\n",
    "                break\n",
    "    \n",
    "    print(len(heap))\n",
    "\n",
    "check(a_str, b_str)\n",
    "        "
   ]
  },
  {
   "cell_type": "code",
   "execution_count": null,
   "metadata": {},
   "outputs": [],
   "source": [
    "a_str = input()\n",
    "b_str = input()\n",
    "\n",
    "# LCS 알고리즘을 위한 2차원 DP 테이블 초기화\n",
    "dp = [[0] * (len(b_str) + 1) for _ in range(len(a_str) + 1)]\n",
    "\n",
    "# DP 테이블 채우기\n",
    "for i in range(1, len(a_str) + 1):\n",
    "    for j in range(1, len(b_str) + 1):\n",
    "        if a_str[i-1] == b_str[j-1]:  # 같다면\n",
    "            dp[i][j] = dp[i-1][j-1] + 1  # 대각선 위의 값 + 1\n",
    "        else:\n",
    "            dp[i][j] = max(dp[i-1][j], dp[i][j-1])  # 위 or 왼쪽 중 더 큰 값\n",
    "\n",
    "# 최종 결과 출력\n",
    "print(dp[len(a_str)][len(b_str)])\n"
   ]
  },
  {
   "cell_type": "markdown",
   "metadata": {},
   "source": [
    "정답임미당 ~ "
   ]
  },
  {
   "cell_type": "code",
   "execution_count": 14,
   "metadata": {},
   "outputs": [
    {
     "data": {
      "text/plain": [
       "6"
      ]
     },
     "execution_count": 14,
     "metadata": {},
     "output_type": "execute_result"
    }
   ],
   "source": [
    "arr = [1,2,3]\n",
    "sum(arr[0:3])"
   ]
  },
  {
   "cell_type": "markdown",
   "metadata": {},
   "source": [
    "구름_동전 줍기 대회"
   ]
  },
  {
   "cell_type": "code",
   "execution_count": null,
   "metadata": {},
   "outputs": [],
   "source": [
    "# 구름이는 \n",
    "# 이벤트에 당첨되었어요 ~ \n",
    "# 동전줍기 대회 나갔어요 ~ \n",
    "\n",
    "# 동전 n 개가 일렬로 ~ \n",
    "# 원하는 만큼 동전을 주울 수 있어요 ~ \n",
    "\n",
    "# 주운 동전의 번호는 반드시 연속\n",
    "# 동전을 아얘 줍지 않아도 됨 \n",
    "\n",
    "# 동전 줍기를 마치면 각 참가자는 자신이 주운 동전의 가치의 합에 해당 하는 만큼 상금 얻어요 \n",
    "# 최대 상금을 구하세요 \n",
    "\n",
    "n = int(input())\n",
    "coins = list(map(int, input().split()))\n",
    "\n",
    "def check(n, coins):\n",
    "\tmax_total = 0\n",
    "\tnow_total = 0\n",
    "\tfor i in range(0, len(coins)):\n",
    "\t\tcnt = 0\n",
    "\t\tnow_total = coins[i]\n",
    "\t\tif max_total<now_total:\n",
    "\t\t\t# print(i, max_total, now_total)\n",
    "\t\t\tmax_total = now_total\n",
    "\t\tif coins[i] >0:\n",
    "\t\t\tfor j in range(i, len(coins)):\n",
    "\t\t\t\tnow_total = sum(coins[i:j])\n",
    "\t\t\t\tif max_total<now_total:\n",
    "\t\t\t\t\t# print(i,j, max_total, now_total)\n",
    "\t\t\t\t\tmax_total = now_total\n",
    "\t\t\t\tif cnt+i == len(coins):\n",
    "\t\t\t\t\tbreak\n",
    "\t\t\t\t\t\n",
    "\tprint(max_total)\n",
    "\treturn 0\n",
    "\n",
    "check(n,coins)\n",
    "\t\t\t\t \n"
   ]
  },
  {
   "cell_type": "code",
   "execution_count": null,
   "metadata": {},
   "outputs": [
    {
     "name": "stdout",
     "output_type": "stream",
     "text": [
      "[[{'row': 0, 'col': 0}, {'row': 0, 'col': 0}, {'row': 0, 'col': 0}], [{'row': 0, 'col': 0}, {'row': 0, 'col': 0}, {'row': 0, 'col': 0}], [{'row': 0, 'col': 0}, {'row': 0, 'col': 0}, {'row': 0, 'col': 0}], [{'row': 0, 'col': 0}, {'row': 0, 'col': 0}, {'row': 0, 'col': 0}]]\n"
     ]
    }
   ],
   "source": [
    "# 구름 중첩점 문제\n",
    "\n",
    "# maze를 dict 로 만들어보기 \n",
    "# 가로 선이랑 세로 선이 겹칠 때에만 점이 생기니까\n",
    "\n",
    "# 모든 maze 위치에 가로, 세로 값을 쓰기 ..? 쓰기 ! \n",
    "n, m = 4, 3\n",
    "maze = [[{'row': 0, 'col': 0} for _ in range(m)] for _ in range(n)]\n",
    "\n",
    "print(maze)\n",
    "\n",
    "maze[0][0]['row'] += 1\n",
    "\n"
   ]
  },
  {
   "cell_type": "code",
   "execution_count": 23,
   "metadata": {},
   "outputs": [
    {
     "name": "stdout",
     "output_type": "stream",
     "text": [
      "[[{'row': 1, 'col': 0}, {'row': 0, 'col': 0}, {'row': 0, 'col': 0}], [{'row': 0, 'col': 0}, {'row': 0, 'col': 0}, {'row': 0, 'col': 0}], [{'row': 0, 'col': 0}, {'row': 0, 'col': 0}, {'row': 0, 'col': 0}], [{'row': 0, 'col': 0}, {'row': 0, 'col': 0}, {'row': 0, 'col': 0}]]\n"
     ]
    }
   ],
   "source": [
    "print(maze)"
   ]
  },
  {
   "cell_type": "code",
   "execution_count": 24,
   "metadata": {},
   "outputs": [
    {
     "name": "stdout",
     "output_type": "stream",
     "text": [
      "R is [[{'row': 0, 'col': 0}, {'row': 0, 'col': 0}, {'row': 0, 'col': 0}, {'row': 0, 'col': 0}, {'row': 0, 'col': 0}], [{'row': 0, 'col': 0}, {'row': 0, 'col': 0}, {'row': 0, 'col': 0}, {'row': 0, 'col': 0}, {'row': 0, 'col': 0}], [{'row': 1, 'col': 0}, {'row': 1, 'col': 0}, {'row': 1, 'col': 0}, {'row': 0, 'col': 0}, {'row': 0, 'col': 0}]]\n",
      "D is [[{'row': 0, 'col': 0}, {'row': 0, 'col': 1}, {'row': 0, 'col': 0}, {'row': 0, 'col': 0}, {'row': 0, 'col': 0}], [{'row': 0, 'col': 0}, {'row': 0, 'col': 1}, {'row': 0, 'col': 0}, {'row': 0, 'col': 0}, {'row': 0, 'col': 0}], [{'row': 1, 'col': 0}, {'row': 1, 'col': 1}, {'row': 1, 'col': 0}, {'row': 0, 'col': 0}, {'row': 0, 'col': 0}]]\n",
      "L is [[{'row': 0, 'col': 0}, {'row': 0, 'col': 1}, {'row': 0, 'col': 0}, {'row': 0, 'col': 0}, {'row': 0, 'col': 0}], [{'row': 0, 'col': 0}, {'row': 0, 'col': 1}, {'row': 0, 'col': 0}, {'row': 0, 'col': 0}, {'row': 0, 'col': 0}], [{'row': 2, 'col': 0}, {'row': 2, 'col': 1}, {'row': 2, 'col': 0}, {'row': 0, 'col': 0}, {'row': 0, 'col': 0}]]\n",
      "U is [[{'row': 0, 'col': 0}, {'row': 0, 'col': 1}, {'row': 0, 'col': 0}, {'row': 0, 'col': 1}, {'row': 0, 'col': 0}], [{'row': 0, 'col': 0}, {'row': 0, 'col': 1}, {'row': 0, 'col': 0}, {'row': 0, 'col': 1}, {'row': 0, 'col': 0}], [{'row': 2, 'col': 0}, {'row': 2, 'col': 1}, {'row': 2, 'col': 0}, {'row': 0, 'col': 1}, {'row': 0, 'col': 0}]]\n",
      "D is [[{'row': 0, 'col': 0}, {'row': 0, 'col': 1}, {'row': 0, 'col': 0}, {'row': 0, 'col': 1}, {'row': 0, 'col': 0}], [{'row': 0, 'col': 0}, {'row': 0, 'col': 1}, {'row': 0, 'col': 1}, {'row': 0, 'col': 1}, {'row': 0, 'col': 0}], [{'row': 2, 'col': 0}, {'row': 2, 'col': 1}, {'row': 2, 'col': 1}, {'row': 0, 'col': 1}, {'row': 0, 'col': 0}]]\n",
      "4\n"
     ]
    }
   ],
   "source": [
    "def check(x,y,dirt,maze):\n",
    "\tif dirt == 'R':\n",
    "\t\tfor i in range(y-1,n):\n",
    "\t\t\tmaze[x][i]['row'] +=1\n",
    "\t\tprint(f\"R is {maze}\")\n",
    "\telif dirt == 'L':\n",
    "\t\tfor i in range(0,y):\n",
    "\t\t\tmaze[x][i]['row'] +=1\n",
    "\t\tprint(f\"L is {maze}\")\n",
    "\telif dirt == 'U':\n",
    "\t\tfor i in range(0,x):\n",
    "\t\t\tmaze[i][y]['col'] +=1\n",
    "\t\tprint(f\"U is {maze}\")\n",
    "\telif dirt == 'D':\t\n",
    "\t\tfor i in range(x-1,n):\n",
    "\t\t\tmaze[i][y]['col'] +=1\n",
    "\t\tprint(f\"D is {maze}\")\n",
    "\n",
    "n, m = map(int, input().split())\n",
    "maze = [[{'row': 0, 'col': 0} for _ in range(m)] for _ in range(n)]\n",
    "\n",
    "for _ in range(m):\n",
    "\tx,y,dirt = input().split()\n",
    "\tx = int(x); y = int(y)\t\n",
    "\tcheck(x,y,dirt,maze)\n",
    "\t\n",
    "dotnum = 0\n",
    "\n",
    "for i in range(n):\n",
    "\tfor j in range(m):\n",
    "\t\tdotnum += maze[i][j]['row'] * maze[i][j]['col']\n",
    "\t\t\n",
    "print(dotnum)\n"
   ]
  },
  {
   "cell_type": "code",
   "execution_count": null,
   "metadata": {},
   "outputs": [],
   "source": [
    "def check(x, y, dirt, maze, n, m):\n",
    "    if dirt == 'R':\n",
    "        for i in range(y, m):  # y부터 끝까지 진행 (0-based index)\n",
    "            maze[x][i]['row'] += 1\n",
    "        # print(f\"R is {maze}\")\n",
    "    elif dirt == 'L':\n",
    "        for i in range(0, y):  # 0부터 y-1까지 진행\n",
    "            maze[x][i]['row'] += 1\n",
    "        # print(f\"L is {maze}\")\n",
    "    elif dirt == 'U':\n",
    "        for i in range(0, x):  # 0부터 x-1까지 진행\n",
    "            maze[i][y]['col'] += 1\n",
    "        # print(f\"U is {maze}\")\n",
    "    elif dirt == 'D':\n",
    "        for i in range(x, n):  # x부터 끝까지 진행\n",
    "            maze[i][y]['col'] += 1\n",
    "        # print(f\"D is {maze}\")\n",
    "\n",
    "# 입력 받기\n",
    "n, m = map(int, input().split())\n",
    "maze = [[{'row': 0, 'col': 0} for _ in range(m)] for _ in range(n)]\n",
    "\n",
    "# 명령 처리\n",
    "for _ in range(m):\n",
    "    x, y, dirt = input().split()\n",
    "    x = int(x) - 1  # 1-based -> 0-based index\n",
    "    y = int(y) - 1  # 1-based -> 0-based index\n",
    "    check(x, y, dirt, maze, n, m)\n",
    "\n",
    "# 점 계산\n",
    "dotnum = 0\n",
    "for i in range(n):\n",
    "    for j in range(m):\n",
    "        dotnum += maze[i][j]['row'] * maze[i][j]['col']\n",
    "\n",
    "# 결과 출력\n",
    "print(dotnum+1)\n"
   ]
  },
  {
   "cell_type": "code",
   "execution_count": null,
   "metadata": {},
   "outputs": [],
   "source": [
    "import sys\n",
    "\n",
    "input = sys.stdin.readline\n",
    "\n",
    "def main():\n",
    "\tanswer = 0\n",
    "\tn, m = map(int, input().split())\n",
    "\tdp = [[[0, 0]]*n for _ in range(n)]\n",
    "\tfor _ in range(m):\n",
    "\t\tx, y, dir = input().split()\n",
    "\t\tx, y = int(x)-1, int(y)-1\n",
    "\t\tif dir == 'R':\n",
    "\t\t\tfor i in range(y, n):\n",
    "\t\t\t\tdp[x][i] = [dp[x][i][0]+1, dp[x][i][1]]\n",
    "\t\t\t\tanswer += dp[x][i][1]\n",
    "\t\telif dir == 'L':\n",
    "\t\t\tfor i in range(y+1):\n",
    "\t\t\t\tdp[x][i] = [dp[x][i][0]+1, dp[x][i][1]]\n",
    "\t\t\t\tanswer += dp[x][i][1]\n",
    "\t\telif dir == 'U':\n",
    "\t\t\tfor i in range(x+1):\n",
    "\t\t\t\tdp[i][y] = [dp[i][y][0], dp[i][y][1]+1]\n",
    "\t\t\t\tanswer += dp[i][y][0]\n",
    "\t\telif dir == 'D':\n",
    "\t\t\tfor i in range(x, n):\n",
    "\t\t\t\tdp[i][y] = [dp[i][y][0], dp[i][y][1]+1]\n",
    "\t\t\t\tanswer += dp[i][y][0]\n",
    "\t\t\t\t\n",
    "\tprint(answer)\n",
    "\t\n",
    "main()"
   ]
  },
  {
   "cell_type": "markdown",
   "metadata": {},
   "source": [
    "a = 2\n",
    "b = 7\n",
    "\n",
    "dp \n",
    "\n",
    "i = 2 min(dp[2], dp[2-2]+1) = min(inf, 1) = 1\n",
    "\n",
    "\n",
    "0 1 \t2\t 3 \t4 \t5 \t6 \t7 \t8 \t9 \t10\t 11\n",
    "0 inf 1\tinf\tinf\tinf\tinf\tinf\tinf`\tinf\tinf\tinf\n",
    "\n",
    "\n",
    "1 -2 3 4 -1 2\n",
    "\n",
    "\n",
    "for coin in coins:\n",
    "\tcurrent_sum = max(coin, current_coin+coin)\n",
    "\n",
    "\n",
    "coin 1 :\n",
    "current_ sum = 1\n",
    "\n",
    "coin -2 :\n",
    "corruent sum = -2 + 1 => -1\n",
    "\n",
    "coin 3:\n",
    "current sum = max(3, -1+3) = 3\n",
    "\n"
   ]
  }
 ],
 "metadata": {
  "kernelspec": {
   "display_name": "Python 3",
   "language": "python",
   "name": "python3"
  },
  "language_info": {
   "codemirror_mode": {
    "name": "ipython",
    "version": 3
   },
   "file_extension": ".py",
   "mimetype": "text/x-python",
   "name": "python",
   "nbconvert_exporter": "python",
   "pygments_lexer": "ipython3",
   "version": "3.11.9"
  }
 },
 "nbformat": 4,
 "nbformat_minor": 2
}
