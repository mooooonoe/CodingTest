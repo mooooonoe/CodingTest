{
 "cells": [
  {
   "cell_type": "markdown",
   "metadata": {},
   "source": [
    "15486"
   ]
  },
  {
   "cell_type": "code",
   "execution_count": null,
   "metadata": {},
   "outputs": [],
   "source": [
    "# 15486 퇴사 2\n",
    "\n",
    "n = int(input())\n",
    "data = [list(map(int, input().split())) for _ in range(n)]\n",
    "dp = [0]*(n+1)\n",
    "\n",
    "profit = 0\n",
    "\n",
    "for i in range(n):\n",
    "    profit = max(profit, dp[i])\n",
    "    \n",
    "    if i + data[i][0] >n:\n",
    "        continue\n",
    "\n",
    "    dp[i+data[i][0]] = max(profit + data[i][1], dp[i+data[i][0]])\n",
    "\n",
    "print(max(dp))"
   ]
  },
  {
   "cell_type": "code",
   "execution_count": null,
   "metadata": {},
   "outputs": [
    {
     "name": "stdout",
     "output_type": "stream",
     "text": [
      "45\n"
     ]
    }
   ],
   "source": [
    "# 14501 실버  퇴사\n",
    "# 15486 퇴사 2 랑 같은데 골드 문제 2 는 시간 초과 나고 실버는 맞음\n",
    "\n",
    "n = int(input())\n",
    "data = [list(map(int, input().split())) for _ in range(n)]\n",
    "dp = [0]*(n+1)\n",
    "\n",
    "profit = 0\n",
    "\n",
    "for i in range(n):\n",
    "    profit = max(profit, dp[i])\n",
    "    \n",
    "    if i + data[i][0] >n:\n",
    "        continue\n",
    "\n",
    "    dp[i+data[i][0]] = max(profit + data[i][1], dp[i+data[i][0]])\n",
    "\n",
    "print(max(dp))"
   ]
  },
  {
   "cell_type": "markdown",
   "metadata": {},
   "source": [
    "16960"
   ]
  },
  {
   "cell_type": "code",
   "execution_count": null,
   "metadata": {},
   "outputs": [],
   "source": [
    "# 16960 스위치와 램프\n",
    "\n",
    "n,m = map(int, input().split())\n",
    "\n",
    "# n 개 스위치 m 개 램프\n",
    "\n",
    "tree = [None]*(n+1)\n",
    "\n",
    "for i in range(n):\n",
    "    tmp = list(map(int, input().split()))\n",
    "    tree[i] = tmp[0]\n",
    "\n",
    "    for num in tmp:\n",
    "\n",
    "\n",
    "        \n",
    "\n"
   ]
  },
  {
   "cell_type": "markdown",
   "metadata": {},
   "source": [
    "17451"
   ]
  },
  {
   "cell_type": "code",
   "execution_count": null,
   "metadata": {},
   "outputs": [
    {
     "name": "stdout",
     "output_type": "stream",
     "text": [
      "900\n"
     ]
    }
   ],
   "source": [
    "# 평행우주\n",
    "# 행성 1 2 ... n-1 을 순서대로 확인 하고 지구에 돌아오는 비용\n",
    "\n",
    "# 초고속 걷기 기계  # 지구 벗어나면 속도 떨어뜨릴 수만 있음\n",
    "# 지구에서 올려야 하는 속도 최소화\n",
    "\n",
    "n = int(input())\n",
    "nums = list(map(int, input().split()))\n",
    "speed = nums[-1]\n",
    "\n",
    "for i in range(n-2, -1,-1):\n",
    "    if nums[i] > speed:\n",
    "        speed = nums[i]\n",
    "    else:\n",
    "        if speed%nums[i]:\n",
    "            speed = (speed//nums[i]+1)*nums[i]\n",
    "\n",
    "print(speed)"
   ]
  },
  {
   "cell_type": "markdown",
   "metadata": {},
   "source": [
    "17478"
   ]
  },
  {
   "cell_type": "code",
   "execution_count": null,
   "metadata": {},
   "outputs": [
    {
     "ename": "SyntaxError",
     "evalue": "invalid syntax (2648323490.py, line 44)",
     "output_type": "error",
     "traceback": [
      "\u001b[1;36m  Cell \u001b[1;32mIn[21], line 44\u001b[1;36m\u001b[0m\n\u001b[1;33m    else:\u001b[0m\n\u001b[1;37m    ^\u001b[0m\n\u001b[1;31mSyntaxError\u001b[0m\u001b[1;31m:\u001b[0m invalid syntax\n"
     ]
    }
   ],
   "source": [
    "# 재귀 함수가 뭔가요?\n",
    "\n",
    "n = int(input())\n",
    "cnt = 0\n",
    "nextcnt = n\n",
    "\n",
    "\n",
    "print(\"어느 한 컴퓨터공학과 학생이 유명한 교수님을 찾아가 물었다.\")\n",
    "def call(n,cnt, nextcnt):\n",
    "    if cnt<n:\n",
    "        for _ in range(cnt*4):\n",
    "            print(\"-\",end='')\n",
    "        print(\"재귀함수가 뭔가요?\")\n",
    "\n",
    "        for _ in range(cnt*4):\n",
    "            print(\"-\",end='')\n",
    "        print(\"잘 들어보게. 옛날옛날 한 산 꼭대기에 이세상 모든 지식을 통달한 선인이 있었어.\")\n",
    "        for _ in range(cnt*4):\n",
    "            print(\"-\",end='')\n",
    "        print(\"마을 사람들은 모두 그 선인에게 수많은 질문을 했고, 모두 지혜롭게 대답해 주었지.\")\n",
    "        for _ in range(cnt*4):\n",
    "            print(\"-\",end='')\n",
    "        print(\"그의 답은 대부분 옳았다고 하네. 그런데 어느 날, 그 선인에게 한 선비가 찾아와서 물었어.\")\n",
    "        cnt +=1\n",
    "        call(n,cnt,nextcnt)\n",
    "    \n",
    "    elif cnt == n:\n",
    "        for _ in range(nextcnt*4):\n",
    "            print(\"-\",end='')\n",
    "\n",
    "        if nextcnt == n:\n",
    "            print(\"재귀함수가 뭔가요?\")\n",
    "            for _ in range(cnt*4):\n",
    "                print(\"-\",end='')\n",
    "            print(\"재귀함수는 자기 자신을 호출하는 함수라네\")\n",
    "            for _ in range(cnt*4):\n",
    "                print(\"-\",end='')\n",
    "            print(\"라고 답변하였지.\") \n",
    "            nextcnt-=1\n",
    "            call(n,cnt,nextcnt)\n",
    "        elif 0<=nextcnt<n:\n",
    "            print(\"라고 답변하였지.\") \n",
    "            nextcnt -=1\n",
    "        else:\n",
    "            return 0\n",
    "\n",
    "\n",
    "       \n",
    "\n",
    "call(n,cnt, nextcnt)"
   ]
  },
  {
   "cell_type": "code",
   "execution_count": null,
   "metadata": {},
   "outputs": [],
   "source": []
  }
 ],
 "metadata": {
  "kernelspec": {
   "display_name": "Python 3",
   "language": "python",
   "name": "python3"
  },
  "language_info": {
   "codemirror_mode": {
    "name": "ipython",
    "version": 3
   },
   "file_extension": ".py",
   "mimetype": "text/x-python",
   "name": "python",
   "nbconvert_exporter": "python",
   "pygments_lexer": "ipython3",
   "version": "3.11.9"
  }
 },
 "nbformat": 4,
 "nbformat_minor": 2
}
