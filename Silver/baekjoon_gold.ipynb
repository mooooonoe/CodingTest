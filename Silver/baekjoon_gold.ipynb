{
 "cells": [
  {
   "cell_type": "markdown",
   "metadata": {},
   "source": [
    "15486"
   ]
  },
  {
   "cell_type": "code",
   "execution_count": null,
   "metadata": {},
   "outputs": [],
   "source": [
    "# 15486 퇴사 2\n",
    "\n",
    "n = int(input())\n",
    "data = [list(map(int, input().split())) for _ in range(n)]\n",
    "dp = [0]*(n+1)\n",
    "\n",
    "profit = 0\n",
    "\n",
    "for i in range(n):\n",
    "    profit = max(profit, dp[i])\n",
    "    \n",
    "    if i + data[i][0] >n:\n",
    "        continue\n",
    "\n",
    "    dp[i+data[i][0]] = max(profit + data[i][1], dp[i+data[i][0]])\n",
    "\n",
    "print(max(dp))"
   ]
  },
  {
   "cell_type": "code",
   "execution_count": null,
   "metadata": {},
   "outputs": [],
   "source": [
    "# 14501 실버  퇴사\n",
    "# 15486 퇴사 2 랑 같은데 골드 문제 2 는 시간 초과 나고 실버는 맞음\n",
    "\n",
    "n = int(input())\n",
    "data = [list(map(int, input().split())) for _ in range(n)]\n",
    "dp = [0]*(n+1)\n",
    "\n",
    "profit = 0\n",
    "\n",
    "for i in range(n):\n",
    "    profit = max(profit, dp[i])\n",
    "    \n",
    "    if i + data[i][0] >n:\n",
    "        continue\n",
    "\n",
    "    dp[i+data[i][0]] = max(profit + data[i][1], dp[i+data[i][0]])\n",
    "\n",
    "print(max(dp))"
   ]
  },
  {
   "cell_type": "markdown",
   "metadata": {},
   "source": [
    "16960"
   ]
  },
  {
   "cell_type": "code",
   "execution_count": null,
   "metadata": {},
   "outputs": [],
   "source": [
    "# 16960 스위치와 램프\n",
    "\n",
    "n,m = map(int, input().split())\n",
    "\n",
    "# n 개 스위치 m 개 램프\n",
    "\n",
    "tree = [None]*(n+1)\n",
    "\n",
    "for i in range(n):\n",
    "    tmp = list(map(int, input().split()))\n",
    "    tree[i] = tmp[0]\n",
    "\n",
    "    for num in tmp:\n",
    "\n",
    "\n",
    "        \n",
    "\n"
   ]
  },
  {
   "cell_type": "markdown",
   "metadata": {},
   "source": [
    "17451"
   ]
  },
  {
   "cell_type": "code",
   "execution_count": null,
   "metadata": {},
   "outputs": [],
   "source": [
    "# 평행우주\n",
    "# 행성 1 2 ... n-1 을 순서대로 확인 하고 지구에 돌아오는 비용\n",
    "\n",
    "# 초고속 걷기 기계  # 지구 벗어나면 속도 떨어뜨릴 수만 있음\n",
    "# 지구에서 올려야 하는 속도 최소화\n",
    "\n",
    "n = int(input())\n",
    "nums = list(map(int, input().split()))\n",
    "speed = nums[-1]\n",
    "\n",
    "for i in range(n-2, -1,-1):\n",
    "    if nums[i] > speed:\n",
    "        speed = nums[i]\n",
    "    else:\n",
    "        if speed%nums[i]:\n",
    "            speed = (speed//nums[i]+1)*nums[i]\n",
    "\n",
    "print(speed)"
   ]
  },
  {
   "cell_type": "markdown",
   "metadata": {},
   "source": [
    "17478"
   ]
  },
  {
   "cell_type": "code",
   "execution_count": null,
   "metadata": {},
   "outputs": [],
   "source": [
    "# 재귀 함수가 뭔가요?\n",
    "\n",
    "n = int(input())\n",
    "cnt = 0\n",
    "nextcnt = n\n",
    "\n",
    "\n",
    "print(\"어느 한 컴퓨터공학과 학생이 유명한 교수님을 찾아가 물었다.\")\n",
    "def call(n,cnt, nextcnt):\n",
    "    if cnt<n:\n",
    "        for _ in range(cnt*4):\n",
    "            print(\"-\",end='')\n",
    "        print(\"\\\"재귀함수가 뭔가요?\\\"\")\n",
    "\n",
    "        for _ in range(cnt*4):\n",
    "            print(\"-\",end='')\n",
    "        print(\"\\\"잘 들어보게. 옛날옛날 한 산 꼭대기에 이세상 모든 지식을 통달한 선인이 있었어.\")\n",
    "        for _ in range(cnt*4):\n",
    "            print(\"-\",end='')\n",
    "        print(\"마을 사람들은 모두 그 선인에게 수많은 질문을 했고, 모두 지혜롭게 대답해 주었지.\")\n",
    "        for _ in range(cnt*4):\n",
    "            print(\"-\",end='')\n",
    "        print(\"그의 답은 대부분 옳았다고 하네. 그런데 어느 날, 그 선인에게 한 선비가 찾아와서 물었어.\\\"\")\n",
    "        cnt +=1\n",
    "        call(n,cnt,nextcnt)\n",
    "    \n",
    "    elif cnt == n:\n",
    "        for _ in range(nextcnt*4):\n",
    "            print(\"-\",end='')\n",
    "\n",
    "        if nextcnt == n:\n",
    "            print(\"\\\"재귀함수가 뭔가요?\\\"\")\n",
    "            for _ in range(cnt*4):\n",
    "                print(\"-\",end='')\n",
    "            print(\"\\\"재귀함수는 자기 자신을 호출하는 함수라네\\\"\")\n",
    "            for _ in range(cnt*4):\n",
    "                print(\"-\",end='')\n",
    "            print(\"라고 답변하였지.\") \n",
    "            nextcnt-=1\n",
    "            call(n,cnt,nextcnt)\n",
    "        elif 0<=nextcnt<n:\n",
    "            print(\"라고 답변하였지.\") \n",
    "            nextcnt -=1\n",
    "            call(n,cnt,nextcnt)\n",
    "        else:\n",
    "            return 0\n",
    "\n",
    "\n",
    "       \n",
    "\n",
    "call(n,cnt, nextcnt)"
   ]
  },
  {
   "cell_type": "code",
   "execution_count": null,
   "metadata": {},
   "outputs": [],
   "source": [
    "n = int(input())\n",
    "print(\"어느 한 컴퓨터공학과 학생이 유명한 교수님을 찾아가 물었다.\")\n",
    "\n",
    "def call(cnt):\n",
    "    # 들여쓰기 (줄여서 \"-\" 출력)\n",
    "    print(\"____\" * cnt + \"\\\"재귀함수가 뭔가요?\\\"\")\n",
    "    \n",
    "    # 재귀의 끝 조건\n",
    "    if cnt == n:\n",
    "        print(\"____\" * cnt + \"\\\"재귀함수는 자기 자신을 호출하는 함수라네\\\"\")\n",
    "    else:\n",
    "        print(\"____\" * cnt + \"\\\"잘 들어보게. 옛날옛날 한 산 꼭대기에 이세상 모든 지식을 통달한 선인이 있었어.\\\"\")\n",
    "        print(\"____\" * cnt + \"마을 사람들은 모두 그 선인에게 수많은 질문을 했고, 모두 지혜롭게 대답해 주었지.\")\n",
    "        print(\"____\" * cnt + \"그의 답은 대부분 옳았다고 하네. 그런데 어느 날, 그 선인에게 한 선비가 찾아와서 물었어.\")\n",
    "        \n",
    "        # 다음 레벨의 재귀 호출\n",
    "        call(cnt + 1)\n",
    "    \n",
    "    # 답변 출력\n",
    "    print(\"____\" * cnt + \"라고 답변하였지.\")\n",
    "    \n",
    "# 함수 호출\n",
    "call(0)\n"
   ]
  },
  {
   "cell_type": "code",
   "execution_count": null,
   "metadata": {},
   "outputs": [],
   "source": [
    "def chatbot(n, cnt):\n",
    "    print(\"____\" * cnt + '\"재귀함수가 뭔가요?\"')\n",
    "\n",
    "    if cnt == n:\n",
    "        print(\"____\" * cnt + '\"재귀함수는 자기 자신을 호출하는 함수라네\"')\n",
    "    else:\n",
    "        print(\"____\" * cnt + '\"잘 들어보게. 옛날옛날 한 산 꼭대기에 이세상 모든 지식을 통달한 선인이 있었어.')\n",
    "        print(\"____\" * cnt + \"마을 사람들은 모두 그 선인에게 수많은 질문을 했고, 모두 지혜롭게 대답해 주었지.\")\n",
    "        print(\"____\" * cnt + '그의 답은 대부분 옳았다고 하네. 그런데 어느 날, 그 선인에게 한 선비가 찾아와서 물었어.\"')\n",
    "        chatbot(n, cnt + 1)\n",
    "    print(\"____\" * cnt + \"라고 답변하였지.\")\n",
    "\n",
    "\n",
    "n = int(input())\n",
    "print(\"어느 한 컴퓨터공학과 학생이 유명한 교수님을 찾아가 물었다.\")\n",
    "chatbot(n, 0)"
   ]
  },
  {
   "cell_type": "markdown",
   "metadata": {},
   "source": [
    "9084"
   ]
  },
  {
   "cell_type": "code",
   "execution_count": null,
   "metadata": {},
   "outputs": [],
   "source": [
    "# 9084 동전\n",
    "\n",
    "# 우리나라 화폐단위 1 5 450 100 500\n",
    "\n",
    "def cal(coin_num, coins, done):\n",
    "    total = 0\n",
    "    dp = [0]*(done+1)\n",
    "    dp[0] = 1 # 어떤 화폐든 0개를 내면 0원이므로 1가지 방법 무조건 존재\n",
    "\n",
    "    for co in coins:\n",
    "        for i in range(1,done+1):\n",
    "            if i>= co:\n",
    "                dp[i] += dp[i-co]\n",
    "\n",
    "    print(dp[done])\n",
    "    \n",
    "\n",
    "n = int(input())\n",
    "\n",
    "for _ in range(n):\n",
    "    coin_num = int(input())\n",
    "    coins = list(map(int, input().split()))\n",
    "    done = int(input())\n",
    "\n",
    "    cal(coin_num, coins, done)\n",
    "    "
   ]
  },
  {
   "cell_type": "markdown",
   "metadata": {},
   "source": [
    "1520"
   ]
  },
  {
   "cell_type": "code",
   "execution_count": null,
   "metadata": {},
   "outputs": [
    {
     "name": "stdout",
     "output_type": "stream",
     "text": [
      "[[1, 1, 1, 1, 1], [2, 2, 2, 2, 2], [3, 3, 3, 3, 3], [4, 4, 4, 4, 4]]\n"
     ]
    }
   ],
   "source": [
    "# 1520 내리막길\n",
    "n,m = map(int, input().split())\n",
    "nav = [[0 for _ in range(m)] for _ in range(n)]\n",
    "\n",
    "for i in range(n):\n",
    "        nav[i] = list(map(int, input().split()))\n",
    "\n",
    "\n",
    "# 상하좌우 작은 숫자 갯수 확인\n",
    "# 위치 넣기 \n",
    "# 딕셔너리에 정보 저장? \n",
    "\n",
    "\n"
   ]
  },
  {
   "cell_type": "code",
   "execution_count": null,
   "metadata": {},
   "outputs": [],
   "source": [
    "import sys\n",
    "sys.setrecursionlimit(10**9)\n",
    "\n",
    "n,m = map(int, input().split())\n",
    "nav = [[0 for _ in range(m)] for _ in range(n)]\n",
    "\n",
    "for i in range(n):\n",
    "        nav[i] = list(map(int, input().split()))\n",
    "\n",
    "dx = [0,1,0,-1]\n",
    "dy = [1,0,-1,0]\n",
    "\n",
    "dp = [[-1]*n for i in range(m)]\n",
    "\n",
    "def is_range(x,y,now):\n",
    "    return 0<= x<m and 0<=y<n and nav[x][y] < now\n",
    "\n",
    "def solution(x,y):\n",
    "    if x == m-1 and y == n-1:\n",
    "        return 1\n",
    "\n",
    "    if dp[x][y] == -1:\n",
    "        dp[x][y] = 0\n",
    "\n",
    "        for i in range(4):\n",
    "            dr_x, dr_y = x+dx[i], y+dy[i]\n",
    "            if is_range(dr_x, dr_y, nav[x][y]):\n",
    "                dp[x][y] += solution(dr_x, dr_y)\n",
    "\n",
    "    return dp[x][y]\n",
    "\n",
    "print(solution(0,0))\n",
    "    \n"
   ]
  },
  {
   "cell_type": "code",
   "execution_count": null,
   "metadata": {},
   "outputs": [],
   "source": []
  }
 ],
 "metadata": {
  "kernelspec": {
   "display_name": "Python 3",
   "language": "python",
   "name": "python3"
  },
  "language_info": {
   "codemirror_mode": {
    "name": "ipython",
    "version": 3
   },
   "file_extension": ".py",
   "mimetype": "text/x-python",
   "name": "python",
   "nbconvert_exporter": "python",
   "pygments_lexer": "ipython3",
   "version": "3.11.9"
  }
 },
 "nbformat": 4,
 "nbformat_minor": 2
}
