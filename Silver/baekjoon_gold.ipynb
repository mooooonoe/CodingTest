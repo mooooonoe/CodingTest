{
 "cells": [
  {
   "cell_type": "markdown",
   "metadata": {},
   "source": [
    "15486"
   ]
  },
  {
   "cell_type": "code",
   "execution_count": null,
   "metadata": {},
   "outputs": [],
   "source": [
    "# 15486 퇴사 2\n",
    "\n",
    "n = int(input())\n",
    "data = [list(map(int, input().split())) for _ in range(n)]\n",
    "dp = [0]*(n+1)\n",
    "\n",
    "profit = 0\n",
    "\n",
    "for i in range(n):\n",
    "    profit = max(profit, dp[i])\n",
    "    \n",
    "    if i + data[i][0] >n:\n",
    "        continue\n",
    "\n",
    "    dp[i+data[i][0]] = max(profit + data[i][1], dp[i+data[i][0]])\n",
    "\n",
    "print(max(dp))"
   ]
  },
  {
   "cell_type": "code",
   "execution_count": null,
   "metadata": {},
   "outputs": [
    {
     "name": "stdout",
     "output_type": "stream",
     "text": [
      "45\n"
     ]
    }
   ],
   "source": [
    "# 14501 실버  퇴사\n",
    "# 15486 퇴사 2 랑 같은데 골드 문제 2 는 시간 초과 나고 실버는 맞음\n",
    "\n",
    "n = int(input())\n",
    "data = [list(map(int, input().split())) for _ in range(n)]\n",
    "dp = [0]*(n+1)\n",
    "\n",
    "profit = 0\n",
    "\n",
    "for i in range(n):\n",
    "    profit = max(profit, dp[i])\n",
    "    \n",
    "    if i + data[i][0] >n:\n",
    "        continue\n",
    "\n",
    "    dp[i+data[i][0]] = max(profit + data[i][1], dp[i+data[i][0]])\n",
    "\n",
    "print(max(dp))"
   ]
  },
  {
   "cell_type": "markdown",
   "metadata": {},
   "source": [
    "16960"
   ]
  },
  {
   "cell_type": "code",
   "execution_count": null,
   "metadata": {},
   "outputs": [],
   "source": [
    "# 16960 스위치와 램프\n",
    "\n",
    "n,m = map(int, input().split())\n",
    "\n",
    "# n 개 스위치 m 개 램프\n",
    "\n",
    "tree = [None]*(n+1)\n",
    "\n",
    "for i in range(n):\n",
    "    tmp = list(map(int, input().split()))\n",
    "    tree[i] = tmp[0]\n",
    "\n",
    "    for num in tmp:\n",
    "\n",
    "\n",
    "        \n",
    "\n"
   ]
  },
  {
   "cell_type": "markdown",
   "metadata": {},
   "source": [
    "17451"
   ]
  },
  {
   "cell_type": "code",
   "execution_count": null,
   "metadata": {},
   "outputs": [],
   "source": [
    "# 평행우주\n",
    "# 행성 1 2 ... n-1 을 순서대로 확인 하고 지구에 돌아오는 비용\n",
    "\n",
    "# 초고속 걷기 기계  # 지구 벗어나면 속도 떨어뜨릴 수만 있음\n",
    "# 지구에서 올려야 하는 속도 최소화\n",
    "\n",
    "n = int(input())\n",
    "\n"
   ]
  }
 ],
 "metadata": {
  "kernelspec": {
   "display_name": "Python 3",
   "language": "python",
   "name": "python3"
  },
  "language_info": {
   "codemirror_mode": {
    "name": "ipython",
    "version": 3
   },
   "file_extension": ".py",
   "mimetype": "text/x-python",
   "name": "python",
   "nbconvert_exporter": "python",
   "pygments_lexer": "ipython3",
   "version": "3.11.9"
  }
 },
 "nbformat": 4,
 "nbformat_minor": 2
}
