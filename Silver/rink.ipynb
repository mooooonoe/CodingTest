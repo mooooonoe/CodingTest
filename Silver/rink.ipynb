{
 "cells": [
  {
   "cell_type": "markdown",
   "metadata": {},
   "source": [
    "안알려진 꿀팁 문제들<br>\n",
    "https://www.acmicpc.net/workbook/view/4357<br>\n",
    "silver<br>\n",
    "https://www.acmicpc.net/workbook/view/9432<br>\n",
    "단계별 silver<br>\n",
    "https://www.acmicpc.net/workbook/view/9528\n"
   ]
  },
  {
   "cell_type": "markdown",
   "metadata": {},
   "source": [
    "https://moonhy7.tistory.com/entry/%EC%BD%94%EB%94%A9%ED%85%8C%EC%8A%A4%ED%8A%B8-%EB%B3%B5%EA%B8%B0-2021-%ED%95%98%EB%B0%98%EA%B8%B0-%ED%95%9C%ED%99%94%EC%8B%9C%EC%8A%A4%ED%85%9CICT-%EC%B4%88%EA%B8%89-%EA%B0%9C%EB%B0%9C%EC%9E%90-%EC%BD%94%EB%94%A9%ED%85%8C%EC%8A%A4%ED%8A%B8-%ED%9B%84%EA%B8%B0"
   ]
  },
  {
   "cell_type": "markdown",
   "metadata": {},
   "source": [
    "골드<br>\n",
    "https://www.acmicpc.net/workbook/view/11508"
   ]
  },
  {
   "cell_type": "markdown",
   "metadata": {},
   "source": [
    "나무 섭지<br>\n",
    "https://softeer.ai/practice/7726 "
   ]
  },
  {
   "cell_type": "markdown",
   "metadata": {},
   "source": []
  }
 ],
 "metadata": {
  "kernelspec": {
   "display_name": "base",
   "language": "python",
   "name": "python3"
  },
  "language_info": {
   "codemirror_mode": {
    "name": "ipython",
    "version": 3
   },
   "file_extension": ".py",
   "mimetype": "text/x-python",
   "name": "python",
   "nbconvert_exporter": "python",
   "pygments_lexer": "ipython3",
   "version": "3.11.7"
  }
 },
 "nbformat": 4,
 "nbformat_minor": 2
}
