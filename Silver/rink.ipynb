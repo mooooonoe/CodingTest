{
 "cells": [
  {
   "cell_type": "markdown",
   "metadata": {},
   "source": [
    "안알려진 꿀팁 문제들<br>\n",
    "https://www.acmicpc.net/workbook/view/4357<br>\n",
    "silver<br>\n",
    "https://www.acmicpc.net/workbook/view/9432<br>\n",
    "단계별 silver<br>\n",
    "https://www.acmicpc.net/workbook/view/9528\n"
   ]
  },
  {
   "cell_type": "markdown",
   "metadata": {},
   "source": [
    "https://moonhy7.tistory.com/entry/%EC%BD%94%EB%94%A9%ED%85%8C%EC%8A%A4%ED%8A%B8-%EB%B3%B5%EA%B8%B0-2021-%ED%95%98%EB%B0%98%EA%B8%B0-%ED%95%9C%ED%99%94%EC%8B%9C%EC%8A%A4%ED%85%9CICT-%EC%B4%88%EA%B8%89-%EA%B0%9C%EB%B0%9C%EC%9E%90-%EC%BD%94%EB%94%A9%ED%85%8C%EC%8A%A4%ED%8A%B8-%ED%9B%84%EA%B8%B0"
   ]
  },
  {
   "cell_type": "markdown",
   "metadata": {},
   "source": [
    "골드<br>\n",
    "https://www.acmicpc.net/workbook/view/11508"
   ]
  },
  {
   "cell_type": "markdown",
   "metadata": {},
   "source": [
    "나무 섭지<br>\n",
    "https://softeer.ai/practice/7726 "
   ]
  },
  {
   "cell_type": "markdown",
   "metadata": {},
   "source": [
    "백준 문제 추천\n",
    "https://covenant.tistory.com/224#google_vignette"
   ]
  },
  {
   "cell_type": "markdown",
   "metadata": {},
   "source": [
    "LIG 넥스원 \n",
    "https://crush-on-study.tistory.com/265\n"
   ]
  },
  {
   "cell_type": "markdown",
   "metadata": {},
   "source": [
    "1번 구현 (쉬운 시뮬레이션) -> 최소비용인 지점이 몇개인지 찾는 단순 구현<br>\n",
    "2번 자료구조 + 문자열 + 그리디 -> 최대 크기가 1000 밖에 안되는 문자 <br>\n",
    "3 트리 + DFS(재귀) -> 만들 수 있는 트리 개수를 카운팅 하는 유형 "
   ]
  },
  {
   "cell_type": "markdown",
   "metadata": {},
   "source": [
    "기업별 빈출 알고리즘 유형 문제풀이집\n",
    "https://wikidocs.net/book/8284"
   ]
  },
  {
   "cell_type": "markdown",
   "metadata": {},
   "source": []
  }
 ],
 "metadata": {
  "kernelspec": {
   "display_name": "base",
   "language": "python",
   "name": "python3"
  },
  "language_info": {
   "codemirror_mode": {
    "name": "ipython",
    "version": 3
   },
   "file_extension": ".py",
   "mimetype": "text/x-python",
   "name": "python",
   "nbconvert_exporter": "python",
   "pygments_lexer": "ipython3",
   "version": "3.11.7"
  }
 },
 "nbformat": 4,
 "nbformat_minor": 2
}
