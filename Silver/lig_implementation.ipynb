{
 "cells": [
  {
   "cell_type": "markdown",
   "metadata": {},
   "source": [
    "28215"
   ]
  },
  {
   "cell_type": "markdown",
   "metadata": {},
   "source": [
    "브루트포스 Brute Force<br>\n",
    "가능한 모든 경우를 모두 탐색하여 정답을 찾는 방법"
   ]
  },
  {
   "cell_type": "code",
   "execution_count": null,
   "metadata": {},
   "outputs": [
    {
     "name": "stdout",
     "output_type": "stream",
     "text": [
      "5\n"
     ]
    }
   ],
   "source": [
    "# 28215 대피소\n",
    "# 브루트포스 \n",
    "\n",
    "# 2차원 평면의 KOI 마을에 n 개의 집\n",
    "# i번째 집과 j 번째 집 사이 거리 .. \n",
    "# 두집 사이 거리는 x차 y차 합\n",
    "\n",
    "# n 마을의 집 수 # k 설치할 대피소 수\n",
    "# 목표 : 대피소 설치하는 모든 방법 중 가장 가까운 대피소와 집 사이 거리 중 가장 큰값이 가장 작을때의 거리 \n",
    "\n",
    "from itertools import combinations\n",
    "\n",
    "n, k = map(int, input().split())\n",
    "x = [0]*n\n",
    "y = [0]*n\n",
    "\n",
    "for i in range(n):\n",
    "    x[i], y[i] = map(int, input().split())\n",
    "\n",
    "INF = float(\"INF\")\n",
    "\n",
    "def dist(c):\n",
    "    ret = 0\n",
    "    for id in range(n):\n",
    "        a = INF\n",
    "        for c_id in c:\n",
    "            tmp = abs(x[id]- x[c_id]) + abs(y[id]- y[c_id])\n",
    "            a = min(a, tmp)\n",
    "        ret = max(ret, a)\n",
    "\n",
    "    return ret\n",
    "\n",
    "final = INF\n",
    "\n",
    "for c in combinations(range(n), k):\n",
    "    final = min(final, dist(c))\n",
    "\n",
    "print(final)\n",
    "\n"
   ]
  },
  {
   "cell_type": "markdown",
   "metadata": {},
   "source": [
    "두 대피소 사이 거리를 abs 로 양수화 한 점<br>\n",
    "combination 을 사용했는데, 주어진 대표소의 수로 (combinations(range(n), k)) 로 사용했으며\n",
    "이 조합을 변수로 따로 담는 것이 아닌 반복문 for c in 으로 사용해 함수의 매개변수로 넘겨주었고 그 결과 fianl 에 min 으로 계속 업데이트 한점!"
   ]
  },
  {
   "cell_type": "code",
   "execution_count": null,
   "metadata": {},
   "outputs": [],
   "source": []
  }
 ],
 "metadata": {
  "kernelspec": {
   "display_name": "Python 3",
   "language": "python",
   "name": "python3"
  },
  "language_info": {
   "codemirror_mode": {
    "name": "ipython",
    "version": 3
   },
   "file_extension": ".py",
   "mimetype": "text/x-python",
   "name": "python",
   "nbconvert_exporter": "python",
   "pygments_lexer": "ipython3",
   "version": "3.11.9"
  }
 },
 "nbformat": 4,
 "nbformat_minor": 2
}
