{
 "cells": [
  {
   "cell_type": "code",
   "execution_count": null,
   "metadata": {},
   "outputs": [],
   "source": [
    "# 9935 문자열 폭발\n",
    "# 문자열에 폭발 문자열 심어 놓았\n",
    "# 폭발은 다음과 같은 과정으로 진행\n",
    "# 1. 문자열이 폭발 문자열을 포함하고 있는 경우 -> 모든 폭발 문자열 폭발 -> 남은 문자열을 순서대로 이어 새로운 문자열\n",
    "# 2. 새로 생긴 문자열에 폭발 문자열이 포함 되어 있을 수도 있다\n",
    "# 3. 폭발은 폭발 문자열이 문자열에 없을때까지 계속된다"
   ]
  },
  {
   "cell_type": "code",
   "execution_count": 2,
   "metadata": {},
   "outputs": [
    {
     "ename": "SyntaxError",
     "evalue": "invalid syntax (1050470025.py, line 15)",
     "output_type": "error",
     "traceback": [
      "\u001b[1;36m  Cell \u001b[1;32mIn[2], line 15\u001b[1;36m\u001b[0m\n\u001b[1;33m    or\u001b[0m\n\u001b[1;37m    ^\u001b[0m\n\u001b[1;31mSyntaxError\u001b[0m\u001b[1;31m:\u001b[0m invalid syntax\n"
     ]
    }
   ],
   "source": [
    "def check(new, ori):\n",
    "    if new in ori:\n",
    "        return True\n",
    "    else:\n",
    "        return False\n",
    "\n",
    "\n",
    "ori = input()\n",
    "boom = input()\n",
    "\n",
    "state = check(boom, ori)\n",
    "\n",
    "while (state == True):\n",
    "    id = ori.index(boom[0])\n",
    "    or\n",
    "\n",
    "# 근데 이렇게 짜다 보면 boom[0] 과 같은 알파벳으 ori 에 여러개가 있어서 다른 문자열을 폭발 시킬수 있는 오류가 있음\n",
    "\n"
   ]
  },
  {
   "cell_type": "code",
   "execution_count": 3,
   "metadata": {},
   "outputs": [
    {
     "name": "stdout",
     "output_type": "stream",
     "text": [
      "mirkovniz\n"
     ]
    }
   ],
   "source": [
    "def check(new, ori):\n",
    "    return new in ori\n",
    "\n",
    "\n",
    "ori = input()\n",
    "boom = input()\n",
    "\n",
    "state = check(boom, ori)\n",
    "\n",
    "while state:\n",
    "    ori = ori.replace(boom, \"\")\n",
    "    state = check(boom, ori)\n",
    "\n",
    "if ori:\n",
    "    print(ori)\n",
    "else:\n",
    "    print('FRULA')\n"
   ]
  },
  {
   "cell_type": "markdown",
   "metadata": {},
   "source": [
    "이 코드에서 보면 ori.replace 로 해당 문자열 폭발 하는 매서드를 사용한건 좋지만 시간 초과 문제가 발생함"
   ]
  },
  {
   "cell_type": "code",
   "execution_count": 7,
   "metadata": {},
   "outputs": [
    {
     "name": "stdout",
     "output_type": "stream",
     "text": [
      "mirkovniz\n"
     ]
    }
   ],
   "source": [
    "def remove_boom(ori, boom):\n",
    "    stack = []\n",
    "    boom_len = len(boom)\n",
    "    \n",
    "    for char in ori:\n",
    "        stack.append(char)  # 스택에 한 글자 추가\n",
    "        # 스택 끝부분이 `boom`과 같으면 `boom` 제거\n",
    "        if ''.join(stack[-boom_len:]) == boom:\n",
    "            del stack[-boom_len:]  # 스택에서 `boom`만큼 제거\n",
    "\n",
    "    # 결과 반환\n",
    "    return ''.join(stack)\n",
    "\n",
    "ori = input()\n",
    "boom = input()\n",
    "\n",
    "result = remove_boom(ori, boom)\n",
    "\n",
    "if result:\n",
    "    print(f\"{result}\")\n",
    "else:\n",
    "    print(\"FRULA\")\n"
   ]
  },
  {
   "cell_type": "markdown",
   "metadata": {},
   "source": [
    "스택 기반 풀이의 장점 \n",
    "\n",
    "→ 기존 replace 메서드는, 불변객체인 문자열을 처리하기 위해 replace 호출 할때마다 새로운 문자열싱 생성됨\n",
    "\n",
    "하지만 스택 방식은\n",
    "\n",
    "문자열을 한글자씩 순회하여 필요한 최소한의 작업만을 수행"
   ]
  },
  {
   "cell_type": "code",
   "execution_count": 9,
   "metadata": {},
   "outputs": [
    {
     "name": "stdout",
     "output_type": "stream",
     "text": [
      "mirkovniz\n"
     ]
    }
   ],
   "source": [
    "def remove_boom_efficiently(ori, boom):\n",
    "    while boom in ori:\n",
    "        ori = ori.replace(boom, \"\", 1)  # 한 번씩만 `boom`을 제거\n",
    "    return ori\n",
    "\n",
    "ori = input()\n",
    "boom = input()\n",
    "\n",
    "result = remove_boom_efficiently(ori, boom)\n",
    "\n",
    "if result:\n",
    "    print(f\"{result}\")\n",
    "else:\n",
    "    print(\"FRULA\")\n"
   ]
  },
  {
   "cell_type": "markdown",
   "metadata": {},
   "source": [
    "이렇게 해도 시간초과 남.. 문제풀이에는 replace 가 '해결'하는데는 좋은 메서드 일지라도 시간복잡도가 개큼 .. stack 을 잘 활용하자 ~ "
   ]
  },
  {
   "cell_type": "code",
   "execution_count": null,
   "metadata": {},
   "outputs": [],
   "source": [
    "def check(str, boom):\n",
    "    return str in boom\n",
    "\n",
    "str = input()\n",
    "boom = input()\n",
    "\n",
    "state = check(boom, str)\n",
    "\n",
    "while state:\n",
    "    str = str.replace(boom, \"\")\n",
    "    state = check(boom, str)\n",
    "\n",
    "    if str:\n",
    "        print(str)\n",
    "    else:\n",
    "        print('FRULA')\n"
   ]
  },
  {
   "cell_type": "code",
   "execution_count": 3,
   "metadata": {},
   "outputs": [
    {
     "name": "stdout",
     "output_type": "stream",
     "text": [
      "mirkovniz\n"
     ]
    }
   ],
   "source": [
    "def check(new, boom):\n",
    "    return boom in new\n",
    "\n",
    "ori = input()\n",
    "boom = input()\n",
    "\n",
    "state = check(ori, boom)\n",
    "\n",
    "while state:\n",
    "    ori = ori.replace(boom, \"\")\n",
    "    state = check(ori, boom)\n",
    "\n",
    "\n",
    "if ori:\n",
    "    print(ori)\n",
    "else:\n",
    "    print('FRULA')\n",
    "\n",
    "\n"
   ]
  },
  {
   "cell_type": "markdown",
   "metadata": {},
   "source": [
    "스택기반.."
   ]
  },
  {
   "cell_type": "code",
   "execution_count": 3,
   "metadata": {},
   "outputs": [
    {
     "name": "stdout",
     "output_type": "stream",
     "text": [
      "mirkovniz\n"
     ]
    }
   ],
   "source": [
    "def check(ori, boom):\n",
    "    stack = []\n",
    "    boom_len = len(boom)\n",
    "\n",
    "    for char in ori:\n",
    "        stack.append(char)\n",
    "\n",
    "        if ''.join(stack[-boom_len:]) == boom:\n",
    "            del stack[-boom_len:]\n",
    "\n",
    "    return ''.join(stack)\n",
    "\n",
    "\n",
    "\n",
    "ori = input()\n",
    "boom = input()\n",
    "\n",
    "result = check(ori, boom)\n",
    "\n",
    "if result:\n",
    "    print(result)\n",
    "else:\n",
    "    print('FRULA')"
   ]
  },
  {
   "cell_type": "code",
   "execution_count": 1,
   "metadata": {},
   "outputs": [
    {
     "name": "stdout",
     "output_type": "stream",
     "text": [
      "['m', 'i', 'r', 'k', 'o', 'v', 'C', '4', 'n', 'i', 'z', 'C', 'C', '4', '4']\n"
     ]
    }
   ],
   "source": [
    "def check(ori, boom):\n",
    "    stack = []\n",
    "    boom_len = len(boom)\n",
    "\n",
    "    for char in ori:\n",
    "        stack.append(char)\n",
    "\n",
    "        if stack[-boom_len:] == boom:\n",
    "            del stack[-boom:]\n",
    "        \n",
    "    return stack\n",
    "\n",
    "\n",
    "ori = input()\n",
    "boom = input()\n",
    "\n",
    "print(check(ori, boom))"
   ]
  },
  {
   "cell_type": "markdown",
   "metadata": {},
   "source": [
    "오 그냥 stack 을 반환하면 이렇게 문자 리스트 가 반환됨., 꼭 ''.joing(stack) 으로 반환할것"
   ]
  },
  {
   "cell_type": "code",
   "execution_count": 4,
   "metadata": {},
   "outputs": [
    {
     "name": "stdout",
     "output_type": "stream",
     "text": [
      "mirkovniz\n"
     ]
    }
   ],
   "source": [
    "def check(ori, boom):\n",
    "    stack = []\n",
    "    boom_len = len(boom)\n",
    "\n",
    "    for char in ori:\n",
    "        stack.append(char)\n",
    "\n",
    "        if ''.join(stack[-boom_len:]) == boom:\n",
    "            del stack[-boom_len:]\n",
    "        \n",
    "    return ''.join(stack)\n",
    "\n",
    "\n",
    "ori = input()\n",
    "boom = input()\n",
    "\n",
    "result = check(ori, boom)\n",
    "\n",
    "if result:\n",
    "    print(result)\n",
    "else:\n",
    "    print(\"FRULA\")"
   ]
  },
  {
   "cell_type": "markdown",
   "metadata": {},
   "source": [
    "프로그래머스 구명보트"
   ]
  },
  {
   "cell_type": "code",
   "execution_count": 9,
   "metadata": {},
   "outputs": [
    {
     "data": {
      "text/plain": [
       "[(70, 50),\n",
       " (70, 80),\n",
       " (70, 50),\n",
       " (50, 70),\n",
       " (50, 80),\n",
       " (50, 50),\n",
       " (80, 70),\n",
       " (80, 50),\n",
       " (80, 50),\n",
       " (50, 70),\n",
       " (50, 50),\n",
       " (50, 80)]"
      ]
     },
     "execution_count": 9,
     "metadata": {},
     "output_type": "execute_result"
    }
   ],
   "source": [
    "# 작아서 한번에 최대 2명 , 무게제한\n",
    "import itertools\n",
    "\n",
    "people = [70, 50, 80, 50]\n",
    "limit = 100\n",
    "\n",
    "def solution(people, limit):\n",
    "    result = list(itertools.permutations(people,2))\n",
    "    return result\n",
    "\n",
    "solution(people, limit)"
   ]
  },
  {
   "cell_type": "markdown",
   "metadata": {},
   "source": [
    "순열은 중복이 허용됨,, permutations<br>\n",
    "중복 허용되지 않는 조합 combinations<br>"
   ]
  },
  {
   "cell_type": "code",
   "execution_count": 7,
   "metadata": {},
   "outputs": [
    {
     "name": "stdout",
     "output_type": "stream",
     "text": [
      "[('a', 'b'), ('a', 'c'), ('a', 'd'), ('a', 'e'), ('b', 'a'), ('b', 'c'), ('b', 'd'), ('b', 'e'), ('c', 'a'), ('c', 'b'), ('c', 'd'), ('c', 'e'), ('d', 'a'), ('d', 'b'), ('d', 'c'), ('d', 'e'), ('e', 'a'), ('e', 'b'), ('e', 'c'), ('e', 'd')]\n"
     ]
    }
   ],
   "source": [
    "# 순열..\n",
    "import itertools\n",
    "\n",
    "string = 'abcde'\n",
    "result = list(itertools.permutations(string,2))\n",
    "print(result)"
   ]
  },
  {
   "cell_type": "code",
   "execution_count": 16,
   "metadata": {},
   "outputs": [
    {
     "data": {
      "text/plain": [
       "0"
      ]
     },
     "execution_count": 16,
     "metadata": {},
     "output_type": "execute_result"
    }
   ],
   "source": [
    "# 작아서 한번에 최대 2명 , 무게제한\n",
    "import itertools\n",
    "\n",
    "people = [70, 50, 80, 50]\n",
    "limit = 100\n",
    "\n",
    "def solution(people, limit):\n",
    "    result = list(itertools.combinations(people,2))\n",
    "    cnt = 0\n",
    "\n",
    "    for a,b in result:\n",
    "        num = a + b\n",
    "        if num <= limit:\n",
    "            cnt += 1\n",
    "\n",
    "    return cnt\n",
    "\n",
    "solution(people, limit)"
   ]
  },
  {
   "cell_type": "markdown",
   "metadata": {},
   "source": [
    "혼자 태우는 경우가 전혀 고려되지 않음.."
   ]
  },
  {
   "cell_type": "markdown",
   "metadata": {},
   "source": [
    "악 그리고 문제의 핵심이 .. 구명보트를 최대한 적게 사용하여 모든 사람을 구출하는 것이 목적.."
   ]
  },
  {
   "cell_type": "code",
   "execution_count": 17,
   "metadata": {},
   "outputs": [
    {
     "name": "stdout",
     "output_type": "stream",
     "text": [
      "3\n"
     ]
    }
   ],
   "source": [
    "def solution(people, limit):\n",
    "    people.sort()  # 무게를 정렬\n",
    "    left, right = 0, len(people) - 1\n",
    "    cnt = 0\n",
    "\n",
    "    while left <= right:\n",
    "        # 가장 무거운 사람 + 가장 가벼운 사람을 함께 태우는 경우를 우선 처리\n",
    "        if people[left] + people[right] <= limit:\n",
    "            left += 1  # 가장 가벼운 사람 태움\n",
    "        # 가장 무거운 사람은 항상 태움\n",
    "        right -= 1\n",
    "        cnt += 1  # 배 사용 횟수 증가\n",
    "\n",
    "    return cnt\n",
    "\n",
    "# 예제 테스트\n",
    "people = [70, 50, 80]\n",
    "limit = 100\n",
    "print(solution(people, limit))  # 출력: 3"
   ]
  },
  {
   "cell_type": "markdown",
   "metadata": {},
   "source": [
    "완전 이진트리"
   ]
  },
  {
   "cell_type": "markdown",
   "metadata": {},
   "source": [
    "1991 예제입력<br>\n",
    "7<br>\n",
    "A B C<br>\n",
    "B D .<br>\n",
    "C E F<br>\n",
    "E . .<br>\n",
    "F . G<br>\n",
    "D . .<br>\n",
    "G . .<br>"
   ]
  },
  {
   "cell_type": "code",
   "execution_count": 18,
   "metadata": {},
   "outputs": [
    {
     "ename": "ValueError",
     "evalue": "invalid literal for int() with base 10: ''",
     "output_type": "error",
     "traceback": [
      "\u001b[1;31m---------------------------------------------------------------------------\u001b[0m",
      "\u001b[1;31mValueError\u001b[0m                                Traceback (most recent call last)",
      "Cell \u001b[1;32mIn[18], line 1\u001b[0m\n\u001b[1;32m----> 1\u001b[0m n \u001b[38;5;241m=\u001b[39m \u001b[38;5;28;43mint\u001b[39;49m\u001b[43m(\u001b[49m\u001b[38;5;28;43minput\u001b[39;49m\u001b[43m(\u001b[49m\u001b[43m)\u001b[49m\u001b[38;5;241;43m.\u001b[39;49m\u001b[43mstrip\u001b[49m\u001b[43m(\u001b[49m\u001b[43m)\u001b[49m\u001b[43m)\u001b[49m\n\u001b[0;32m      2\u001b[0m tree \u001b[38;5;241m=\u001b[39m {}\n\u001b[0;32m      4\u001b[0m \u001b[38;5;28;01mfor\u001b[39;00m _ \u001b[38;5;129;01min\u001b[39;00m \u001b[38;5;28mrange\u001b[39m(n):\n",
      "\u001b[1;31mValueError\u001b[0m: invalid literal for int() with base 10: ''"
     ]
    }
   ],
   "source": [
    "n = int(input().strip())\n",
    "tree = {}\n",
    "\n",
    "for _ in range(n):\n",
    "    root, left, right = input().split()\n",
    "    tree[root] = (left, right)\n",
    "\n",
    "# 전위 순회 (Pre-order)\n",
    "def preorder(node):\n",
    "    if node == '.':\n",
    "        return\n",
    "    print(node, end='')\n",
    "    preorder(tree[node][0])\n",
    "    preorder(tree[node][1])\n",
    "\n",
    "# 중위 순회 (In-order)\n",
    "def inorder(node):\n",
    "    if node == '.':\n",
    "        return\n",
    "    inorder(tree[node][0])\n",
    "    print(node, end='')\n",
    "    inorder(tree[node][1])\n",
    "\n",
    "# 후위 순회 (Post-order)\n",
    "def postorder(node):\n",
    "    if node == '.':\n",
    "        return\n",
    "    postorder(tree[node][0])\n",
    "    postorder(tree[node][1])\n",
    "    print(node, end='')\n",
    "\n",
    "# 결과 출력\n",
    "preorder('A')\n",
    "print()\n",
    "inorder('A')\n",
    "print()\n",
    "postorder('A')\n"
   ]
  },
  {
   "cell_type": "code",
   "execution_count": null,
   "metadata": {},
   "outputs": [],
   "source": [
    "n = int(input())\n",
    "tree = {}\n",
    "\n",
    "for _ in range(n):\n",
    "    root, left, right = input().split()\n",
    "    tree[root] = (left, right)\n",
    "\n",
    "def preorder(node):\n",
    "    if node == '.':\n",
    "        return\n",
    "\n",
    "    print(node, end='')\n",
    "    preorder(tree[node][0])\n",
    "    preorder(tree[node][1])\n",
    "\n",
    "def inorder(node):\n",
    "    \n",
    "\n"
   ]
  },
  {
   "cell_type": "code",
   "execution_count": null,
   "metadata": {},
   "outputs": [],
   "source": [
    "def check(ori, boom):\n",
    "    stack = []\n",
    "    boom_len = len(boom)\n",
    "    if boom in ori:\n",
    "        stack.append([ori[-boom_len:]])\n",
    "    \n",
    "    \n",
    "\n",
    "\n",
    "        \n",
    "\n",
    "\n",
    "ori = input()\n",
    "boom = input()\n",
    "\n",
    "result = check(ori, boom)\n",
    "\n",
    "if result:\n",
    "    print(result)\n",
    "else:\n",
    "    print('FRUID')"
   ]
  },
  {
   "cell_type": "markdown",
   "metadata": {},
   "source": [
    "윽 또 틀림"
   ]
  },
  {
   "cell_type": "code",
   "execution_count": null,
   "metadata": {},
   "outputs": [],
   "source": [
    "def check(ori, boom):\n",
    "    stack = []\n",
    "    boom_len = len(boom)\n",
    "\n",
    "    for char in ori:\n",
    "        stack.append(char)\n",
    "\n",
    "        if ''.join(stack[-boom_len:]) == boom:\n",
    "            del stack[-boom_len:]\n",
    "\n",
    "    return ''.join(stack)\n",
    "\n",
    "ori = input()\n",
    "boom = input()\n",
    "\n",
    "result = check(ori, boom)\n",
    "\n",
    "if result:\n",
    "    print(result)\n",
    "else:\n",
    "    print('FRUID')"
   ]
  },
  {
   "cell_type": "markdown",
   "metadata": {},
   "source": [
    "이익 일단 stack 에 넣고 생각해야하는 구나 어렵넹 볼수록"
   ]
  },
  {
   "cell_type": "code",
   "execution_count": 1,
   "metadata": {},
   "outputs": [
    {
     "name": "stdout",
     "output_type": "stream",
     "text": [
      "abab\n"
     ]
    }
   ],
   "source": [
    "# 10분만에 다시 풀어보기 \n",
    " \n",
    "def check(ori, boom):\n",
    "    stack = []\n",
    "    boom_len = len(boom)\n",
    "\n",
    "    for char in ori:\n",
    "        stack.append(char)\n",
    "\n",
    "        if ''.join(stack[-boom_len:]) == boom:\n",
    "            del stack[-boom_len:]\n",
    "            \n",
    "    return ''.join(stack)\n",
    "\n",
    "\n",
    "\n",
    "\n",
    "ori = input()\n",
    "boom = input()\n",
    "\n",
    "result = check(ori, boom)\n",
    "\n",
    "if result:\n",
    "    print(result)\n",
    "else:\n",
    "    print('FRULA')\n",
    "    "
   ]
  },
  {
   "cell_type": "markdown",
   "metadata": {},
   "source": [
    "16120"
   ]
  },
  {
   "cell_type": "code",
   "execution_count": 11,
   "metadata": {},
   "outputs": [
    {
     "name": "stdout",
     "output_type": "stream",
     "text": [
      "PPAP\n"
     ]
    }
   ],
   "source": [
    "# 16120 PPAP\n",
    "\n",
    "# ppap 문자열 p에서 시작하여 문자열 내의 p를 ppap 로 바꾸는 과정을 반복하여 만들 수있는 문자열\n",
    "\n",
    "def check(str_i):\n",
    "    stack = []\n",
    "    ori = 'PPAP'\n",
    "\n",
    "    for char in str_i:\n",
    "        stack.append(char)\n",
    "        if ''.join(stack[-4:]) == ori:\n",
    "            del stack[-4:]\n",
    "            if stack:\n",
    "                stack.append('P')\n",
    "            else:\n",
    "                continue\n",
    "\n",
    "    result = ''.join(stack)\n",
    "    return result\n",
    "\n",
    "\n",
    "str_i = input()\n",
    "result = check(str_i)\n",
    "\n",
    "if result:\n",
    "    print('NP')\n",
    "else:\n",
    "    print('PPAP')\n"
   ]
  },
  {
   "cell_type": "markdown",
   "metadata": {},
   "source": [
    "틀림 ! 최종 문자열이 P 하나 남으면 PPAP 인것.."
   ]
  },
  {
   "cell_type": "code",
   "execution_count": 14,
   "metadata": {},
   "outputs": [
    {
     "name": "stdout",
     "output_type": "stream",
     "text": [
      "NP\n"
     ]
    }
   ],
   "source": [
    "# 16120 PPAP\n",
    "\n",
    "# ppap 문자열 p에서 시작하여 문자열 내의 p를 ppap 로 바꾸는 과정을 반복하여 만들 수있는 문자열\n",
    "\n",
    "def check(str_i):\n",
    "    stack = []\n",
    "    ori = 'PPAP'\n",
    "\n",
    "    for char in str_i:\n",
    "        stack.append(char)\n",
    "        if ''.join(stack[-4:]) == ori:\n",
    "            del stack[-4:]\n",
    "            stack.append('P')\n",
    "\n",
    "    result = ''.join(stack)\n",
    "    return result\n",
    "\n",
    "\n",
    "str_i = input()\n",
    "result = check(str_i)\n",
    "\n",
    "if result=='P':\n",
    "    print('PPAP')\n",
    "else:\n",
    "    print('NP')\n"
   ]
  },
  {
   "cell_type": "markdown",
   "metadata": {},
   "source": [
    "옥 맞음 ! "
   ]
  },
  {
   "cell_type": "code",
   "execution_count": null,
   "metadata": {},
   "outputs": [],
   "source": [
    "n = int(input())\n",
    "ls = list(map(int, input().split()))"
   ]
  },
  {
   "cell_type": "markdown",
   "metadata": {},
   "source": []
  },
  {
   "cell_type": "code",
   "execution_count": 7,
   "metadata": {},
   "outputs": [
    {
     "name": "stdout",
     "output_type": "stream",
     "text": [
      "1 2\n",
      "1 3\n",
      "1 4\n",
      "2 3\n",
      "2 4\n",
      "3 4\n"
     ]
    }
   ],
   "source": [
    "# 대피소 .. \n",
    "from itertools import combinations\n",
    "\n",
    "n, k = map(int, input().split())\n",
    "x =[]; y = []\n",
    "\n",
    "for i in range(n):\n",
    "    x_now, y_now = map(int, input().split())\n",
    "    x.append(x_now)\n",
    "    y.append(y_now)\n",
    "\n",
    "\n",
    "# 집 과 가장 가까운 대피소 와의 거리 를 구해야 하고.. (이때 대피소는 k 개..)\n",
    "# 이 거리들이 가장 \n",
    "range = 'INF'\n",
    "result = []\n",
    "for c in combinations(range(n), k):\n",
    "\n",
    "    r = abs(x[aidx] - x[bidx]) + abs(y[aidx]-y[bidx])   # 이게 아니라 ~ 대피소가 c 일때 .. c 만큼 반복해야함\n",
    "    r.append(range)\n",
    "\n",
    "\n",
    "\n",
    "\n"
   ]
  },
  {
   "cell_type": "code",
   "execution_count": null,
   "metadata": {},
   "outputs": [],
   "source": [
    "# 대피소 .. \n",
    "from itertools import combinations\n",
    "\n",
    "n, k = map(int, input().split())\n",
    "x =[]; y = []\n",
    "\n",
    "for i in range(n):\n",
    "    x_now, y_now = map(int, input().split())\n",
    "    x.append(x_now)\n",
    "    y.append(y_now)\n",
    "\n",
    "\n",
    "# 집 과 가장 가까운 대피소 와의 거리 를 구해야 하고.. (이때 대피소는 k 개..)\n",
    "# 이 거리가 가장 큰값의 거리를 출력해라 \n",
    "\n",
    "range = 'INF'\n",
    "result = []\n",
    "for c in combinations(range(n), k):\n",
    "    for idx in c:\n",
    "        range = min(abs(x[:] - x[idx]) + abs(y[:]-y[idx]))   # 이게 아니라 ~ 대피소가 c 일때 .. c 만큼 반복해야함\n",
    "    result.append(range)\n"
   ]
  },
  {
   "cell_type": "code",
   "execution_count": 21,
   "metadata": {},
   "outputs": [
    {
     "ename": "TypeError",
     "evalue": "'int' object is not callable",
     "output_type": "error",
     "traceback": [
      "\u001b[1;31m---------------------------------------------------------------------------\u001b[0m",
      "\u001b[1;31mTypeError\u001b[0m                                 Traceback (most recent call last)",
      "Cell \u001b[1;32mIn[21], line 11\u001b[0m\n\u001b[0;32m      8\u001b[0m result \u001b[38;5;241m=\u001b[39m[]\n\u001b[0;32m      9\u001b[0m cnt \u001b[38;5;241m=\u001b[39m \u001b[38;5;241m0\u001b[39m\n\u001b[1;32m---> 11\u001b[0m \u001b[38;5;28;01mfor\u001b[39;00m c \u001b[38;5;129;01min\u001b[39;00m combinations(\u001b[38;5;28;43mrange\u001b[39;49m\u001b[43m(\u001b[49m\u001b[38;5;241;43m1\u001b[39;49m\u001b[43m,\u001b[49m\u001b[43mn\u001b[49m\u001b[38;5;241;43m+\u001b[39;49m\u001b[38;5;241;43m1\u001b[39;49m\u001b[43m)\u001b[49m, k):\n\u001b[0;32m     12\u001b[0m     cnt \u001b[38;5;241m=\u001b[39m \u001b[38;5;241m0\u001b[39m\n\u001b[0;32m     13\u001b[0m     \u001b[38;5;28;01mfor\u001b[39;00m idx \u001b[38;5;129;01min\u001b[39;00m c:\n",
      "\u001b[1;31mTypeError\u001b[0m: 'int' object is not callable"
     ]
    }
   ],
   "source": [
    "x= [1,2,3,4,5]\n",
    "y = [1,2,3,4,5]\n",
    "\n",
    "n = 5\n",
    "k = 2\n",
    "\n",
    "tmp = []\n",
    "result =[]\n",
    "cnt = 0\n",
    "\n",
    "for c in combinations(range(n), k):\n",
    "    cnt = 0\n",
    "    for idx in c:\n",
    "        print(idx, end = ' ')\n",
    "        range = abs(x[cnt] - x[idx]) + abs(y[cnt]-y[idx]) \n",
    "        tmp.append(range)\n",
    "        cnt += 1\n",
    "    print()"
   ]
  },
  {
   "cell_type": "markdown",
   "metadata": {},
   "source": [
    "프로그래머스 .. ide 적응하기 .."
   ]
  },
  {
   "cell_type": "code",
   "execution_count": 5,
   "metadata": {},
   "outputs": [
    {
     "name": "stdout",
     "output_type": "stream",
     "text": [
      "0\n",
      "0\n"
     ]
    },
    {
     "ename": "IndexError",
     "evalue": "list assignment index out of range",
     "output_type": "error",
     "traceback": [
      "\u001b[1;31m---------------------------------------------------------------------------\u001b[0m",
      "\u001b[1;31mIndexError\u001b[0m                                Traceback (most recent call last)",
      "Cell \u001b[1;32mIn[5], line 32\u001b[0m\n\u001b[0;32m     28\u001b[0m         cnt\u001b[38;5;241m+\u001b[39m\u001b[38;5;241m=\u001b[39m\u001b[38;5;241m1\u001b[39m\n\u001b[0;32m     30\u001b[0m     \u001b[38;5;28mprint\u001b[39m(result)\n\u001b[1;32m---> 32\u001b[0m \u001b[43msolution\u001b[49m\u001b[43m(\u001b[49m\u001b[43mnumbers\u001b[49m\u001b[43m)\u001b[49m\n",
      "Cell \u001b[1;32mIn[5], line 20\u001b[0m, in \u001b[0;36msolution\u001b[1;34m(numbers)\u001b[0m\n\u001b[0;32m     18\u001b[0m \u001b[38;5;28mprint\u001b[39m(cnt)\n\u001b[0;32m     19\u001b[0m \u001b[38;5;28;01mif\u001b[39;00m num \u001b[38;5;241m<\u001b[39m i:\n\u001b[1;32m---> 20\u001b[0m    \u001b[43mresult\u001b[49m\u001b[43m[\u001b[49m\u001b[43mcnt\u001b[49m\u001b[43m]\u001b[49m \u001b[38;5;241m=\u001b[39m i\n\u001b[0;32m     21\u001b[0m    state \u001b[38;5;241m=\u001b[39m \u001b[38;5;28;01mTrue\u001b[39;00m\n\u001b[0;32m     22\u001b[0m    \u001b[38;5;28;01mbreak\u001b[39;00m\n",
      "\u001b[1;31mIndexError\u001b[0m: list assignment index out of range"
     ]
    }
   ],
   "source": [
    "# 뒤에 있는 큰수 찾기\n",
    "\n",
    "# 정수로 이루어진 배열 numbers\n",
    "# 각 원소들에 대해 자신보다 뒤에 있는 숫자 중에서 자신보다 크면서 가장 가까이 있는 수를 뒷큰수\n",
    "# 모든 원소에 대해 뒷 큰수들을 차례대로 담은 배열을 return 하는 solutin 함수 완성\n",
    "\n",
    "# 단 뒷 큰수가 존재하지 않는 원소는 -1\n",
    "\n",
    "numbers = list(map(int, input().split()))\n",
    "\n",
    "def solution(numbers):\n",
    "    result = []\n",
    "    cnt = 0\n",
    "\n",
    "    for num in numbers:\n",
    "        state= False\n",
    "        for i in numbers[cnt:]:\n",
    "            print(cnt)\n",
    "            if num < i:\n",
    "               result[cnt] = i\n",
    "               state = True\n",
    "               break\n",
    "            else:\n",
    "                continue\n",
    "\n",
    "        if state == False:\n",
    "            result[cnt] = -1\n",
    "        cnt+=1\n",
    "\n",
    "    print(result)\n",
    "\n",
    "solution(numbers)"
   ]
  },
  {
   "cell_type": "code",
   "execution_count": 6,
   "metadata": {},
   "outputs": [
    {
     "name": "stdout",
     "output_type": "stream",
     "text": [
      "[3, 5, 5, -1]\n"
     ]
    }
   ],
   "source": [
    "def solution(numbers):\n",
    "    result = [-1] * len(numbers)  # 결과 리스트를 -1로 초기화\n",
    "    stack = []  # 인덱스를 저장할 스택\n",
    "    \n",
    "    for i, num in enumerate(numbers):\n",
    "        # 스택이 비어 있지 않고 현재 숫자가 스택의 마지막 인덱스에 해당하는 숫자보다 큰 경우\n",
    "        while stack and numbers[stack[-1]] < num:\n",
    "            idx = stack.pop()\n",
    "            result[idx] = num  # 뒷 큰수를 현재 숫자로 갱신\n",
    "        stack.append(i)  # 현재 인덱스를 스택에 추가\n",
    "    \n",
    "    return result\n",
    "\n",
    "# 입력 받기\n",
    "numbers = list(map(int, input().split()))\n",
    "print(solution(numbers))\n"
   ]
  },
  {
   "cell_type": "code",
   "execution_count": null,
   "metadata": {},
   "outputs": [],
   "source": []
  }
 ],
 "metadata": {
  "kernelspec": {
   "display_name": "Python 3",
   "language": "python",
   "name": "python3"
  },
  "language_info": {
   "codemirror_mode": {
    "name": "ipython",
    "version": 3
   },
   "file_extension": ".py",
   "mimetype": "text/x-python",
   "name": "python",
   "nbconvert_exporter": "python",
   "pygments_lexer": "ipython3",
   "version": "3.12.3"
  }
 },
 "nbformat": 4,
 "nbformat_minor": 2
}
