{
 "cells": [
  {
   "cell_type": "code",
   "execution_count": null,
   "metadata": {},
   "outputs": [],
   "source": [
    "# 9935 문자열 폭발\n",
    "# 문자열에 폭발 문자열 심어 놓았\n",
    "# 폭발은 다음과 같은 과정으로 진행\n",
    "# 1. 문자열이 폭발 문자열을 포함하고 있는 경우 -> 모든 폭발 문자열 폭발 -> 남은 문자열을 순서대로 이어 새로운 문자열\n",
    "# 2. 새로 생긴 문자열에 폭발 문자열이 포함 되어 있을 수도 있다\n",
    "# 3. 폭발은 폭발 문자열이 문자열에 없을때까지 계속된다"
   ]
  },
  {
   "cell_type": "code",
   "execution_count": 2,
   "metadata": {},
   "outputs": [
    {
     "ename": "SyntaxError",
     "evalue": "invalid syntax (1050470025.py, line 15)",
     "output_type": "error",
     "traceback": [
      "\u001b[1;36m  Cell \u001b[1;32mIn[2], line 15\u001b[1;36m\u001b[0m\n\u001b[1;33m    or\u001b[0m\n\u001b[1;37m    ^\u001b[0m\n\u001b[1;31mSyntaxError\u001b[0m\u001b[1;31m:\u001b[0m invalid syntax\n"
     ]
    }
   ],
   "source": [
    "def check(new, ori):\n",
    "    if new in ori:\n",
    "        return True\n",
    "    else:\n",
    "        return False\n",
    "\n",
    "\n",
    "ori = input()\n",
    "boom = input()\n",
    "\n",
    "state = check(boom, ori)\n",
    "\n",
    "while (state == True):\n",
    "    id = ori.index(boom[0])\n",
    "    or\n",
    "\n",
    "# 근데 이렇게 짜다 보면 boom[0] 과 같은 알파벳으 ori 에 여러개가 있어서 다른 문자열을 폭발 시킬수 있는 오류가 있음\n",
    "\n"
   ]
  },
  {
   "cell_type": "code",
   "execution_count": 3,
   "metadata": {},
   "outputs": [
    {
     "name": "stdout",
     "output_type": "stream",
     "text": [
      "mirkovniz\n"
     ]
    }
   ],
   "source": [
    "def check(new, ori):\n",
    "    return new in ori\n",
    "\n",
    "\n",
    "ori = input()\n",
    "boom = input()\n",
    "\n",
    "state = check(boom, ori)\n",
    "\n",
    "while state:\n",
    "    ori = ori.replace(boom, \"\")\n",
    "    state = check(boom, ori)\n",
    "\n",
    "if ori:\n",
    "    print(ori)\n",
    "else:\n",
    "    print('FRULA')\n"
   ]
  },
  {
   "cell_type": "markdown",
   "metadata": {},
   "source": [
    "이 코드에서 보면 ori.replace 로 해당 문자열 폭발 하는 매서드를 사용한건 좋지만 시간 초과 문제가 발생함"
   ]
  },
  {
   "cell_type": "code",
   "execution_count": 7,
   "metadata": {},
   "outputs": [
    {
     "name": "stdout",
     "output_type": "stream",
     "text": [
      "mirkovniz\n"
     ]
    }
   ],
   "source": [
    "def remove_boom(ori, boom):\n",
    "    stack = []\n",
    "    boom_len = len(boom)\n",
    "    \n",
    "    for char in ori:\n",
    "        stack.append(char)  # 스택에 한 글자 추가\n",
    "        # 스택 끝부분이 `boom`과 같으면 `boom` 제거\n",
    "        if ''.join(stack[-boom_len:]) == boom:\n",
    "            del stack[-boom_len:]  # 스택에서 `boom`만큼 제거\n",
    "\n",
    "    # 결과 반환\n",
    "    return ''.join(stack)\n",
    "\n",
    "ori = input()\n",
    "boom = input()\n",
    "\n",
    "result = remove_boom(ori, boom)\n",
    "\n",
    "if result:\n",
    "    print(f\"{result}\")\n",
    "else:\n",
    "    print(\"FRULA\")\n"
   ]
  },
  {
   "cell_type": "markdown",
   "metadata": {},
   "source": [
    "스택 기반 풀이의 장점 \n",
    "\n",
    "→ 기존 replace 메서드는, 불변객체인 문자열을 처리하기 위해 replace 호출 할때마다 새로운 문자열싱 생성됨\n",
    "\n",
    "하지만 스택 방식은\n",
    "\n",
    "문자열을 한글자씩 순회하여 필요한 최소한의 작업만을 수행"
   ]
  },
  {
   "cell_type": "code",
   "execution_count": 9,
   "metadata": {},
   "outputs": [
    {
     "name": "stdout",
     "output_type": "stream",
     "text": [
      "mirkovniz\n"
     ]
    }
   ],
   "source": [
    "def remove_boom_efficiently(ori, boom):\n",
    "    while boom in ori:\n",
    "        ori = ori.replace(boom, \"\", 1)  # 한 번씩만 `boom`을 제거\n",
    "    return ori\n",
    "\n",
    "ori = input()\n",
    "boom = input()\n",
    "\n",
    "result = remove_boom_efficiently(ori, boom)\n",
    "\n",
    "if result:\n",
    "    print(f\"{result}\")\n",
    "else:\n",
    "    print(\"FRULA\")\n"
   ]
  },
  {
   "cell_type": "markdown",
   "metadata": {},
   "source": [
    "이렇게 해도 시간초과 남.. 문제풀이에는 replace 가 '해결'하는데는 좋은 메서드 일지라도 시간복잡도가 개큼 .. stack 을 잘 활용하자 ~ "
   ]
  },
  {
   "cell_type": "code",
   "execution_count": null,
   "metadata": {},
   "outputs": [],
   "source": [
    "def check(str, boom):\n",
    "    return str in boom\n",
    "\n",
    "str = input()\n",
    "boom = input()\n",
    "\n",
    "state = check(boom, str)\n",
    "\n",
    "while state:\n",
    "    str = str.replace(boom, \"\")\n",
    "    state = check(boom, str)\n",
    "\n",
    "    if str:\n",
    "        print(str)\n",
    "    else:\n",
    "        print('FRULA')\n"
   ]
  },
  {
   "cell_type": "code",
   "execution_count": 3,
   "metadata": {},
   "outputs": [
    {
     "name": "stdout",
     "output_type": "stream",
     "text": [
      "mirkovniz\n"
     ]
    }
   ],
   "source": [
    "def check(new, boom):\n",
    "    return boom in new\n",
    "\n",
    "ori = input()\n",
    "boom = input()\n",
    "\n",
    "state = check(ori, boom)\n",
    "\n",
    "while state:\n",
    "    ori = ori.replace(boom, \"\")\n",
    "    state = check(ori, boom)\n",
    "\n",
    "\n",
    "if ori:\n",
    "    print(ori)\n",
    "else:\n",
    "    print('FRULA')\n",
    "\n",
    "\n"
   ]
  },
  {
   "cell_type": "markdown",
   "metadata": {},
   "source": [
    "스택기반.."
   ]
  },
  {
   "cell_type": "code",
   "execution_count": 3,
   "metadata": {},
   "outputs": [
    {
     "name": "stdout",
     "output_type": "stream",
     "text": [
      "mirkovniz\n"
     ]
    }
   ],
   "source": [
    "def check(ori, boom):\n",
    "    stack = []\n",
    "    boom_len = len(boom)\n",
    "\n",
    "    for char in ori:\n",
    "        stack.append(char)\n",
    "\n",
    "        if ''.join(stack[-boom_len:]) == boom:\n",
    "            del stack[-boom_len:]\n",
    "\n",
    "    return ''.join(stack)\n",
    "\n",
    "\n",
    "\n",
    "ori = input()\n",
    "boom = input()\n",
    "\n",
    "result = check(ori, boom)\n",
    "\n",
    "if result:\n",
    "    print(result)\n",
    "else:\n",
    "    print('FRULA')"
   ]
  },
  {
   "cell_type": "code",
   "execution_count": 1,
   "metadata": {},
   "outputs": [
    {
     "name": "stdout",
     "output_type": "stream",
     "text": [
      "['m', 'i', 'r', 'k', 'o', 'v', 'C', '4', 'n', 'i', 'z', 'C', 'C', '4', '4']\n"
     ]
    }
   ],
   "source": [
    "def check(ori, boom):\n",
    "    stack = []\n",
    "    boom_len = len(boom)\n",
    "\n",
    "    for char in ori:\n",
    "        stack.append(char)\n",
    "\n",
    "        if stack[-boom_len:] == boom:\n",
    "            del stack[-boom:]\n",
    "        \n",
    "    return stack\n",
    "\n",
    "\n",
    "ori = input()\n",
    "boom = input()\n",
    "\n",
    "print(check(ori, boom))"
   ]
  },
  {
   "cell_type": "markdown",
   "metadata": {},
   "source": [
    "오 그냥 stack 을 반환하면 이렇게 문자 리스트 가 반환됨., 꼭 ''.joing(stack) 으로 반환할것"
   ]
  },
  {
   "cell_type": "code",
   "execution_count": null,
   "metadata": {},
   "outputs": [
    {
     "name": "stdout",
     "output_type": "stream",
     "text": [
      "mirkovniz\n"
     ]
    }
   ],
   "source": [
    "def check(ori, boom):\n",
    "    stack = []\n",
    "    boom_len = len(boom)\n",
    "\n",
    "    for char in ori:\n",
    "        stack.append(char)\n",
    "\n",
    "        if ''.join(stack[-boom_len:]) == boom:\n",
    "            del stack[-boom_len:]\n",
    "        \n",
    "    return ''.join(stack)\n",
    "\n",
    "\n",
    "ori = input()\n",
    "boom = input()\n",
    "\n",
    "result = check(ori, boom)\n",
    "\n",
    "if result:\n",
    "    print(result)\n",
    "else:\n",
    "    print(\"FRULA\")"
   ]
  },
  {
   "cell_type": "code",
   "execution_count": null,
   "metadata": {},
   "outputs": [],
   "source": []
  }
 ],
 "metadata": {
  "kernelspec": {
   "display_name": "Python 3",
   "language": "python",
   "name": "python3"
  },
  "language_info": {
   "codemirror_mode": {
    "name": "ipython",
    "version": 3
   },
   "file_extension": ".py",
   "mimetype": "text/x-python",
   "name": "python",
   "nbconvert_exporter": "python",
   "pygments_lexer": "ipython3",
   "version": "3.11.9"
  }
 },
 "nbformat": 4,
 "nbformat_minor": 2
}
