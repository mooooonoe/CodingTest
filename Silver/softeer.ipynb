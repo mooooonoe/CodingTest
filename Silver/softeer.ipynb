{
 "cells": [
  {
   "cell_type": "markdown",
   "metadata": {},
   "source": [
    "https://covenant.tistory.com/224#google_vignette"
   ]
  },
  {
   "cell_type": "code",
   "execution_count": 5,
   "metadata": {},
   "outputs": [
    {
     "name": "stdout",
     "output_type": "stream",
     "text": [
      "1998\n"
     ]
    }
   ],
   "source": [
    "# 1339 단어 수학 골드 4\n",
    "\n",
    "import collections  # 데이터 처리를 위한 자료구조 포함 \n",
    "\n",
    "n = int(input())\n",
    "\n",
    "ggs = []\n",
    "ss = collections.defaultdict(int) # 키가 존재하지 않을때 기본 값을 자동으로 설정해주는 딕셔너리 \n",
    "\n",
    "for _ in range(n):\n",
    "    a = input()\n",
    "\n",
    "    for i in range(len(a)):\n",
    "        ss[a[i]]+=(10**(len(a)-i-1))    # 알파벳의 가중치 계산\n",
    "\n",
    "    ggs.append(a)\n",
    "\n",
    "ss = list(sorted(ss.items(), key=lambda f:-f[1]))\n",
    "answer = 0\n",
    "\n",
    "for i in range(9,9-len(ss), -1):\n",
    "    answer += ss[9-i][1]*i\n",
    "print(answer)"
   ]
  },
  {
   "cell_type": "code",
   "execution_count": 9,
   "metadata": {},
   "outputs": [
    {
     "name": "stdout",
     "output_type": "stream",
     "text": [
      "1\n"
     ]
    }
   ],
   "source": [
    "# 브론즈 3 2501\n",
    "\n",
    "n, k = map(int, input().split())\n",
    "answer = []\n",
    "\n",
    "for i in range(1, n+1):\n",
    "    if n%i == 0:\n",
    "        answer.append(i)\n",
    "\n",
    "answer.sort()\n",
    "\n",
    "if len(answer) < k:\n",
    "    result = 0\n",
    "\n",
    "else:\n",
    "    result = answer[k-1]\n",
    "\n",
    "print(result)\n"
   ]
  },
  {
   "cell_type": "code",
   "execution_count": null,
   "metadata": {},
   "outputs": [],
   "source": [
    "# 브론즈 2 3460 이진수\n",
    "\n",
    "t = int(input())\n",
    "ls = list(map(int, input().split()))\n",
    "\n",
    "for i in range(t):\n",
    "    ls[i]"
   ]
  },
  {
   "cell_type": "markdown",
   "metadata": {},
   "source": [
    "https://seungyong20.tistory.com/entry/Python-%EB%B0%B1%EC%A4%80-3460%EB%B2%88-%EC%9D%B4%EC%A7%84%EC%88%98"
   ]
  },
  {
   "cell_type": "markdown",
   "metadata": {},
   "source": []
  },
  {
   "cell_type": "code",
   "execution_count": null,
   "metadata": {},
   "outputs": [
    {
     "name": "stdout",
     "output_type": "stream",
     "text": [
      "35 7\n"
     ]
    }
   ],
   "source": [
    "# 브론즈 3 10818 최소 최대\n",
    "n = int(input())\n",
    "\n",
    "ls = list(map(int, input().split()))\n",
    "\n",
    "maxnum = max(ls)\n",
    "minnum = min(ls)\n",
    "\n",
    "print(minnum, maxnum)"
   ]
  },
  {
   "cell_type": "code",
   "execution_count": 11,
   "metadata": {},
   "outputs": [
    {
     "name": "stdout",
     "output_type": "stream",
     "text": [
      "42\n"
     ]
    }
   ],
   "source": [
    "# 브론즈3 2460 지능형 기차2\n",
    "maxi = 0\n",
    "now = 0\n",
    "for _ in range(10):\n",
    "    x,y = map(int, input().split())\n",
    "    now -=x\n",
    "    now += y\n",
    "\n",
    "    if now>maxi:\n",
    "        maxi = now\n",
    "    else:\n",
    "        continue\n",
    "\n",
    "\n",
    "print(maxi)\n"
   ]
  },
  {
   "cell_type": "code",
   "execution_count": 17,
   "metadata": {},
   "outputs": [
    {
     "name": "stdout",
     "output_type": "stream",
     "text": [
      "55\n"
     ]
    }
   ],
   "source": [
    "# 브론즈 2 10870 피보나치 수 5\n",
    "n = int(input())\n",
    "fiboarr = [0,1]\n",
    "\n",
    "cnt = 1\n",
    "for _ in range(20):\n",
    "    num = fiboarr[cnt-1] + fiboarr[cnt]\n",
    "    fiboarr.append(num)\n",
    "    cnt +=1\n",
    "\n",
    "\n",
    "print(fiboarr[n])"
   ]
  },
  {
   "cell_type": "code",
   "execution_count": null,
   "metadata": {},
   "outputs": [],
   "source": [
    "# 브론즈 1 23090 일곱난쟁이 \n",
    "# 브루트포스 \n",
    "\n",
    "\n",
    "\n"
   ]
  },
  {
   "cell_type": "code",
   "execution_count": null,
   "metadata": {},
   "outputs": [],
   "source": []
  }
 ],
 "metadata": {
  "kernelspec": {
   "display_name": "Python 3",
   "language": "python",
   "name": "python3"
  },
  "language_info": {
   "codemirror_mode": {
    "name": "ipython",
    "version": 3
   },
   "file_extension": ".py",
   "mimetype": "text/x-python",
   "name": "python",
   "nbconvert_exporter": "python",
   "pygments_lexer": "ipython3",
   "version": "3.12.3"
  }
 },
 "nbformat": 4,
 "nbformat_minor": 2
}
