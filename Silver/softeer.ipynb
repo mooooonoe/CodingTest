{
 "cells": [
  {
   "cell_type": "code",
   "execution_count": 5,
   "metadata": {},
   "outputs": [
    {
     "name": "stdout",
     "output_type": "stream",
     "text": [
      "1998\n"
     ]
    }
   ],
   "source": [
    "# 1339 단어 수학 골드 4\n",
    "\n",
    "import collections  # 데이터 처리를 위한 자료구조 포함 \n",
    "\n",
    "n = int(input())\n",
    "\n",
    "ggs = []\n",
    "ss = collections.defaultdict(int) # 키가 존재하지 않을때 기본 값을 자동으로 설정해주는 딕셔너리 \n",
    "\n",
    "for _ in range(n):\n",
    "    a = input()\n",
    "\n",
    "    for i in range(len(a)):\n",
    "        ss[a[i]]+=(10**(len(a)-i-1))    # 알파벳의 가중치 계산\n",
    "\n",
    "    ggs.append(a)\n",
    "\n",
    "ss = list(sorted(ss.items(), key=lambda f:-f[1]))\n",
    "answer = 0\n",
    "\n",
    "for i in range(9,9-len(ss), -1):\n",
    "    answer += ss[9-i][1]*i\n",
    "print(answer)"
   ]
  },
  {
   "cell_type": "code",
   "execution_count": null,
   "metadata": {},
   "outputs": [],
   "source": []
  }
 ],
 "metadata": {
  "kernelspec": {
   "display_name": "Python 3",
   "language": "python",
   "name": "python3"
  },
  "language_info": {
   "codemirror_mode": {
    "name": "ipython",
    "version": 3
   },
   "file_extension": ".py",
   "mimetype": "text/x-python",
   "name": "python",
   "nbconvert_exporter": "python",
   "pygments_lexer": "ipython3",
   "version": "3.12.3"
  }
 },
 "nbformat": 4,
 "nbformat_minor": 2
}
