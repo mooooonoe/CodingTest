{
 "cells": [
  {
   "cell_type": "markdown",
   "metadata": {},
   "source": [
    "6998 Tree Isomorphsim 트리 동형사상"
   ]
  },
  {
   "cell_type": "markdown",
   "metadata": {},
   "source": [
    "트리 동형사상 : 두 트리의 구조가 동일 하지만, 노드의 값이 다를 수 있다는 뜻"
   ]
  },
  {
   "cell_type": "code",
   "execution_count": null,
   "metadata": {},
   "outputs": [],
   "source": [
    "# inpout\n",
    "\n",
    "2\n",
    "a b d # e # # c # #\n",
    "x y u # # z # #\n",
    "a b d # e # # c f # # g # #\n",
    "x y v # # u # z w # t # # #"
   ]
  },
  {
   "cell_type": "markdown",
   "metadata": {},
   "source": [
    "preorder traversal 전위 순회 - # 는 빈 노드 null"
   ]
  },
  {
   "cell_type": "code",
   "execution_count": 1,
   "metadata": {},
   "outputs": [],
   "source": [
    "def build_tree(preorder):\n",
    "    # 전위 순회 직렬화 바탕으로 트리 생성\n",
    "    if not preorder:\n",
    "        return None, preorder\n",
    "    \n",
    "    value = preorder.pop(0)\n",
    "    if value == \"#\":\n",
    "        return None, preorder\n",
    "    \n",
    "    root = {\"value\":value, \"left\":None, \"right\":None} # dict 으로 tree 저장..\n",
    "    root[\"left\"], preorder = build_tree(preorder)\n",
    "    root[\"right\"], preorder = build_tree(preorder)\n",
    "\n",
    "    return root, preorder\n",
    "\n",
    "\n",
    "def is_isomorphic(tree1, tree2):\n",
    "    if not tree1 and not tree2:\n",
    "        return True\n",
    "    if not tree1 or not tree2:\n",
    "        return False\n",
    "\n",
    "\n",
    "def main():\n",
    "    import sys\n",
    "    input = sys.stdin.read\n",
    "    data = input().spitlines()\n",
    "\n",
    "    tree1_preorder = data[1].split()\n",
    "    tree2_preorder = data[2].split()\n",
    "\n",
    "    tree1, _ = build_tree(tree1_preorder)\n",
    "    tree2, _ = build_tree(tree2_preorder)\n",
    "\n",
    "    if is_isomorphic(tree1, tree2):\n",
    "        print(\"The two trees are not isomorphic.\")\n",
    "    else:\n",
    "        print(\"The two trees are isomorphic.\")\n",
    "\n",
    "if __name__ == \"__main__\":\n",
    "    main()"
   ]
  },
  {
   "cell_type": "code",
   "execution_count": 1,
   "metadata": {},
   "outputs": [],
   "source": [
    "def build_tree(preorder):\n",
    "    \"\"\"전위 순회 직렬화를 바탕으로 트리를 생성하는 함수\"\"\"\n",
    "    if not preorder:  # 리스트가 비었는지 확인\n",
    "        return None, preorder\n",
    "    value = preorder.pop(0)\n",
    "    if value == \"#\":  # 빈 노드를 만나면 None 반환\n",
    "        return None, preorder\n",
    "    root = {\"value\": value, \"left\": None, \"right\": None}\n",
    "    root[\"left\"], preorder = build_tree(preorder)\n",
    "    root[\"right\"], preorder = build_tree(preorder)\n",
    "    return root, preorder\n",
    "\n",
    "\n",
    "def is_isomorphic(tree1, tree2):\n",
    "    \"\"\"두 트리가 동형사상인지 판별하는 재귀 함수\"\"\"\n",
    "    if not tree1 and not tree2:  # 둘 다 None이면 True\n",
    "        return True\n",
    "    if not tree1 or not tree2:  # 하나만 None이면 False\n",
    "        return False\n",
    "\n",
    "    # 왼쪽/오른쪽 서브트리를 교환하여 비교 (순서에 관계없이 비교)\n",
    "    return (is_isomorphic(tree1[\"left\"], tree2[\"left\"]) and\n",
    "            is_isomorphic(tree1[\"right\"], tree2[\"right\"])) or \\\n",
    "           (is_isomorphic(tree1[\"left\"], tree2[\"right\"]) and\n",
    "            is_isomorphic(tree1[\"right\"], tree2[\"left\"]))\n",
    "\n",
    "\n",
    "def main():\n",
    "    import sys\n",
    "    input = sys.stdin.read\n",
    "    data = input().splitlines()\n",
    "\n",
    "    # 입력 파싱 및 트리 생성\n",
    "    tree1_preorder = data[1].split()\n",
    "    tree2_preorder = data[2].split()\n",
    "\n",
    "    tree1, _ = build_tree(tree1_preorder[:])  # 리스트 복사해서 사용\n",
    "    tree2, _ = build_tree(tree2_preorder[:])  # 리스트 복사해서 사용\n",
    "\n",
    "    # 동형사상 판별\n",
    "    if is_isomorphic(tree1, tree2):\n",
    "        print(\"YES\")\n",
    "    else:\n",
    "        print(\"NO\")\n",
    "\n",
    "\n",
    "if __name__ == \"__main__\":\n",
    "    main()\n"
   ]
  },
  {
   "cell_type": "code",
   "execution_count": null,
   "metadata": {},
   "outputs": [],
   "source": []
  }
 ],
 "metadata": {
  "kernelspec": {
   "display_name": "kwixmsb",
   "language": "python",
   "name": "python3"
  },
  "language_info": {
   "codemirror_mode": {
    "name": "ipython",
    "version": 3
   },
   "file_extension": ".py",
   "mimetype": "text/x-python",
   "name": "python",
   "nbconvert_exporter": "python",
   "pygments_lexer": "ipython3",
   "version": "3.9.18"
  }
 },
 "nbformat": 4,
 "nbformat_minor": 2
}
