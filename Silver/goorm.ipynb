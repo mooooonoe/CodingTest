{
 "cells": [
  {
   "cell_type": "markdown",
   "metadata": {},
   "source": [
    "발전기 - bfs 마을에서 집이 모여있는 덩어리의 개수 세어주면 됨 <br>\n",
    "(1) 마을 탐색하며 집 인 경우를 찾아서 방문 처리 하고 큐에 삽입<br>\n",
    "(2) 큐에서 노드 꺼내서 상하 좌우에 방문하지 않은 인접한 집 확인<br>\n",
    "(3) 모두 큐에 삽입하고 방문 처리<br>"
   ]
  },
  {
   "cell_type": "code",
   "execution_count": 5,
   "metadata": {},
   "outputs": [
    {
     "name": "stdout",
     "output_type": "stream",
     "text": [
      "2\n"
     ]
    }
   ],
   "source": [
    "# n 정사각형 모양 마을 m \n",
    "# r번째 행 c번째 열에 해당하는 칸에 숫자가 적혀 있음 0 없음 or 1 집\n",
    "# 집 전력 공급 -> 집에 발전기 설치 하거나 상하좌우 인접한 집 중 하나가 전력 공급 받고 있음\n",
    "# 발전기의 최소 개수 \n",
    "\n",
    "from collections import deque\n",
    "\n",
    "n = int(input())\n",
    "maze = [0]*(n)\n",
    "\n",
    "for i in range(n):\n",
    "\tmazeinput = list(map(int, input().split()))\n",
    "\tmaze[i] = mazeinput\n",
    "\t\n",
    "\n",
    "visitied = [[False] *(n) for _ in range(n)]\n",
    "dirt = [[-1,0], [1,0], [0,-1],[0,1]]\n",
    "queue = deque()\n",
    "result = 0\n",
    "for i in range(n):\n",
    "    for j in range(n):\n",
    "        if maze[i][j] == 1 and not visitied[i][j]:\n",
    "            visitied[i][j] = True\n",
    "            result += 1\n",
    "            queue.append((i,j))\n",
    "\n",
    "            while(queue):\n",
    "                x,y = queue.popleft()\n",
    "                for dx,dy in dirt:\n",
    "                    nx = x+dx\n",
    "                    ny = y+dy\n",
    "\n",
    "                    if 0<=nx<n and 0<=ny<n:\n",
    "                        if maze[nx][ny] == 1 and not visitied[nx][ny]:\n",
    "                            visitied[nx][ny] = True\n",
    "                            queue.append((nx,ny))\n",
    "\n",
    "print(result)\n",
    "\n"
   ]
  },
  {
   "cell_type": "markdown",
   "metadata": {},
   "source": [
    "과일 구매 \n",
    "과일 n 종fbrk 한개 씩 있고 각 과일의 가격 Pi 플레이어가 얻을 수 있는 포만감 Ci\n",
    "가격이 p인 과일을 조각 단위로 구매 할때  p개의 조각으로 자른 뒤 그중 원하는 조각 만 구매 가능 "
   ]
  },
  {
   "cell_type": "code",
   "execution_count": null,
   "metadata": {},
   "outputs": [],
   "source": []
  }
 ],
 "metadata": {
  "kernelspec": {
   "display_name": "Python 3",
   "language": "python",
   "name": "python3"
  },
  "language_info": {
   "codemirror_mode": {
    "name": "ipython",
    "version": 3
   },
   "file_extension": ".py",
   "mimetype": "text/x-python",
   "name": "python",
   "nbconvert_exporter": "python",
   "pygments_lexer": "ipython3",
   "version": "3.11.9"
  }
 },
 "nbformat": 4,
 "nbformat_minor": 2
}
