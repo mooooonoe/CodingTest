{
 "cells": [
  {
   "cell_type": "markdown",
   "metadata": {},
   "source": [
    "1"
   ]
  },
  {
   "cell_type": "markdown",
   "metadata": {},
   "source": []
  },
  {
   "cell_type": "code",
   "execution_count": null,
   "metadata": {},
   "outputs": [],
   "source": []
  },
  {
   "cell_type": "markdown",
   "metadata": {},
   "source": [
    "2"
   ]
  },
  {
   "cell_type": "markdown",
   "metadata": {},
   "source": [
    "직사각형에서 가장 가장자리를 파란색 으로, 이외는 하얀색 타일로 칠할 때 한칸마다 넓이가 1이다. 이때 입력으로 파란색 과 하얀색 타일의 면적을 b 와 w 가 각각 입력 주어질때 전체 넓이의 가로, 세로 길이를 구할 수 있는 파이썬 코드"
   ]
  },
  {
   "cell_type": "code",
   "execution_count": 1,
   "metadata": {},
   "outputs": [
    {
     "name": "stdout",
     "output_type": "stream",
     "text": [
      "가로: 3, 세로: 4\n"
     ]
    }
   ],
   "source": [
    "def find_dimensions(b, w):\n",
    "    total_area = b + w\n",
    "    \n",
    "    # 가능한 가로(x)와 세로(y)의 조합을 탐색\n",
    "    for x in range(1, int(total_area**0.5) + 1):\n",
    "        if total_area % x == 0:  # x가 전체 면적의 약수인 경우\n",
    "            y = total_area // x\n",
    "            # 가장자리의 파란 타일 수 확인\n",
    "            if b == 2 * (x + y - 2):\n",
    "                return x, y\n",
    "    \n",
    "    return None  # 적합한 가로, 세로를 찾지 못한 경우\n",
    "\n",
    "# 예제\n",
    "b, w = map(int, input().split())\n",
    "result = find_dimensions(b, w)\n",
    "if result:\n",
    "    print(f\"가로: {result[0]}, 세로: {result[1]}\")\n",
    "else:\n",
    "    print(\"적합한 가로와 세로를 찾을 수 없습니다.\")\n"
   ]
  },
  {
   "cell_type": "markdown",
   "metadata": {},
   "source": [
    "3"
   ]
  },
  {
   "cell_type": "markdown",
   "metadata": {},
   "source": [
    "3개의 컵중 하나에 공이 들어있는 상태인데, 어는 컵에 들어있는지 모른다. 이때 1회 두개의 컵을 섞은 뒤 어느 컵에 있을지 예측하는 것을 반복한다. 두개의 컵이 a,b 이고 어는 컵에 있을지 b 로 총 n 번 입력 될때 최대로 획득 할 수 있는 점수를 출력하는 프로그램을 작성해라 인풋은 아래와 같고 아웃풋은 아래와 같다.\n",
    "\n",
    "input<br>\n",
    "3<br>\n",
    "1 2 1<br>\n",
    "3 2 1<br>\n",
    "1 3 1<br>"
   ]
  },
  {
   "cell_type": "code",
   "execution_count": 2,
   "metadata": {},
   "outputs": [
    {
     "name": "stdout",
     "output_type": "stream",
     "text": [
      "1\n"
     ]
    }
   ],
   "source": [
    "def max_score(n, actions):\n",
    "    # 초기 공의 위치 (1, 2, 3 중 하나)\n",
    "    current_position = 1  # 공이 처음에는 1번 컵에 있다고 가정\n",
    "    score = 0\n",
    "\n",
    "    for a, b, guess in actions:\n",
    "        # 컵 a와 b를 섞는다\n",
    "        if current_position == a:\n",
    "            current_position = b\n",
    "        elif current_position == b:\n",
    "            current_position = a\n",
    "        \n",
    "        # 예측이 맞으면 점수 증가\n",
    "        if current_position == guess:\n",
    "            score += 1\n",
    "\n",
    "    return score\n",
    "\n",
    "# 입력 예제\n",
    "n = 3\n",
    "actions = [\n",
    "    (1, 2, 1),\n",
    "    (3, 2, 1),\n",
    "    (1, 3, 1),\n",
    "]\n",
    "\n",
    "# 출력 결과\n",
    "print(max_score(n, actions))  # 출력: 2\n"
   ]
  },
  {
   "cell_type": "code",
   "execution_count": 3,
   "metadata": {},
   "outputs": [
    {
     "name": "stdout",
     "output_type": "stream",
     "text": [
      "1\n"
     ]
    }
   ],
   "source": [
    "def max_score_with_dp(n, actions):\n",
    "    # DP 리스트 초기화: 공의 상태를 [True, False, False]로 설정 (공은 처음 1번 컵에 있음)\n",
    "    dp = [False] * 4  # 1-indexed 사용\n",
    "    dp[1] = True  # 초기 상태: 공이 1번 컵에 있음\n",
    "\n",
    "    score = 0  # 점수 초기화\n",
    "\n",
    "    for a, b, guess in actions:\n",
    "        # 컵 섞기: 새 상태를 저장할 리스트 생성\n",
    "        new_dp = [False] * 4\n",
    "        \n",
    "        # 컵 a와 b를 섞은 결과 반영\n",
    "        for i in range(1, 4):\n",
    "            if dp[i]:\n",
    "                if i == a:\n",
    "                    new_dp[b] = True\n",
    "                elif i == b:\n",
    "                    new_dp[a] = True\n",
    "                else:\n",
    "                    new_dp[i] = True\n",
    "        \n",
    "        # DP 리스트 갱신\n",
    "        dp = new_dp\n",
    "\n",
    "        # 예측이 맞는지 확인\n",
    "        if dp[guess]:\n",
    "            score += 1\n",
    "\n",
    "    return score\n",
    "\n",
    "# 입력 예제\n",
    "n = 3\n",
    "actions = [\n",
    "    (1, 2, 1),  # 1번 컵과 2번 컵을 섞고 1번 컵 예측\n",
    "    (3, 2, 1),  # 3번 컵과 2번 컵을 섞고 1번 컵 예측\n",
    "    (1, 3, 1),  # 1번 컵과 3번 컵을 섞고 1번 컵 예측\n",
    "]\n",
    "\n",
    "# 결과 출력\n",
    "print(max_score_with_dp(n, actions))  # 출력: 2\n"
   ]
  },
  {
   "cell_type": "code",
   "execution_count": 4,
   "metadata": {},
   "outputs": [
    {
     "name": "stdout",
     "output_type": "stream",
     "text": [
      "2\n"
     ]
    }
   ],
   "source": [
    "def max_score_with_dp(n, actions):\n",
    "    # DP 초기화: 각 컵(1, 2, 3)에 공이 처음 있었을 경우 점수를 계산\n",
    "    dp = [0, 0, 0, 0]  # 1-indexed 사용 (dp[0]은 사용하지 않음)\n",
    "\n",
    "    # 각 초기 상태에 대해 점수를 계산\n",
    "    for initial_position in range(1, 4):  # 공이 처음에 1, 2, 3번 컵에 있을 경우\n",
    "        current_position = initial_position  # 현재 공의 위치\n",
    "        score = 0\n",
    "\n",
    "        # 모든 섞기 연산 처리\n",
    "        for a, b, guess in actions:\n",
    "            # 공의 위치 업데이트\n",
    "            if current_position == a:\n",
    "                current_position = b\n",
    "            elif current_position == b:\n",
    "                current_position = a\n",
    "\n",
    "            # 예측이 맞으면 점수 증가\n",
    "            if current_position == guess:\n",
    "                score += 1\n",
    "\n",
    "        # 해당 초기 상태에서의 최대 점수 저장\n",
    "        dp[initial_position] = score\n",
    "\n",
    "    # DP 리스트 중 최대 점수 반환\n",
    "    return max(dp)\n",
    "\n",
    "# 입력 예제\n",
    "n = 3\n",
    "actions = [\n",
    "    (1, 2, 1),  # 1번 컵과 2번 컵을 섞고 1번 컵 예측\n",
    "    (3, 2, 1),  # 3번 컵과 2번 컵을 섞고 1번 컵 예측\n",
    "    (1, 3, 1),  # 1번 컵과 3번 컵을 섞고 1번 컵 예측\n",
    "]\n",
    "\n",
    "# 결과 출력\n",
    "print(max_score_with_dp(n, actions))  # 출력: 2\n"
   ]
  },
  {
   "cell_type": "code",
   "execution_count": 5,
   "metadata": {},
   "outputs": [
    {
     "name": "stdout",
     "output_type": "stream",
     "text": [
      "2\n"
     ]
    }
   ],
   "source": [
    "def check(n, actions):\n",
    "    dp = [0, 0, 0, 0]\n",
    "\n",
    "    for init in range(1,4):\n",
    "        curr = init\n",
    "        score = 0\n",
    "\n",
    "        for a,b,guess in actions:\n",
    "            if curr == a:\n",
    "                curr = b\n",
    "            elif curr == b:\n",
    "                curr = a\n",
    "            \n",
    "            if curr == guess:\n",
    "                score +=1\n",
    "            \n",
    "        dp[init] = score\n",
    "\n",
    "    \n",
    "    return max(dp)\n",
    "        \n",
    "\n",
    "n = int(input())\n",
    "actions = []\n",
    "for i in range(n):\n",
    "    comm = list(map(int, input().split()))\n",
    "    actions.append(comm)\n",
    "\n",
    "print(check(n, actions))"
   ]
  },
  {
   "cell_type": "code",
   "execution_count": null,
   "metadata": {},
   "outputs": [],
   "source": [
    "3 2 "
   ]
  }
 ],
 "metadata": {
  "kernelspec": {
   "display_name": "Python 3",
   "language": "python",
   "name": "python3"
  },
  "language_info": {
   "codemirror_mode": {
    "name": "ipython",
    "version": 3
   },
   "file_extension": ".py",
   "mimetype": "text/x-python",
   "name": "python",
   "nbconvert_exporter": "python",
   "pygments_lexer": "ipython3",
   "version": "3.11.9"
  }
 },
 "nbformat": 4,
 "nbformat_minor": 2
}
