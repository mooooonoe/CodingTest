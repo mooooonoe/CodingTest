{
 "cells": [
  {
   "cell_type": "markdown",
   "metadata": {},
   "source": [
    "안알려진 꿀팁 문제들<br>\n",
    "https://www.acmicpc.net/workbook/view/4357<br>\n",
    "silver<br>\n",
    "https://www.acmicpc.net/workbook/view/9432"
   ]
  },
  {
   "cell_type": "markdown",
   "metadata": {},
   "source": [
    "1254 "
   ]
  },
  {
   "cell_type": "code",
   "execution_count": null,
   "metadata": {},
   "outputs": [],
   "source": [
    "# 1254 팰린드롬 만들기 \n",
    "# 팰린드롬이란 앞으로 뒤로 읽어도 같게 읽히는 문자열\n",
    "# 적어놓고 간 문자열 S 에 0개 이상의 문자를 문자열 뒹 추가해서 팰린드롬을 만들려고 한다\n",
    "# 가능한 가장 짧은 문자열\n",
    "\n",
    "# 총길이 출력\n",
    "\n",
    "st = input()\n",
    "tmp = []\n",
    "# 스택이나 큐 만들기 ..\n",
    "\n",
    "\n",
    "for alpha in st:\n",
    "    tmp.append(alpha)\n",
    "    \n",
    "print(tmp)\n",
    "tmp.reverse()\n",
    "print(tmp)\n",
    "\n"
   ]
  },
  {
   "cell_type": "markdown",
   "metadata": {},
   "source": [
    "startswith는 파이썬에서 문자열 메서드 중 하나로, 특정 문자열이 주어진 접두사(문자열의 시작 부분)로 시작하는지를 확인하는 기능"
   ]
  },
  {
   "cell_type": "code",
   "execution_count": null,
   "metadata": {},
   "outputs": [],
   "source": [
    "st = input().strip()\n",
    "print(type(st))\n",
    "arr = input()\n",
    "print(type(arr))"
   ]
  },
  {
   "cell_type": "code",
   "execution_count": null,
   "metadata": {},
   "outputs": [],
   "source": [
    "st = input()\n",
    "n = len(st)\n",
    "arr =[]\n",
    "for i in st:\n",
    "    arr.append(i)\n",
    "\n",
    "print(arr)\n",
    "arr.reverse()\n",
    "ts = arr\n",
    "cnt = 0\n",
    "\n",
    "for i in range(n):\n",
    "    if st[i:] == ts[:n-i]:\n",
    "        break\n",
    "    cnt +=1\n",
    "\n",
    "total = n+cnt\n",
    "print(total)"
   ]
  },
  {
   "cell_type": "code",
   "execution_count": null,
   "metadata": {},
   "outputs": [],
   "source": [
    "st = input()\n",
    "n = len(st)\n",
    "\n",
    "ts = st[::-1]\n",
    "cnt = 0\n",
    "\n",
    "for i in range(n):\n",
    "    if st[i:] == ts[:n-i]:\n",
    "        break\n",
    "    cnt +=1\n",
    "\n",
    "total = n+cnt\n",
    "print(total)"
   ]
  },
  {
   "cell_type": "markdown",
   "metadata": {},
   "source": [
    "4889"
   ]
  },
  {
   "cell_type": "code",
   "execution_count": null,
   "metadata": {},
   "outputs": [],
   "source": [
    "# 4889 안정적인 문자열\n",
    "arr = []\n",
    "cnt = 0\n",
    "\n",
    "while True:\n",
    "    cnt += 1\n",
    "    left = 0\n",
    "    right = 0\n",
    "    string = input().strip()\n",
    "    if  '-' in string:\n",
    "        break\n",
    "\n",
    "    for char in string:\n",
    "        if char == '{':\n",
    "            left +=1\n",
    "        elif char == '}':\n",
    "            right +=1\n"
   ]
  },
  {
   "cell_type": "code",
   "execution_count": null,
   "metadata": {},
   "outputs": [],
   "source": [
    "# 4889 안정적인 문자열\n",
    "cnt = 0  # 테스트 케이스 번호\n",
    "\n",
    "while True:\n",
    "    string = input().strip()\n",
    "    \n",
    "    if '-' in string:\n",
    "        break  # '-'가 포함된 문자열을 입력받으면 종료\n",
    "    \n",
    "    cnt += 1  # 테스트 케이스 번호 증가\n",
    "    \n",
    "    left = 0  # 여는 괄호의 수\n",
    "    corrections = 0  # 필요한 수정 횟수\n",
    "    \n",
    "    # 문자열을 순회하며 여는 괄호와 닫는 괄호를 검사\n",
    "    for char in string:\n",
    "        if char == '{':\n",
    "            left += 1  # 여는 괄호 추가\n",
    "        elif char == '}':\n",
    "            if left > 0:\n",
    "                left -= 1  # 매칭되는 여는 괄호가 있으면 사용\n",
    "            else:\n",
    "                corrections += 1  # 매칭되는 여는 괄호가 없으면 수정 필요 (여는 괄호로 바꿔야 함)\n",
    "                left += 1  # 여는 괄호로 교환한 효과\n",
    "\n",
    "    # 남아있는 여는 괄호의 절반만큼 수정해야 함 (남은 여는 괄호들을 닫는 괄호로 바꿔야 함)\n",
    "    corrections += left // 2\n",
    "    \n",
    "    # 결과 출력\n",
    "    print(f\"{cnt}. {corrections}\")\n"
   ]
  },
  {
   "cell_type": "markdown",
   "metadata": {},
   "source": [
    "2002 추월"
   ]
  },
  {
   "cell_type": "code",
   "execution_count": null,
   "metadata": {},
   "outputs": [],
   "source": [
    "# 2002 추월\n",
    "# 첫 줄에는 차의 대수 N\n",
    "# 둘째줄 부터 터널 입구 차량 번호 목록\n",
    "# N+2 터널 출구 차량 번호 목록\n",
    "N = int(input())\n",
    "car_in = []\n",
    "car_out = []\n",
    "cnt = 0\n",
    "\n",
    "\n",
    "for _ in range(N):\n",
    "    str = input()\n",
    "    car_in.append(str)\n",
    "\n",
    "\n",
    "for _ in range(N):\n",
    "    str = input()\n",
    "    car_out.append(str)\n",
    "\n",
    "car_in.reverse()\n",
    "\n",
    "for char in car_out:\n",
    "    tmp = car_in.pop()\n",
    "    if tmp == char:\n",
    "        continue\n",
    "    else :\n",
    "        car_in.append(tmp)\n",
    "        idx = car_in.index(char)\n",
    "        car_in.pop(idx)\n",
    "        cnt += 1\n",
    "\n",
    "print(cnt)\n",
    "    "
   ]
  },
  {
   "cell_type": "markdown",
   "metadata": {},
   "source": [
    "2002 크면서 작은 수"
   ]
  },
  {
   "cell_type": "code",
   "execution_count": null,
   "metadata": {},
   "outputs": [],
   "source": [
    "# 2992 크면서 작은 수 \n",
    "num = input()\n",
    "integer = int(num)\n",
    "\n",
    "# 모든 경우의 수\n",
    "# 165 : 165 156 516 561 651 615 6가지\n",
    "# 16 : 16 61 2가지 \n",
    "# 1234 : 1234 1243 1324 1342 1423 1432 24 가지 \n",
    "# 총 n! \n",
    "\n",
    "caselen = 1\n",
    "for i in range(len(num)):\n",
    "    caselen = caselen * (i+1)\n",
    "\n",
    "dp = [0 for _ in range(caselen)]\n",
    "arr =[]\n",
    "\n",
    "for n in num:\n",
    "    arr.append(n)\n",
    "\n",
    "for n in num:\n",
    "    tmp = arr.pop()\n",
    "    for m in arr:\n",
    "        print(char)\n",
    "\n"
   ]
  },
  {
   "cell_type": "code",
   "execution_count": null,
   "metadata": {},
   "outputs": [],
   "source": [
    "from itertools import permutations\n",
    "\n",
    "# Read input\n",
    "num = input()\n",
    "integer = int(num)\n",
    "\n",
    "# Convert the number to a list of characters\n",
    "arr = list(num)\n",
    "\n",
    "# Generate all permutations and convert them to integers\n",
    "perm_list = sorted(set(int(''.join(p)) for p in permutations(arr))) # *** 모든 경우가 perm_list 에 담김 ! sorted(set()) # permutations 순열 생성\n",
    "\n",
    "#print(perm_list)\n",
    "\n",
    "# Find the smallest number greater than the original integer\n",
    "result = -1  # Default value if no such number exists\n",
    "for p in perm_list:\n",
    "    if p > integer:\n",
    "        result = p\n",
    "        break\n",
    "\n",
    "# Output the result\n",
    "if result != -1:\n",
    "    print(result)\n",
    "else:\n",
    "    print(0)\n"
   ]
  },
  {
   "cell_type": "code",
   "execution_count": null,
   "metadata": {},
   "outputs": [],
   "source": [
    "# 순열 생성 함수\n",
    "def generate_permutations(arr, depth, n, k, result):\n",
    "    if depth == k:\n",
    "        result.append(int(''.join(arr)))  # 순열을 정수로 변환하여 저장\n",
    "        return\n",
    "\n",
    "    for i in range(depth, n):\n",
    "        arr[i], arr[depth] = arr[depth], arr[i]  # 스왑\n",
    "        generate_permutations(arr, depth + 1, n, k, result)                 # 재귀 함수 로 순열 생성 ***\n",
    "        arr[i], arr[depth] = arr[depth], arr[i]  # 원상복구\n",
    "\n",
    "# 입력 처리\n",
    "num = input()\n",
    "integer = int(num)\n",
    "\n",
    "# 숫자를 리스트로 변환\n",
    "arr = list(num)\n",
    "result = []\n",
    "\n",
    "# 순열 생성\n",
    "generate_permutations(arr, 0, len(arr), len(arr), result)\n",
    "\n",
    "# 중복 제거 및 정렬\n",
    "perm_list = sorted(set(result))\n",
    "\n",
    "# 원래 숫자보다 큰 가장 작은 수 찾기\n",
    "answer = -1  # 기본값, 조건을 만족하는 수가 없을 때 사용\n",
    "for p in perm_list:\n",
    "    if p > integer:\n",
    "        answer = p\n",
    "        break\n",
    "\n",
    "# 결과 출력\n",
    "if answer != -1:\n",
    "    print(answer)\n",
    "else:\n",
    "    print(0)\n"
   ]
  },
  {
   "cell_type": "markdown",
   "metadata": {},
   "source": [
    "13413"
   ]
  },
  {
   "cell_type": "code",
   "execution_count": null,
   "metadata": {},
   "outputs": [],
   "source": [
    "# 13413 오셀로 재배치\n",
    "# 말이 앞면은 검정 뒷면이 흰색 -> 로봇 사용하여 처음 배치된 말을 주어진 형태로 바꾸는 일 \n",
    "\n",
    "# 작업 2개\n",
    "# 1. 배치된 말 중 임의의 2개의 말을 골라 서로의 위치 바꾼다\n",
    "# 2. 말 1개를 들어 뒤집어 놓아 색상 변경\n",
    "\n",
    "# 목표 상태에 도달 할 수 있는 최소 횟수 \n",
    "\n",
    "def change(num, init_str, final_str):\n",
    "    dpTable = []\n",
    "    a,b = 0,0\n",
    "    for char in init_str:\n",
    "        if char == W:\n",
    "            a += 1\n",
    "        else:\n",
    "            b += 1\n",
    "\n",
    "    for i in range(num):\n",
    "        if final_str[i] .. 모르겠어.. 도와줘\n",
    "    return total\n",
    "\n",
    "\n",
    "NumTest = int(input())\n",
    "\n",
    "for n in range(NumTest):\n",
    "    num = int(input())\n",
    "    init_str = input()\n",
    "    final_str = input()\n",
    "    result = change(num, init_str, final_str)\n",
    "    print(result)\n",
    "    "
   ]
  },
  {
   "cell_type": "code",
   "execution_count": null,
   "metadata": {},
   "outputs": [],
   "source": [
    "def change(num, init_str, final_str):\n",
    "    # 불일치하는 검정색과 흰색 말의 개수 세기\n",
    "    black_mismatch = 0\n",
    "    white_mismatch = 0\n",
    "    \n",
    "    for i in range(num):\n",
    "        if init_str[i] != final_str[i]:\n",
    "            if init_str[i] == 'B':\n",
    "                black_mismatch += 1\n",
    "            else:\n",
    "                white_mismatch += 1\n",
    "\n",
    "    # 교환으로 해결할 수 있는 쌍의 개수\n",
    "    swaps = min(black_mismatch, white_mismatch)\n",
    "    \n",
    "    # 남은 불일치 개수 (단일 뒤집기로 해결해야 하는 개수)\n",
    "    remaining_flips = abs(black_mismatch - white_mismatch)\n",
    "    \n",
    "    # 총 작업 횟수: 교환 횟수 + (남은 뒤집기 횟수 + 1) // 2\n",
    "    total_moves = swaps + (remaining_flips + 1) // 2\n",
    "    \n",
    "    return total_moves\n",
    "\n",
    "NumTest = int(input())\n",
    "\n",
    "for n in range(NumTest):\n",
    "    num = int(input())\n",
    "    init_str = input().strip()\n",
    "    final_str = input().strip()\n",
    "    result = change(num, init_str, final_str)\n",
    "    print(result)\n"
   ]
  },
  {
   "cell_type": "code",
   "execution_count": null,
   "metadata": {},
   "outputs": [],
   "source": [
    "def change(num, init_str, final_str):\n",
    "    # 불일치하는 검정색과 흰색 말의 개수 세기\n",
    "    black_to_white = 0  # 초기 검정, 목표 흰색\n",
    "    white_to_black = 0   # 초기 흰색, 목표 검정\n",
    "\n",
    "    for i in range(num):\n",
    "        if init_str[i] != final_str[i]:\n",
    "            if init_str[i] == 'B' and final_str[i] == 'W':\n",
    "                black_to_white += 1\n",
    "            elif init_str[i] == 'W' and final_str[i] == 'B':\n",
    "                white_to_black += 1\n",
    "\n",
    "    # 교환으로 해결할 수 있는 쌍의 개수\n",
    "    swaps = min(black_to_white, white_to_black)\n",
    "    \n",
    "    # 남은 불일치 개수\n",
    "    remaining_flips = abs(black_to_white - white_to_black)\n",
    "\n",
    "    # 총 작업 횟수: 교환 횟수 + 나머지 불일치 / 2 (뒤집기로 해결)\n",
    "    total_moves = swaps + remaining_flips\n",
    "\n",
    "    return total_moves\n",
    "\n",
    "NumTest = int(input())\n",
    "\n",
    "for n in range(NumTest):\n",
    "    num = int(input())\n",
    "    init_str = input().strip()\n",
    "    final_str = input().strip()\n",
    "    result = change(num, init_str, final_str)\n",
    "    print(result)\n"
   ]
  },
  {
   "cell_type": "markdown",
   "metadata": {},
   "source": [
    "DP 보다는 greedy 방식 으로 해결 할 수 있는 구조 <br>\n",
    "각 작업의 조합을 최적화 하여 최소한의 작업 횟수를 찾는 것이 목표...\n"
   ]
  },
  {
   "cell_type": "markdown",
   "metadata": {},
   "source": [
    "교환이 뒤집는 거 보다 효율이 좋으니까 교환 부터 하는 것 횟수만 출력 하면 되니까 ..! 위치는 기억하지 않아도 된까 count 를 black_to_white white_to_black 로 각각 만들고 둘중에 작은 값 만큼만 교환하고서, 교환 후에 남은 것들은 뒤집어 주면 되는 것임 ! 쉬운 문제였다.."
   ]
  },
  {
   "cell_type": "markdown",
   "metadata": {},
   "source": [
    "5555"
   ]
  },
  {
   "cell_type": "code",
   "execution_count": null,
   "metadata": {},
   "outputs": [],
   "source": [
    "# 5555 반지\n",
    "\n",
    "# 당신은 N 개의 반지 \n",
    "# 반지는 대문자 10개로 이뤄진 문자열 \n",
    "# 문자열 시작과 끝이 연결된 형태\n",
    "\n",
    "def check(ori, des):\n",
    "    ret = 0\n",
    "\n",
    "    for i in range(len(des)):\n",
    "        if ori[i] == des[i]:\n",
    "            continue\n",
    "        else:\n",
    "            ret += 1\n",
    "\n",
    "    if ret==0:\n",
    "        return True\n",
    "    else:\n",
    "        return False\n",
    "\n",
    "destination = input().strip()\n",
    "num_rings = int(input())\n",
    "\n",
    "total = 0\n",
    "\n",
    "for i in range(num_rings):\n",
    "    str = input().strip()\n",
    "    id = 0\n",
    "    for char in str:\n",
    "        if char == destination[0]:\n",
    "            sli = id+len(destination)\n",
    "            if sli > len(str):\n",
    "                purp = str[id:len(str)] + str[0:sli-(len(str)-1)-1]\n",
    "            else: \n",
    "                purp = str[id:sli]\n",
    "            if check(purp, destination) == True:\n",
    "                total += 1\n",
    "                break\n",
    "        id += 1\n",
    "\n",
    "print(total)\n"
   ]
  },
  {
   "cell_type": "markdown",
   "metadata": {},
   "source": [
    "오 실버에서 혼자 처음 푼 문제다 ! 5555"
   ]
  },
  {
   "cell_type": "markdown",
   "metadata": {},
   "source": [
    "1316"
   ]
  },
  {
   "cell_type": "code",
   "execution_count": null,
   "metadata": {},
   "outputs": [],
   "source": [
    "# 1316 그룹 단어 체커\n",
    "# 그룹 단어 : 단어에 존재하는 모든 문자에 대해서 각 문자가 연속해서 나타나는 경우 \n",
    "\n",
    "# ex\n",
    "# ccazzzzbb cazb 가 연속해서 나타나고 \n",
    "# kin 도 kin 이 연속햇 ㅓ나타나지만 \n",
    "# aabbbccb 는 b가 떨어져서 나타나니까 그룹단어가 아님 !\n",
    "\n",
    "def check(arr):\n",
    "    alpha = []\n",
    "    for char in arr:\n",
    "        # 한번 나왔던 단어를 어떻게 다시 기억하지? 어렵다야\n",
    "\n",
    "\n",
    "num = int(input())\n",
    "\n",
    "for _ in range(num):\n",
    "    \n",
    "    sentence = input().strip()\n",
    "    check(sentence)"
   ]
  },
  {
   "cell_type": "markdown",
   "metadata": {},
   "source": [
    "2204"
   ]
  },
  {
   "cell_type": "code",
   "execution_count": null,
   "metadata": {},
   "outputs": [],
   "source": [
    "# 2204 도비의 난독증 테스트\n",
    "# 도비에게 영어단어 제시한 후 어떤 단어가 대소문자를 구분하지 않고 사전순으로 가장 앞서는지 맞추면 양말을 주어 자유를 얻게 해줌 ! \n",
    "# 인성이 좋지 않은 꿍.. 그러고 싶지 않아서 대소문자를 마구 섞어가며 단어들을 제시함 \n",
    "\n",
    "def sorting(arr):\n",
    "    for word in arr:\n",
    "        s = []\n",
    "        for char in word:\n",
    "            s.append(char)\n",
    "        print(sorted(s))\n",
    "    print()\n",
    "\n",
    "while True:\n",
    "    key = int(input())\n",
    "    if key == 0:\n",
    "        break\n",
    "    else:\n",
    "        arr = ['' for _ in range(key)]\n",
    "        for i in range(key):\n",
    "            arr[i] = list(input())\n",
    "\n",
    "    sorting(arr)\n"
   ]
  },
  {
   "cell_type": "markdown",
   "metadata": {},
   "source": [
    "영어 사전에서는 소문자가 먼저임 ! \n",
    "sorted() 함수에 key 파라미터로 str.lower 를 사용하면 해결 됨 ~"
   ]
  },
  {
   "cell_type": "code",
   "execution_count": null,
   "metadata": {},
   "outputs": [],
   "source": [
    "# 2204 도비의 난독증 테스트\n",
    "# 도비에게 영어단어 제시한 후 어떤 단어가 대소문자를 구분하지 않고 사전순으로 가장 앞서는지 맞추면 양말을 주어 자유를 얻게 해줌 ! \n",
    "# 인성이 좋지 않은 꿍.. 그러고 싶지 않아서 대소문자를 마구 섞어가며 단어들을 제시함 \n",
    "\n",
    "def sorting(arr):\n",
    "    for word in arr:\n",
    "        s = []\n",
    "        for char in word:\n",
    "            s.append(char)\n",
    "        print(sorted(s, key=lambda x: x.lower()))\n",
    "    print()\n",
    "\n",
    "while True:\n",
    "    key = int(input())\n",
    "    if key == 0:\n",
    "        break\n",
    "    else:\n",
    "        arr = ['' for _ in range(key)]\n",
    "        for i in range(key):\n",
    "            arr[i] = list(input())\n",
    "\n",
    "    sorting(arr)\n"
   ]
  },
  {
   "cell_type": "markdown",
   "metadata": {},
   "source": [
    "악 근데 그냥 단어 자체로하면 되는 것이었음"
   ]
  },
  {
   "cell_type": "markdown",
   "metadata": {},
   "source": [
    "아님  !! 그냥 다 틀림.."
   ]
  },
  {
   "cell_type": "code",
   "execution_count": null,
   "metadata": {},
   "outputs": [],
   "source": [
    "# 2204 도비의 난독증 테스트\n",
    "# 도비에게 영어단어 제시한 후 어떤 단어가 대소문자를 구분하지 않고 사전순으로 가장 앞서는지 맞추면 양말을 주어 자유를 얻게 해줌 ! \n",
    "# 인성이 좋지 않은 꿍.. 그러고 싶지 않아서 대소문자를 마구 섞어가며 단어들을 제시함 \n",
    "\n",
    "def sorting(arr):\n",
    "    total = []\n",
    "\n",
    "    for word in arr:\n",
    "        s = []\n",
    "        total.append(word)\n",
    "\n",
    "    print('total')\n",
    "    print(total)\n",
    "    print('total sort')\n",
    "    print(sorted(total))\n",
    "    \n",
    "    \n",
    "    # for i in range(arr):\n",
    "    #     if final[0] == arr[i][0]:\n",
    "    #         print(arr[i])\n",
    "\n",
    "while True:\n",
    "    key = int(input())\n",
    "    if key == 0:\n",
    "        break\n",
    "    else:\n",
    "        arr = ['' for _ in range(key)]\n",
    "        for i in range(key):\n",
    "            arr[i] = list(input())\n",
    "\n",
    "    last = sorting(arr)\n",
    "\n"
   ]
  },
  {
   "cell_type": "code",
   "execution_count": null,
   "metadata": {},
   "outputs": [],
   "source": [
    "def sorting(arr):\n",
    "    total = []\n",
    "\n",
    "    for word in arr:\n",
    "        total.append(''.join(word))  # 리스트 형태를 문자열로 변환 후 추가\n",
    "\n",
    "    last = sorted(total, key=lambda x: x.lower())\n",
    "    print(last)\n",
    "    print(last[0])  # 대소문자를 무시하고 정렬\n",
    "    \n",
    "\n",
    "\n",
    "while True:\n",
    "    key = int(input())\n",
    "    if key == 0:\n",
    "        break\n",
    "    else:\n",
    "        arr = ['' for _ in range(key)]\n",
    "        for i in range(key):\n",
    "            arr[i] = list(input())\n",
    "\n",
    "    first_word = sorting(arr)\n"
   ]
  },
  {
   "cell_type": "markdown",
   "metadata": {},
   "source": [
    "\n",
    "    for word in arr:\n",
    "        total.append(''.join(word))  # 리스트 형태를 문자열로 변환 후 추가\n",
    "\n",
    "        \n",
    "이거만 알면 금방 되는 거였는데 !! 그리고 그냥 전부 다 소문자로 바꾸고서 정렬하면 되는 거였는데 ! 아니 근데 그렇게 되면 소문자 자체가 출력되는 거 아닌교..\n",
    "<br>아님 ! 그냥 key 랑 x 로 해서 lower()하면 정렬만 순서대로 되고 .. 출력은 넣은 그대로 !!\n"
   ]
  },
  {
   "cell_type": "markdown",
   "metadata": {},
   "source": [
    "2941"
   ]
  },
  {
   "cell_type": "code",
   "execution_count": null,
   "metadata": {},
   "outputs": [],
   "source": [
    "# 2941 크로아티아 알파벳\n",
    "\n",
    "str = input()\n",
    "total = len(str)\n",
    "for i in range(len(str)):\n",
    "    char = str[i]\n",
    "    if char == 'd':\n",
    "        if str[i+1]=='z' and str[i+2]=='=':\n",
    "            total -=1\n",
    "        else:\n",
    "            continue\n",
    "    elif char == '=' or char == '-':\n",
    "        total -=1\n",
    "    elif char == 'l' or char == 'n':\n",
    "        if str[i+1] == 'j':\n",
    "            total -=1\n",
    "        else:\n",
    "            continue\n",
    "\n",
    "print(total)\n"
   ]
  },
  {
   "cell_type": "markdown",
   "metadata": {},
   "source": [
    "런타임 에러.."
   ]
  },
  {
   "cell_type": "code",
   "execution_count": null,
   "metadata": {},
   "outputs": [],
   "source": [
    "str = input()\n",
    "total = len(str)\n",
    "i = 0\n",
    "\n",
    "while i < len(str):\n",
    "    if str[i] == 'd':\n",
    "        if i + 2 < len(str) and str[i+1] == 'z' and str[i+2] == '=':\n",
    "            total -= 2  # 'dz='는 3글자이지만 하나의 문자로 처리하므로 2를 뺌\n",
    "            i += 2  # 'dz='이므로 3칸 이동\n",
    "        elif i + 1 < len(str) and str[i+1] == '-':\n",
    "            total -= 1  # 'd-'는 두 글자이므로 하나의 문자로 처리\n",
    "            i += 1\n",
    "    elif str[i] == 'c' or str[i] == 's' or str[i] == 'z':\n",
    "        if i + 1 < len(str) and (str[i+1] == '=' or str[i+1] == '-'):\n",
    "            total -= 1  # 'c=' 등은 두 글자이므로 하나의 문자로 처리\n",
    "            i += 1\n",
    "    elif str[i] == 'l' or str[i] == 'n':\n",
    "        if i + 1 < len(str) and str[i+1] == 'j':\n",
    "            total -= 1  # 'lj', 'nj'는 두 글자이므로 하나의 문자로 처리\n",
    "            i += 1\n",
    "    i += 1  # 기본적으로 한 글자씩 이동\n",
    "\n",
    "print(total)\n"
   ]
  },
  {
   "cell_type": "markdown",
   "metadata": {},
   "source": [
    "요건 정답 ! while 문이 for문보다 더 빠른건가? else 도 싹 지움 ! "
   ]
  },
  {
   "cell_type": "markdown",
   "metadata": {},
   "source": [
    "3613"
   ]
  },
  {
   "cell_type": "code",
   "execution_count": null,
   "metadata": {},
   "outputs": [],
   "source": [
    "# Java vs C++\n",
    "\n",
    "char = input()\n",
    "print(char.upper())"
   ]
  },
  {
   "cell_type": "code",
   "execution_count": null,
   "metadata": {},
   "outputs": [],
   "source": [
    "# Java vs C++\n",
    "def java_to_c(name):\n",
    "    return 0\n",
    "\n",
    "def c_to_java(name):\n",
    "    last = []\n",
    "    print(name)\n",
    "    for i in range(len(name)):\n",
    "        if name[i] == '_':\n",
    "            now = name(i+1).upper()\n",
    "            last.apaaned(now)\n",
    "        else:\n",
    "            last.append(name[i])\n",
    "    print(last)\n",
    "\n",
    "name = input()\n",
    "\n",
    "mode = -1\n",
    "# 0 이면 c++ to java\n",
    "# -1 이면 java to c++\n",
    "\n",
    "for char in name:\n",
    "    if char == '_':\n",
    "        mode = 0\n",
    "    \n",
    "\n",
    "if mode <0:\n",
    "    java_to_c(name)\n",
    "else :\n",
    "    c_to_java(name)\n"
   ]
  },
  {
   "cell_type": "markdown",
   "metadata": {},
   "source": [
    "''.join(word)"
   ]
  },
  {
   "cell_type": "code",
   "execution_count": null,
   "metadata": {},
   "outputs": [],
   "source": [
    "# Java vs C++\n",
    "def java_to_c(name):\n",
    "    last = []\n",
    "    # indexes = [i for i, val in enumerate(name) if val == '_']   # *** isupper()\n",
    "    for char in name:\n",
    "        if char.isupper():\n",
    "            last.append('_')\n",
    "            last.append(char.lower())\n",
    "        else:\n",
    "            last.append(char)\n",
    "\n",
    "    return last\n",
    "\n",
    "def c_to_java(name):\n",
    "    last = []\n",
    "    indexes = [i for i, val in enumerate(name) if val == '_']\n",
    "\n",
    "    cnt = 0\n",
    "    for char in name:\n",
    "        if char == '_':\n",
    "            id = indexes.pop(0)\n",
    "            now = name[id+1].upper()\n",
    "            last.append(now)\n",
    "        else:\n",
    "            last.append(char)\n",
    "\n",
    "        cnt +=1\n",
    "    return last\n",
    "\n",
    "name = input()\n",
    "mode = -1\n",
    "# 0 이면 c++ to java\n",
    "# -1 이면 java to c++\n",
    "\n",
    "for char in name:\n",
    "    if char == '_':\n",
    "        mode = 0\n",
    "    if char.isupper():\n",
    "        mode = 1\n",
    "\n",
    "if mode<0:\n",
    "    print(\"Error!\")\n",
    "else: \n",
    "    if mode == 1:\n",
    "        last = java_to_c(name)\n",
    "    else:\n",
    "        last = c_to_java(name)\n",
    "\n",
    "\n",
    "for char in last:\n",
    "    print(char, end='')\n",
    "\n"
   ]
  },
  {
   "cell_type": "markdown",
   "metadata": {},
   "source": [
    "한번 다시 소문자가 또 들어가는 문제.! \n"
   ]
  },
  {
   "cell_type": "code",
   "execution_count": null,
   "metadata": {},
   "outputs": [],
   "source": [
    "arr = [1,2,3]\n",
    "arr.index(1)"
   ]
  },
  {
   "cell_type": "code",
   "execution_count": null,
   "metadata": {},
   "outputs": [],
   "source": [
    "arr = [1, 1, 1, 1, 1]\n",
    "indexes = [i for i, val in enumerate(arr) if val == 1]\n",
    "print(indexes)\n"
   ]
  },
  {
   "cell_type": "markdown",
   "metadata": {},
   "source": [
    "아 식 또 런타임 에러.. ㅠ"
   ]
  },
  {
   "cell_type": "code",
   "execution_count": null,
   "metadata": {},
   "outputs": [],
   "source": [
    "def java_to_c(name):\n",
    "    last = []\n",
    "    for char in name:\n",
    "        if char.isupper():\n",
    "            last.append('_')\n",
    "            last.append(char.lower())\n",
    "        else:\n",
    "            last.append(char)\n",
    "\n",
    "    return ''.join(last)  # 리스트를 문자열로 변환\n",
    "\n",
    "def c_to_java(name):\n",
    "    last = []\n",
    "    indexes = [i for i, val in enumerate(name) if val == '_']\n",
    "\n",
    "    cnt = 0\n",
    "    for char in name:\n",
    "        if char == '_':\n",
    "            if indexes:  # 인덱스가 남아 있는지 확인\n",
    "                id = indexes.pop(0)\n",
    "                if id + 1 < len(name):  # 다음 문자가 있는지 확인\n",
    "                    now = name[id + 1].upper()\n",
    "                    last.append(now)\n",
    "                cnt += 1  # '_' 다음 문자 처리했으므로 카운트 증가\n",
    "        else:\n",
    "            last.append(char)\n",
    "\n",
    "    return ''.join(last)  # 리스트를 문자열로 변환\n",
    "\n",
    "name = input()\n",
    "mode = -1\n",
    "\n",
    "for char in name:\n",
    "    if char == '_':\n",
    "        mode = 0\n",
    "        break  # '_'를 찾으면 즉시 루프 종료\n",
    "    if char.isupper():\n",
    "        mode = 1\n",
    "        break  # 대문자를 찾으면 즉시 루프 종료\n",
    "\n",
    "if mode < 0:\n",
    "    print(\"Error!\")\n",
    "else: \n",
    "    if mode == 1:\n",
    "        last = java_to_c(name)\n",
    "    else:\n",
    "        last = c_to_java(name)\n",
    "\n",
    "print(last)  # 변환된 결과 출력\n"
   ]
  },
  {
   "cell_type": "markdown",
   "metadata": {},
   "source": [
    "1316"
   ]
  },
  {
   "cell_type": "code",
   "execution_count": null,
   "metadata": {},
   "outputs": [],
   "source": [
    "# 1316 그룹 단어 체커\n",
    "\n",
    "def checker(arr):\n",
    "    li = []\n",
    "    heap = []\n",
    "    for char in arr:\n",
    "        li.append(char)\n",
    "    \n",
    "    for i in range(len(li)-1):\n",
    "        tmp = li[i]\n",
    "        print(tmp)\n",
    "        if li[i+1] == tmp:\n",
    "            print('연속')\n",
    "            continue\n",
    "        else:\n",
    "            if heap == []:\n",
    "                heap.append(char)\n",
    "            else:            \n",
    "                for char in heap:\n",
    "                    print(char)\n",
    "                    if char == tmp:\n",
    "                        print('종료')\n",
    "                        return 0\n",
    "                    else:\n",
    "                        heap.append(tmp)\n",
    "\n",
    "    return True\n",
    "\n",
    "num = int(input())\n",
    "total = 0\n",
    "\n",
    "for _ in range(num):\n",
    "    arr=[]\n",
    "    arr=input()\n",
    "    \n",
    "    if checker(arr):\n",
    "        total +=1\n",
    "\n",
    "print(total)\n"
   ]
  },
  {
   "cell_type": "code",
   "execution_count": null,
   "metadata": {},
   "outputs": [],
   "source": [
    "# 1316 그룹 단어 체커\n",
    "\n",
    "def checker(arr):\n",
    "    li = []\n",
    "    heap = []\n",
    "    for char in arr:\n",
    "        li.append(char)\n",
    "    \n",
    "    for i in range(len(li)-1):\n",
    "        tmp = li[i]\n",
    "        print(tmp)\n",
    "        if heap == []:\n",
    "            heap.append(tmp)\n",
    "            continue\n",
    "        elif li[i+1] == tmp:\n",
    "            print(li[i])\n",
    "            print('연속')\n",
    "            continue\n",
    "        elif li[i+1] == tmp:  \n",
    "            print('else', tmp)\n",
    "            for char in heap:\n",
    "                if char == tmp:\n",
    "                    print('종료')\n",
    "                    return 0\n",
    "                else:\n",
    "                    heap.append(tmp)\n",
    "\n",
    "    return True\n",
    "\n",
    "num = int(input())\n",
    "total = 0\n",
    "\n",
    "for _ in range(num):\n",
    "    arr=[]\n",
    "    arr=input()\n",
    "    \n",
    "    if checker(arr):\n",
    "        total +=1\n",
    "\n",
    "print(total)\n"
   ]
  },
  {
   "cell_type": "code",
   "execution_count": null,
   "metadata": {},
   "outputs": [],
   "source": [
    "# 1316 그룹 단어 체커\n",
    "\n",
    "def checker(arr):\n",
    "    li = []\n",
    "    heap = []\n",
    "    for char in arr:\n",
    "        li.append(char)\n",
    "    \n",
    "    for i in range(len(li)-1):\n",
    "        tmp = li[i]\n",
    "        if heap == []:\n",
    "            heap.append(tmp)\n",
    "        elif li[i+1] == tmp:\n",
    "            continue\n",
    "        elif li[i+1] == tmp:     \n",
    "            for char in heap:\n",
    "                if char == tmp:\n",
    "                    return 0\n",
    "                else:\n",
    "                    heap.append(tmp)\n",
    "\n",
    "    return True\n",
    "\n",
    "num = int(input())\n",
    "total = 0\n",
    "\n",
    "for _ in range(num):\n",
    "    arr=[]\n",
    "    arr=input()\n",
    "    \n",
    "    if checker(arr):\n",
    "        total +=1\n",
    "\n",
    "print(total)\n"
   ]
  },
  {
   "cell_type": "code",
   "execution_count": null,
   "metadata": {},
   "outputs": [],
   "source": [
    "# 1316 그룹 단어 체커\n",
    "\n",
    "def checker(arr):\n",
    "    li = []\n",
    "    heap = []\n",
    "    for char in arr:\n",
    "        li.append(char)\n",
    "    \n",
    "    for i in range(len(li)):\n",
    "        tmp = li[i]\n",
    "        print(tmp)\n",
    "        if heap == []:\n",
    "            heap.append(li[i])\n",
    "        elif li[i-1] == tmp:\n",
    "            heap.pop()\n",
    "            print('pop')\n",
    "        elif li[i-1] != tmp:\n",
    "            print(li[i])     \n",
    "            for char in heap:\n",
    "                print(char)\n",
    "                if char == tmp:\n",
    "                    print('종료')\n",
    "                    return 0\n",
    "                else:\n",
    "                    heap.append(tmp)\n",
    "\n",
    "    return True\n",
    "\n",
    "num = int(input())\n",
    "total = 0\n",
    "\n",
    "for _ in range(num):\n",
    "    arr=[]\n",
    "    arr=input()\n",
    "    \n",
    "    if checker(arr):\n",
    "        total +=1\n",
    "\n",
    "print(total)\n"
   ]
  },
  {
   "cell_type": "markdown",
   "metadata": {},
   "source": [
    "gpt.."
   ]
  },
  {
   "cell_type": "code",
   "execution_count": null,
   "metadata": {},
   "outputs": [],
   "source": [
    "def checker(word):\n",
    "    seen_chars = set()  # 이미 등장한 문자를 저장할 집합\n",
    "    last_char = ''  # 직전 문자를 저장할 변수\n",
    "    \n",
    "    for char in word:\n",
    "        # 현재 문자와 직전 문자가 다르고, 현재 문자가 이미 등장한 문자라면 그룹 단어가 아님\n",
    "        if char != last_char and char in seen_chars:\n",
    "            return False\n",
    "        seen_chars.add(char)  # 문자를 집합에 추가\n",
    "        last_char = char  # 현재 문자를 직전 문자로 업데이트\n",
    "    \n",
    "    return True  # 그룹 단어일 경우 True 반환\n",
    "\n",
    "num = int(input())\n",
    "total = 0\n",
    "\n",
    "for _ in range(num):\n",
    "    word = input()\n",
    "    if checker(word):\n",
    "        total += 1\n",
    "\n",
    "print(total)\n"
   ]
  },
  {
   "cell_type": "markdown",
   "metadata": {},
   "source": [
    "1978"
   ]
  },
  {
   "cell_type": "code",
   "execution_count": null,
   "metadata": {},
   "outputs": [],
   "source": [
    "# 1978 소수찾기\n",
    "# 주어진 N 개 중에서 소수가 몇개인지 \n",
    "\n",
    "num = int(input())\n",
    "\n",
    "arr = list(map(int, input().split()))\n",
    "total = 0\n",
    "\n",
    "for i in arr:    \n",
    "    for mod in range(1,i):\n",
    "        if i % mod == 0:\n",
    "            total += 1\n",
    "            break\n",
    "\n",
    "print(total)\n"
   ]
  },
  {
   "cell_type": "code",
   "execution_count": null,
   "metadata": {},
   "outputs": [],
   "source": [
    "# 1978 소수찾기\n",
    "# 주어진 N 개 중에서 소수가 몇개인지 \n",
    "\n",
    "num = int(input())\n",
    "\n",
    "arr = list(map(int, input().split()))\n",
    "total = 0\n",
    "\n",
    "for i in arr:    \n",
    "    ask = 0\n",
    "    if i == 1:\n",
    "        continue\n",
    "    for mod in range(2,i):\n",
    "        if i % mod == 0:\n",
    "            ask = 1\n",
    "            break\n",
    "    \n",
    "    if ask == 0:\n",
    "        total +=1\n",
    "\n",
    "print(total)\n"
   ]
  },
  {
   "cell_type": "markdown",
   "metadata": {},
   "source": [
    "2798"
   ]
  },
  {
   "cell_type": "code",
   "execution_count": null,
   "metadata": {},
   "outputs": [],
   "source": [
    "# 2798 블랙잭\n",
    "\n",
    "n, m = map(int, input().split())\n",
    "\n",
    "arr = list(map(int, input().split()))\n",
    "sortingarr = reversed(sorted(arr))\n",
    "cnt = 0\n",
    "total = 0\n",
    "# while(total<m):\n",
    "#     total = sum(sortingarr[cnt+0:cnt+3])\n",
    "\n",
    "print(sum(sortingarr))"
   ]
  },
  {
   "cell_type": "code",
   "execution_count": null,
   "metadata": {},
   "outputs": [],
   "source": [
    "sum = 0\n",
    "for i in range(3):\n",
    "    sum += arr.pop()"
   ]
  },
  {
   "cell_type": "code",
   "execution_count": null,
   "metadata": {},
   "outputs": [],
   "source": [
    "print(sum)"
   ]
  },
  {
   "cell_type": "code",
   "execution_count": null,
   "metadata": {},
   "outputs": [],
   "source": [
    "sortingarr = reversed(sorted(arr))"
   ]
  },
  {
   "cell_type": "code",
   "execution_count": null,
   "metadata": {},
   "outputs": [],
   "source": [
    "# 2798 블랙잭\n",
    "def summation(id, arr):\n",
    "    sum = 0\n",
    "    for i in range(3):\n",
    "        sum = arr[id+i]\n",
    "    \n",
    "    return sum\n",
    "\n",
    "n, m = map(int, input().split())\n",
    "\n",
    "arr = list(map(int, input().split()))\n",
    "while True:\n",
    "    total = summation(id, *arr) \n",
    "    if total < m :\n",
    "        print(total)\n",
    "        break\n",
    "    else:\n",
    "        id+=1"
   ]
  },
  {
   "cell_type": "code",
   "execution_count": null,
   "metadata": {},
   "outputs": [],
   "source": [
    "# 2798 블랙잭\n",
    "def summation(id, arr):\n",
    "    sum = 0\n",
    "    for i in range(len(arr)-1, len(arr)-4, -1):\n",
    "        sum += arr[id+i]\n",
    "    \n",
    "    return sum\n",
    "\n",
    "n, m = map(int, input().split())\n",
    "arr = list(map(int, input().split()))\n",
    "total = 0\n",
    "id = 0\n",
    "\n",
    "while True:\n",
    "    total = summation(id, arr) \n",
    "    print(total)\n",
    "    if total < m :\n",
    "        print(total)\n",
    "        break\n",
    "    else:\n",
    "        id-=1"
   ]
  },
  {
   "cell_type": "code",
   "execution_count": null,
   "metadata": {},
   "outputs": [],
   "source": [
    "# 2798 블랙잭\n",
    "def summation(id, arr):\n",
    "    sum = 0\n",
    "    for i in range(len(arr)-1, len(arr)-4, -1):\n",
    "        sum += arr[id+i]\n",
    "    \n",
    "    return sum\n",
    "\n",
    "n, m = map(int, input().split())\n",
    "arr = list(map(int, input().split()))\n",
    "total = 0\n",
    "id = 0\n",
    "\n",
    "total = summation(id, arr) \n",
    "\n",
    "while total > m:\n",
    "    id -= 1\n",
    "    total = summation(id, arr) \n",
    "\n",
    "print(total)"
   ]
  },
  {
   "cell_type": "code",
   "execution_count": null,
   "metadata": {},
   "outputs": [],
   "source": [
    "# 2798 블랙잭\n",
    "def summation(id, arr):\n",
    "    sum = 0\n",
    "    for i in range(len(arr)-1, len(arr)-4, -1):\n",
    "        sum += arr[id+i]\n",
    "    \n",
    "    return sum\n",
    "\n",
    "n, m = map(int, input().split())\n",
    "arr = list(map(int, input().split()))\n",
    "arr += sorted(arr)\n",
    "total = 0\n",
    "id = 0\n",
    "\n",
    "total = summation(id, arr) \n",
    "\n",
    "while total > m:\n",
    "    id -= 1\n",
    "    total = summation(id, arr) \n",
    "\n",
    "print(total)"
   ]
  },
  {
   "cell_type": "markdown",
   "metadata": {},
   "source": [
    "id 줄이는 걸로는 m 과 가장 가까운 합 찾기 힘듦\n",
    "dp table 만들어보기 "
   ]
  },
  {
   "cell_type": "code",
   "execution_count": null,
   "metadata": {},
   "outputs": [],
   "source": [
    "# 2798 블랙잭\n",
    "def summation(id, arr):\n",
    "    sum = 0\n",
    "    for i in range(len(arr)-1, len(arr)-4, -1):\n",
    "        sum += arr[id+i]\n",
    "    \n",
    "    return sum\n",
    "\n",
    "n, m = map(int, input().split())\n",
    "arr = list(map(int, input().split()))\n",
    "arr = sorted(arr)\n",
    "total = 0\n",
    "id = 0\n",
    "\n",
    "dp = [0 for _ in range(n-2)]\n",
    "dp_dif = [0 for _ in range(n-2)]\n",
    "\n",
    "for i in range(n-2):\n",
    "    dp[i] = summation(id, arr) \n",
    "    dp_dif[i] = abs(m - dp[i])\n",
    "    id -= 1\n",
    "\n",
    "print(dp_dif)\n",
    "\n",
    "print(dp)"
   ]
  },
  {
   "cell_type": "code",
   "execution_count": null,
   "metadata": {},
   "outputs": [],
   "source": [
    "print(arr)"
   ]
  },
  {
   "cell_type": "markdown",
   "metadata": {},
   "source": [
    "모든 가능한 세 개의 숫자의 조합을 고려해야 함.."
   ]
  },
  {
   "cell_type": "code",
   "execution_count": null,
   "metadata": {},
   "outputs": [],
   "source": [
    "n, m = map(int, input().split())\n",
    "arr = list(map(int, input().split()))\n",
    "\n",
    "max_sum = 0\n",
    "\n",
    "# 세 개의 숫자를 고르는 모든 경우를 순회\n",
    "for i in range(n-2):\n",
    "    for j in range(i + 1, n-1):\n",
    "        for k in range(j + 1, n):\n",
    "            current_sum = arr[i] + arr[j] + arr[k]\n",
    "            # 현재 합이 m을 넘지 않으면서 가장 큰 합일 때 업데이트\n",
    "            if current_sum <= m and current_sum > max_sum:\n",
    "                max_sum = current_sum\n",
    "\n",
    "print(max_sum)\n"
   ]
  },
  {
   "cell_type": "code",
   "execution_count": null,
   "metadata": {},
   "outputs": [],
   "source": [
    "N, M = map(int,(input().split()))\n",
    "\n",
    "d = list(map(int, input().split())) # 카드 리스트\n",
    "\n",
    "result = 0\n",
    "Max = 0\n",
    "\n",
    "for i in range(N-2): # 3중 for문을 돌면서 겹치지 않게 범위를 지정\n",
    "    for j in range(i+1,N-1):\n",
    "        for k in range(j+1,N):\n",
    "            if d[i]+d[j]+d[k] > M: # 3개의 값 더한것이 M보다 크다면 넘어감\n",
    "                continue\n",
    "            else:\n",
    "                result = d[i]+d[j]+d[k]\n",
    "                if Max <= result: # M과 가장 유사한 값은 가장 큰값이기 때문에 비교해서 큰값을 저장\n",
    "                    Max = result\n",
    "\n",
    "print(Max)"
   ]
  },
  {
   "cell_type": "markdown",
   "metadata": {},
   "source": [
    "7568"
   ]
  },
  {
   "cell_type": "code",
   "execution_count": null,
   "metadata": {},
   "outputs": [],
   "source": [
    "# 7568 덩치\n",
    "\n",
    "n = int(input())\n",
    "arr = [0 for _ in range(n)]\n",
    "d = {}\n",
    "for i in range(n):\n",
    "    k, c = map(int, input().split())\n",
    "    d = {'kg': k, 'cm':c}\n",
    "    arr[i] = d\n",
    "\n",
    "for p in arr:\n",
    "    print(p)"
   ]
  },
  {
   "cell_type": "code",
   "execution_count": null,
   "metadata": {},
   "outputs": [],
   "source": [
    "arr"
   ]
  },
  {
   "cell_type": "markdown",
   "metadata": {},
   "source": [
    "arr = [0 for _ in range(n)] 초기화 안해주면 위 출력과 같이 문제 생김.."
   ]
  },
  {
   "cell_type": "code",
   "execution_count": null,
   "metadata": {},
   "outputs": [],
   "source": [
    "# 7568 덩치\n",
    "\n",
    "n = int(input())\n",
    "arr = [0 for _ in range(n)]\n",
    "d = {}\n",
    "for i in range(n):\n",
    "    k, c = map(int, input().split())\n",
    "    d = {'kg': k, 'cm':c}\n",
    "    arr[i] = d\n",
    "\n",
    "for p in arr:\n",
    "    num = 1\n",
    "    for k in arr:\n",
    "        if p['kg'] < k['kg'] and p['cm'] < k['cm']:\n",
    "            num += 1\n",
    "    print(num, end=' ')"
   ]
  },
  {
   "cell_type": "markdown",
   "metadata": {},
   "source": [
    "# 15649"
   ]
  },
  {
   "cell_type": "code",
   "execution_count": null,
   "metadata": {},
   "outputs": [],
   "source": [
    "# 15649 N과 M\n",
    "# 1부터 N 까지 자연수 중에서 중복없이 M 개를 고른 수열\n",
    "def make(n,m, cnt):\n",
    "    \n",
    "    cnt -= 1\n",
    "    return cnt\n",
    "    \n",
    "\n",
    "n,m = map(int, input().split())\n",
    "\n",
    "for i in range(1, n+1):\n",
    "    cnt = m\n",
    "    cnt = make(i, m, cnt)\n",
    "\n"
   ]
  },
  {
   "cell_type": "code",
   "execution_count": null,
   "metadata": {},
   "outputs": [],
   "source": [
    "# 15649 N과 M\n",
    "# 1부터 N 까지 자연수 중에서 중복없이 M 개를 고른 수열\n",
    "\n",
    "n,m = map(int, input().split())\n",
    "\n",
    "cnt = n # 총 갯수 4,2 : 4 * 3 = 12\n",
    "cntd = [0 for _ in range(m)]\n",
    "cntl = 1\n",
    "for i in range(m):\n",
    "    cntd[i] = cnt\n",
    "    cnt-=1\n",
    "    cntl *= cntd[i]\n",
    "\n",
    "while True:\n",
    "    if cntl<=0:\n",
    "        break\n",
    "\n",
    "    for i in range(1, n+1):\n",
    "        for j in range(1, n+1):\n",
    "            if i==j:\n",
    "                continue\n",
    "            else:\n",
    "                print(i, j)\n",
    "            cntl-=1\n"
   ]
  },
  {
   "cell_type": "markdown",
   "metadata": {},
   "source": [
    "이 코드는 무조건 두자리수까지 밖에 못함.. 재귀 식으로 해서 꺼내거나 해야 할꺼같은데"
   ]
  },
  {
   "cell_type": "code",
   "execution_count": null,
   "metadata": {},
   "outputs": [],
   "source": [
    "# 15649 N과 M\n",
    "# 1부터 N 까지 자연수 중에서 중복없이 M 개를 고른 수열\n",
    "\n",
    "# 그냥 dp 에다가 1~ 4 다 하나씩 넣어두고 순서 바꿔가면서 꺼내면 안됨?\n",
    "\n",
    "n, m  = map(int, input().split())\n",
    "dp = [0 for _ in range(m)]\n",
    "\n",
    "cnt = n # 총 갯수 4,2 : 4 * 3 = 12\n",
    "cntd = [0 for _ in range(m)]\n",
    "cntl = 1\n",
    "\n",
    "for i in range(m):\n",
    "    dp[i] = i+1\n",
    "    cntd[i] = cnt\n",
    "    cnt-=1\n",
    "    cntl *= cntd[i]\n",
    "\n",
    "while True:\n",
    "    if cntl <= 0:\n",
    "        break\n",
    "\n",
    "    \n",
    "    \n",
    "    cntl-=1\n",
    "\n",
    "\n",
    "\n"
   ]
  },
  {
   "cell_type": "markdown",
   "metadata": {},
   "source": [
    "# 11053\n",
    "DP 문제 LIS(Longest Increasing Subsequence)"
   ]
  },
  {
   "cell_type": "code",
   "execution_count": null,
   "metadata": {},
   "outputs": [],
   "source": [
    "# 11053 가장 긴 증가하는 부분 수열\n",
    "\n",
    "n = int(input())\n",
    "arr = [0 for _ in range(n)]\n",
    "\n",
    "for _ in range(n):\n",
    "    arr = list(map(int, input().split()))\n",
    "    "
   ]
  },
  {
   "cell_type": "code",
   "execution_count": null,
   "metadata": {},
   "outputs": [],
   "source": [
    "n = int(input())\n",
    "A = list(map(int, input().split()))\n",
    "\n",
    "dp = [1]*n\n",
    "\n",
    "for i in range(1,n):\n",
    "    for j in range(i):\n",
    "        if A[j]<A[i]:\n",
    "            dp[i]=max(dp[i], dp[j]+1)\n",
    "\n",
    "print(max(dp))"
   ]
  },
  {
   "cell_type": "markdown",
   "metadata": {},
   "source": [
    "# 11047"
   ]
  },
  {
   "cell_type": "code",
   "execution_count": null,
   "metadata": {},
   "outputs": [],
   "source": [
    "# 11047 동전0\n",
    "# 이거 dp 쓰는 문제인데 dp 를 뭐로 초기화 해야하는지 몰러.. 걍 개 큰 숫자 였떤 것 같기도.."
   ]
  },
  {
   "cell_type": "markdown",
   "metadata": {},
   "source": []
  },
  {
   "cell_type": "markdown",
   "metadata": {},
   "source": [
    "# 2164"
   ]
  },
  {
   "cell_type": "code",
   "execution_count": null,
   "metadata": {},
   "outputs": [],
   "source": [
    "# 2164 카드2\n",
    "# n 장의 카드 1번카드가 제일 위에 n번 카드가 제일 아래인 순서\n",
    "\n",
    "n = int(input())\n",
    "d = [0 for _ in range(n)]\n",
    "\n",
    "for i in range(n):\n",
    "    d[i] = i+1\n",
    "\n",
    "d.reverse()\n",
    "    \n",
    "while True:\n",
    "    if len(d) == 1:\n",
    "        print(d[0])\n",
    "        break\n",
    "    d.pop(-1)   # 맨 위 카드 한장 버리기 \n",
    "    tmp = d.pop(-1) # 맨 위 한장 꺼내서\n",
    "    d.reverse()\n",
    "    d.append(tmp) # 맨 아래 넣기 \n",
    "    d.reverse() "
   ]
  },
  {
   "cell_type": "code",
   "execution_count": null,
   "metadata": {},
   "outputs": [],
   "source": [
    "# 2164 카드2\n",
    "# n 장의 카드 1번카드가 제일 위에 n번 카드가 제일 아래인 순서\n",
    "def check(d):\n",
    "    d.pop(-1)   # 맨 위 카드 한장 버리기 \n",
    "    tmp = d.pop(-1) # 맨 위 한장 꺼내서\n",
    "    d.reverse()\n",
    "    d.append(tmp) # 맨 아래 넣기 \n",
    "    d.reverse() \n",
    "\n",
    "    return d\n",
    "\n",
    "n = int(input())\n",
    "d = [0 for _ in range(n)]\n",
    "cnt = 0\n",
    "for i in range(n,0,-1):\n",
    "    d[cnt] = i\n",
    "    cnt+=1\n",
    "    \n",
    "while True:\n",
    "    if len(d) == 1:\n",
    "        print(d[0])\n",
    "        break\n",
    "    d = check(d)\n"
   ]
  },
  {
   "cell_type": "markdown",
   "metadata": {},
   "source": [
    "시간초과.."
   ]
  },
  {
   "cell_type": "code",
   "execution_count": null,
   "metadata": {},
   "outputs": [],
   "source": [
    "n = int(input())\n",
    "d = list(range(1, n + 1))  # 1부터 n까지의 숫자를 리스트로 생성\n",
    "\n",
    "while True:\n",
    "    if len(d) == 1:\n",
    "        break\n",
    "    d = d[1:] + d[:1]  # 첫 번째 카드를 버리고, 두 번째 카드를 맨 뒤로 이동\n",
    "\n",
    "print(d[0])  # 마지막 남은 카드 출력\n"
   ]
  },
  {
   "cell_type": "code",
   "execution_count": null,
   "metadata": {},
   "outputs": [],
   "source": [
    "#큐를 쓰는 방법 밖에 없는것인가 ㅠㅠ\n",
    "from collections import deque\n",
    "\n",
    "n = int(input())\n",
    "cards = deque([])\n",
    "\n",
    "for i in range(1,n+1):\n",
    "    cards.append(i)\n",
    "\n",
    "while(len(cards)!= 1):\n",
    "    cards.popleft()\n",
    "    cards.append(cards.popleft())\n",
    "\n",
    "print(cards[0])"
   ]
  },
  {
   "cell_type": "code",
   "execution_count": null,
   "metadata": {},
   "outputs": [],
   "source": [
    "arr=[1,2,3]\n",
    "arr.append(9)\n",
    "print(arr)"
   ]
  },
  {
   "cell_type": "code",
   "execution_count": null,
   "metadata": {},
   "outputs": [],
   "source": [
    "arr.pop(0)"
   ]
  },
  {
   "cell_type": "code",
   "execution_count": null,
   "metadata": {},
   "outputs": [],
   "source": [
    "arr.pop(-1)"
   ]
  },
  {
   "cell_type": "code",
   "execution_count": null,
   "metadata": {},
   "outputs": [],
   "source": [
    "print(arr)"
   ]
  },
  {
   "cell_type": "code",
   "execution_count": null,
   "metadata": {},
   "outputs": [],
   "source": [
    "arr.reverse()\n",
    "print(arr)"
   ]
  },
  {
   "cell_type": "code",
   "execution_count": null,
   "metadata": {},
   "outputs": [],
   "source": [
    "d = [1,2,3,4]\n",
    "d.pop(-1)   # 맨 위 카드 한장 버리기 \n",
    "tmp = d.pop(-1) # 맨 위 한장 꺼내서\n",
    "d.reverse()\n",
    "d.append(tmp) # 맨 아래 넣기 \n",
    "d.reverse() \n",
    "\n",
    "print(d)"
   ]
  },
  {
   "cell_type": "markdown",
   "metadata": {},
   "source": [
    "# 2630"
   ]
  },
  {
   "cell_type": "markdown",
   "metadata": {},
   "source": [
    "오 이건 진짜 어렵당"
   ]
  },
  {
   "cell_type": "code",
   "execution_count": null,
   "metadata": {},
   "outputs": [],
   "source": [
    "# 2630 색종이 만들기 \n",
    "# N/2 로 네면을 분할하는 과정 -> 분할 정복 알고리즘\n",
    "\n",
    "# 탐색 하려는 시작 색상 정하기\n",
    "# 주어진 영역에서 탐색하는 과정에서 색상과 일치하지 않으면 -> 다시 분할\n",
    "\n",
    "# 탐색 성공 했다면 시작 색상에 따른 각 갯수 세기\n",
    "\n",
    "def div(y,x,n):\n",
    "    color = paper[y][x]\n",
    "    for i in range(y, y+n):\n",
    "        for j in range(x, x+n):\n",
    "            if color != paper[i][j]:\n",
    "                m=n//2\n",
    "                div(y,x,m)\n",
    "                \n",
    "\n",
    "\n",
    "n = int(input())\n",
    "paper = [list(map(int, input().split())) for _ in range(n)]\n",
    "\n",
    "print(paper)"
   ]
  },
  {
   "cell_type": "code",
   "execution_count": null,
   "metadata": {},
   "outputs": [],
   "source": [
    "def div(y,x,n):\n",
    "    color = paper[y][x]\n",
    "    for i in range(y, y+n):\n",
    "\n",
    "result = [0,0] # 흰색/파란색\n",
    "\n",
    "div(0,0,N)"
   ]
  },
  {
   "cell_type": "code",
   "execution_count": null,
   "metadata": {},
   "outputs": [],
   "source": [
    "N = int(input())\n",
    "square = [list(map(int, input().split())) for _ in range(N)]\n",
    "white = 0\n",
    "blue = 0\n",
    "\n",
    "def cut(row, column, n):\n",
    "    global white, blue\n",
    "    color = square[row][column]\n",
    "    for i in range(row, row + n):\n",
    "        for j in range(column, column + n):\n",
    "            if color != square[i][j]:\n",
    "                cut(row, column, n // 2)  # 1사분면\n",
    "                cut(row, column + n // 2, n // 2)  # 2사분면\n",
    "                cut(row + n // 2, column, n // 2)  # 3사분면\n",
    "                cut(row + n // 2, column + n // 2, n // 2)  # 4사분면\n",
    "                return\n",
    "    if color == 0:\n",
    "        white += 1\n",
    "    else:\n",
    "        blue += 1\n",
    "\n",
    "cut(0, 0, N)\n",
    "print(white)\n",
    "print(blue)\n"
   ]
  },
  {
   "cell_type": "code",
   "execution_count": null,
   "metadata": {},
   "outputs": [],
   "source": [
    "n = int(input())\n",
    "square = [list(map(int, input().split())) for _ in range(n)]\n",
    "white = 0\n",
    "blue = 0\n",
    "\n",
    "def cut(row, col, n):\n",
    "    global white, blue\n",
    "    color = square[row][col]\n",
    "    for i in range(row, row+n):\n",
    "        for j in range(col, col+n):\n",
    "            if color != square[i][j]: # color\n",
    "                cut(row, col, n//2)\n",
    "                cut(row, col+n//2,n//2)\n",
    "                cut(row+n//2, col,n//2)\n",
    "                cut(row+n//2,col+n//2, n//2)\n",
    "                return  # 더 이상 함수가 실행 되지 않고 종료됨\n",
    "    \n",
    "    if color ==0:\n",
    "        white+=1\n",
    "\n",
    "    else:\n",
    "        blue+=1\n",
    "\n",
    "cut(0,0,n)\n",
    "print(white)\n",
    "print(blue)\n",
    "\n"
   ]
  },
  {
   "cell_type": "markdown",
   "metadata": {},
   "source": [
    "# 11053"
   ]
  },
  {
   "cell_type": "code",
   "execution_count": null,
   "metadata": {},
   "outputs": [],
   "source": [
    "# 11053 가장 긴 증가하는 부분 수열\n",
    "\n",
    "n = int(input())\n",
    "arr = list(map(int, input().split()))\n",
    "\n",
    "dp = [1]*n\n",
    "for i in range(1, n):\n",
    "    for j in range(i):\n",
    "        if arr[j]<arr[i]:\n",
    "            dp[i]=max(dp[i], dp[j]+1)\n",
    "\n",
    "print(max(dp))\n"
   ]
  },
  {
   "cell_type": "code",
   "execution_count": null,
   "metadata": {},
   "outputs": [],
   "source": [
    "n = int(input()) # input 개수\n",
    "arr = list(map(int, input().split())) #input\n",
    "\n",
    "dp = [1]*n  # input 개수만큼 dp 테이블 1로 채우기\n",
    "\n",
    "for i in range(1,n): # input 의 두번째 인덱스부터 마지막 인덱스까지 다 훓는 것\n",
    "    for j in range(i): # input 의 첫번째 인덱스 부터 i까지 즉, 마지막 하나 전 인덱스 까지 훑는 것\n",
    "        if arr[j]<arr[i]: # 점점 증가하는 수열 일때..\n",
    "            dp[i] = max(dp[i], dp[j]+1) # 더 긴 수열을 찾기 위해서 dp 채우기 # 여기서 dp[j]에 1을 더한값과 비교하는 이유를 모르겠서\n",
    "            \n",
    "        print(dp)\n",
    "\n",
    "print(max(dp))"
   ]
  },
  {
   "cell_type": "markdown",
   "metadata": {},
   "source": [
    "dp 배열은 현재 인덱스까지에서 가장 긴 증가하는 부분 수열의 길이를 저장\n",
    "<br>\n",
    "dp[i] = max(dp[i], dp[j] + 1) 부분에서 dp[j] + 1을 사용하는 이유는, 지금까지 찾아온 증가하는 부분 수열의 길이에 1을 더해 현재 위치(i)에 업데이트하는 방식\n"
   ]
  },
  {
   "cell_type": "markdown",
   "metadata": {},
   "source": [
    "처음에 dp 테이블을 1로 채우는 이유는, 각 원소 자체만으로도 길이가 1인 증가하는 부분 수열이 되기 때문"
   ]
  },
  {
   "cell_type": "markdown",
   "metadata": {},
   "source": [
    "# 1260"
   ]
  },
  {
   "cell_type": "code",
   "execution_count": null,
   "metadata": {},
   "outputs": [],
   "source": [
    "# 1260 DFS 와 BFS \n"
   ]
  },
  {
   "cell_type": "code",
   "execution_count": null,
   "metadata": {},
   "outputs": [],
   "source": [
    "# CODE UP DFS/BFS 1512 숫자 등고선\n",
    "def printarr(arr):\n",
    "    for i in range(n):\n",
    "        for j in range(n):\n",
    "            print(arr[i][j], end = ' ')\n",
    "        print()\n",
    "\n",
    "def check(n, cnt, square):\n",
    "    for i in range(n):\n",
    "        for j in range(n):\n",
    "            if square[i][j] == cnt:\n",
    "                tmp = square[i][j]\n",
    "                printarr(square)\n",
    "                square[i+1][j] = tmp+1\n",
    "                if square[i+1][j] == 0 and i+1 <n and j < n:\n",
    "                    square[i+1][j] = tmp+1\n",
    "                if square[i-1][j] == 0 and i-1 <n and j < n:\n",
    "                    square[i-1][j] = tmp+1\n",
    "                if square[i][j+1] == 0 and i <n and j+1 < n:\n",
    "                    square[i][j+1] = tmp+1\n",
    "                if square[i+1][j-1] == 0 and i <n and j-1 < n:\n",
    "                    square[i][j-1] = tmp+1\n",
    "                \n",
    "                cnt += 1\n",
    "                if cnt == n:\n",
    "                    break\n",
    "                check(n, cnt, square)\n",
    "\n",
    "n = int(input())\n",
    "\n",
    "x,y = map(int, input().split())\n",
    "square = [[0 for _ in range(n)] for _ in range(n)]\n",
    "\n",
    "square[x-1][y-1] = 1\n",
    "cnt = 1\n",
    "while True:\n",
    "    check(n, cnt, square)\n",
    "\n",
    "print(square)"
   ]
  },
  {
   "cell_type": "markdown",
   "metadata": {},
   "source": [
    "1 이후에는 숫자가 여러개씩 있으니까 printarr 안에 while 문을 만들어줘야 함.."
   ]
  },
  {
   "cell_type": "code",
   "execution_count": null,
   "metadata": {},
   "outputs": [],
   "source": [
    "# CODE UP DFS/BFS 1512 숫자 등고선\n",
    "def printarr(arr):\n",
    "    for i in range(n):\n",
    "        for j in range(n):\n",
    "            print(arr[i][j], end = ' ')\n",
    "        print()\n",
    "\n",
    "def check(n, cnt, square):\n",
    "    dx = [1, 0, -1, 0]\n",
    "    dy = [0, 1, 0, -1]\n",
    "    for i in range(n):\n",
    "        for j in range(n):\n",
    "            if square[i][j] == cnt:\n",
    "                tmp = square[i][j]\n",
    "                for k in range(4):\n",
    "                    if i+(dx[k])<0 or i+(dx[k])>=n or j+(dy[k])<0 or j+(dy[k])>=n:\n",
    "                        continue\n",
    "                    elif square[i+(dx[k])][j+(dy[k])] == 0:\n",
    "                        square[i+(dx[k])][j+(dy[k])] = tmp+1\n",
    "                    else : \n",
    "                        continue\n",
    "            else :\n",
    "                continue\n",
    "    cnt += 1\n",
    "    if cnt == n+1:\n",
    "        printarr(square)\n",
    "        return cnt\n",
    "    else:\n",
    "        check(n, cnt, square)\n",
    "\n",
    "n = int(input())\n",
    "\n",
    "x,y = map(int, input().split())\n",
    "square = [[0 for _ in range(n)] for _ in range(n)]\n",
    "square[x-1][y-1] = 1\n",
    "cnt = int(1)\n",
    "\n",
    "while True:\n",
    "    cnt = check(n, cnt, square)\n",
    "    if cnt == n+1:\n",
    "        break\n"
   ]
  },
  {
   "cell_type": "markdown",
   "metadata": {},
   "source": [
    "아니 왜 잘 돌아가는데 에러남;;"
   ]
  },
  {
   "cell_type": "code",
   "execution_count": null,
   "metadata": {},
   "outputs": [],
   "source": [
    "def printarr(arr):\n",
    "    for i in range(n):\n",
    "        for j in range(n):\n",
    "            print(arr[i][j], end=' ')\n",
    "        print()\n",
    "\n",
    "def check(n, cnt, square):\n",
    "    dx = [1, 0, -1, 0]\n",
    "    dy = [0, 1, 0, -1]\n",
    "    for i in range(n):\n",
    "        for j in range(n):\n",
    "            if square[i][j] == cnt:\n",
    "                tmp = square[i][j]\n",
    "                for k in range(4):\n",
    "                    nx, ny = i + dx[k], j + dy[k]\n",
    "                    if nx < 0 or nx >= n or ny < 0 or ny >= n:\n",
    "                        continue\n",
    "                    elif square[nx][ny] == 0:\n",
    "                        square[nx][ny] = tmp + 1\n",
    "                    else:\n",
    "                        continue\n",
    "            else:\n",
    "                continue\n",
    "    cnt += 1\n",
    "    if cnt == n+1:\n",
    "        printarr(square)\n",
    "        return cnt\n",
    "    else:\n",
    "        return check(n, cnt, square)  # 엑 재귀를 return 안에 넣어야 하는 구나 \n",
    "\n",
    "n = int(input())\n",
    "x, y = map(int, input().split())\n",
    "square = [[0 for _ in range(n)] for _ in range(n)]\n",
    "square[x-1][y-1] = 1\n",
    "cnt = 1\n",
    "\n",
    "while True:\n",
    "    cnt = check(n, cnt, square)\n",
    "    if cnt == n + 1:\n",
    "        break\n"
   ]
  },
  {
   "cell_type": "markdown",
   "metadata": {},
   "source": [
    "오 재귀 함수 return 에 꼭 넣기 !!!!! 아무튼 해냄 ~"
   ]
  },
  {
   "cell_type": "markdown",
   "metadata": {},
   "source": [
    "아님 가로 나 세로가 훨씬 긴 배열은 n+1 보다 더 큰 숫자까지 필요함 .. 그냥 0 이 없을때 까지 해야함"
   ]
  },
  {
   "cell_type": "code",
   "execution_count": null,
   "metadata": {},
   "outputs": [],
   "source": [
    "def printarr(arr):\n",
    "    for i in range(n):\n",
    "        for j in range(n):\n",
    "            print(arr[i][j], end=' ')\n",
    "        print()\n",
    "\n",
    "def zerocheck(square):\n",
    "    for i in range(n):\n",
    "        for j in range(n):\n",
    "            if square[i][j] == 0:\n",
    "                return False\n",
    "\n",
    "    return True\n",
    "\n",
    "\n",
    "def check(n, cnt, square):\n",
    "    dx = [1, 0, -1, 0]\n",
    "    dy = [0, 1, 0, -1]\n",
    "    for i in range(n):\n",
    "        for j in range(n):\n",
    "            if square[i][j] == cnt:\n",
    "                tmp = square[i][j]\n",
    "                for k in range(4):\n",
    "                    nx, ny = i + dx[k], j + dy[k]\n",
    "                    if nx < 0 or nx >= n or ny < 0 or ny >= n:\n",
    "                        continue\n",
    "                    elif square[nx][ny] == 0:\n",
    "                        square[nx][ny] = tmp + 1\n",
    "                    else:\n",
    "                        continue\n",
    "            else:\n",
    "                continue\n",
    "    cnt += 1\n",
    "    if zerocheck(square):\n",
    "        printarr(square)\n",
    "        return cnt\n",
    "    else:\n",
    "        return check(n, cnt, square)  # 엑 재귀를 return 안에 넣어야 하는 구나 \n",
    "\n",
    "n = int(input())\n",
    "x, y = map(int, input().split())\n",
    "square = [[0 for _ in range(n)] for _ in range(n)]\n",
    "square[x-1][y-1] = 1\n",
    "cnt = 1\n",
    "\n",
    "while True:\n",
    "    cnt = check(n, cnt, square)\n",
    "    if cnt == n + 1:\n",
    "        break\n"
   ]
  },
  {
   "cell_type": "markdown",
   "metadata": {},
   "source": [
    "그래도 안됨.. BFS 써야함 "
   ]
  },
  {
   "cell_type": "code",
   "execution_count": null,
   "metadata": {},
   "outputs": [],
   "source": [
    "from collections import deque\n",
    "\n",
    "def printarr(arr):\n",
    "    for i in range(n):\n",
    "        for j in range(n):\n",
    "            print(arr[i][j], end=' ')\n",
    "        print()\n",
    "\n",
    "def bfs(n, start_x, start_y, square):\n",
    "    # Direction vectors for moving up, down, left, right\n",
    "    dx = [1, 0, -1, 0]\n",
    "    dy = [0, 1, 0, -1]\n",
    "\n",
    "    queue = deque([(start_x, start_y, 1)])  # Queue of (x, y, count)\n",
    "    square[start_x][start_y] = 1  # Start position is marked with count 1\n",
    "\n",
    "    while queue:\n",
    "        x, y, cnt = queue.popleft()\n",
    "        \n",
    "        # Try to spread to neighboring cells\n",
    "        for k in range(4):\n",
    "            nx, ny = x + dx[k], y + dy[k]\n",
    "            if 0 <= nx < n and 0 <= ny < n and square[nx][ny] == 0:\n",
    "                square[nx][ny] = cnt + 1\n",
    "                queue.append((nx, ny, cnt + 1))\n",
    "\n",
    "    printarr(square)  # Print the final filled grid\n",
    "\n",
    "# Input\n",
    "n = int(input())\n",
    "x, y = map(int, input().split())\n",
    "square = [[0 for _ in range(n)] for _ in range(n)]\n",
    "\n",
    "# Convert (x, y) to zero-indexed coordinates for internal processing\n",
    "bfs(n, x - 1, y - 1, square)\n"
   ]
  },
  {
   "cell_type": "markdown",
   "metadata": {},
   "source": [
    "악 아님 틀림 .. "
   ]
  },
  {
   "cell_type": "markdown",
   "metadata": {},
   "source": [
    "# code up 4060"
   ]
  },
  {
   "cell_type": "code",
   "execution_count": null,
   "metadata": {},
   "outputs": [],
   "source": [
    "# 4060 전광판 전구 조작\n",
    "\n",
    "def turn_on(arr):\n",
    "    return 0\n",
    "\n",
    "def turn_off(arr):\n",
    "    return 0    \n",
    "\n",
    "m,n = map(int, input().split())\n",
    "arr = [0 for _ in range(n)]\n",
    "\n",
    "\n",
    "for i in range(m):\n",
    "    arr[i] = list(map(int, input().split()))\n",
    "\n",
    "on = turn_on(arr)\n",
    "off = turn_off(arr)\n",
    "\n",
    "\n"
   ]
  },
  {
   "cell_type": "code",
   "execution_count": null,
   "metadata": {},
   "outputs": [],
   "source": [
    "m, n = list(map(int, input().split()))\n",
    "t = [list(map(int, input().split())) for _ in range(m)]\n",
    "\n",
    "ton = [[t[j][i] for i in range(n)]for j in range(m)]\n",
    "toff = [[t[j][i] for i in range(n)] for j in range(m)]\n",
    "\n",
    "def dfs(i, j, type = 'on'):\n",
    "    if i<0 or i >m-1 or j<0 or j>n-1:\n",
    "        return 0\n",
    "    \n",
    "    if type == 'on':\n",
    "        if ton[i][j] == 1:\n",
    "            return 0\n",
    "        else:\n",
    "            ton[i][j] = 1\n",
    "            dfs(i-1, j, 'on')\n",
    "            dfs(i+1, j, 'on')\n",
    "            dfs(i, j-1,'on')\n",
    "            dfs(i, j+1, 'on')\n",
    "            return 1\n",
    "    \n",
    "    elif type == 'off':\n",
    "        if toff[i][j] == 0:\n",
    "            return 0\n",
    "        else: \n",
    "            toff[i][j] =0\n",
    "            dfs(i-1, j,'off')\n",
    "            dfs(i+1, j,'off')\n",
    "            dfs(i,j-1,'off')\n",
    "            dfs(i,j+1,'off')\n",
    "            return 1\n",
    "\n",
    "son, soff = 0,0\n",
    "\n",
    "for i in range(m):\n",
    "    for j in range(n):\n",
    "        son += dfs(i, j ,'on')\n",
    "        soff += dfs(i,j,'off')\n",
    "\n",
    "print(son, soff)"
   ]
  },
  {
   "cell_type": "code",
   "execution_count": null,
   "metadata": {},
   "outputs": [],
   "source": [
    "m, n = map(int, input().split())\n",
    "t = [list(map(int, input().split())) for _ in range(m)]\n",
    "\n",
    "# 방문 여부를 확인하기 위한 리스트\n",
    "visited_on = [[False] * n for _ in range(m)]\n",
    "visited_off = [[False] * n for _ in range(m)]\n",
    "\n",
    "# 깊이 우선 탐색 함수\n",
    "def dfs(i, j, target, visited):\n",
    "    if i < 0 or i >= m or j < 0 or j >= n or visited[i][j] or t[i][j] != target:\n",
    "        return 0\n",
    "    visited[i][j] = True\n",
    "    dfs(i - 1, j, target, visited)\n",
    "    dfs(i + 1, j, target, visited)\n",
    "    dfs(i, j - 1, target, visited)\n",
    "    dfs(i, j + 1, target, visited)\n",
    "    return 1\n",
    "\n",
    "son, soff = 0, 0\n",
    "\n",
    "for i in range(m):\n",
    "    for j in range(n):\n",
    "        son += dfs(i, j, 0, visited_on)  # 'on' 영역 탐색\n",
    "        soff += dfs(i, j, 1, visited_off) # 'off' 영역 탐색\n",
    "\n",
    "print(son, soff)\n"
   ]
  },
  {
   "cell_type": "markdown",
   "metadata": {},
   "source": [
    "# code up 4503"
   ]
  },
  {
   "cell_type": "markdown",
   "metadata": {},
   "source": [
    "(1) 그래프 생성 (2) DFS 탐색 (3) 결과출력"
   ]
  },
  {
   "cell_type": "code",
   "execution_count": null,
   "metadata": {},
   "outputs": [],
   "source": [
    "# 입력 처리\n",
    "n = int(input())  # 컴퓨터의 수\n",
    "m = int(input())  # 연결의 수\n",
    "\n",
    "# 그래프 초기화\n",
    "graph = [[] for _ in range(n + 1)]\n",
    "for _ in range(m):\n",
    "    a, b = map(int, input().split())\n",
    "    graph[a].append(b)\n",
    "    graph[b].append(a)\n",
    "\n",
    "# DFS 함수 정의\n",
    "def dfs(v, visited):\n",
    "    visited[v] = True\n",
    "    for i in graph[v]:\n",
    "        if not visited[i]:\n",
    "            dfs(i, visited)\n",
    "\n",
    "# 방문 리스트와 초기값 설정\n",
    "visited = [False] * (n + 1)\n",
    "dfs(1, visited)\n",
    "\n",
    "# 결과 출력 (감염된 컴퓨터 수 - 1번 컴퓨터 제외)\n",
    "print(visited.count(True) - 1)\n"
   ]
  },
  {
   "cell_type": "code",
   "execution_count": null,
   "metadata": {},
   "outputs": [],
   "source": [
    "# 4503 바이러스\n",
    "\n",
    "n = int(input())\n",
    "m = int(input())\n",
    "\n",
    "graph = [[] for _ in range(n+1)]\n",
    "\n",
    "for _ in range(m):\n",
    "    a,b = map(int, input().split())\n",
    "    graph[a].append(b)\n",
    "    graph[b].append(a)\n",
    "\n",
    "# for i in range(1, n + 1):\n",
    "#     print(f\"컴퓨터 {i}: 연결된 컴퓨터 {graph[i]}\")\n",
    "\n",
    "def bfs(v, visited):\n",
    "    visited[v] = True\n",
    "\n",
    "    for i in graph[v]:\n",
    "        if not visited[i]:\n",
    "            dfs(i, visited)\n",
    "\n",
    "visited = [False]*(n+1)\n",
    "dfs(1,visited)\n",
    "\n",
    "print(visited.count(True)-1)\n",
    "\n"
   ]
  },
  {
   "cell_type": "code",
   "execution_count": null,
   "metadata": {},
   "outputs": [],
   "source": [
    "print(id(square == '1'))"
   ]
  },
  {
   "cell_type": "markdown",
   "metadata": {},
   "source": [
    "# code up 2605"
   ]
  },
  {
   "cell_type": "code",
   "execution_count": null,
   "metadata": {},
   "outputs": [],
   "source": [
    "# 2605 캔디팡\n",
    "d = [   [0 for _ in range(7)] \n",
    "     for _ in range(7)]\n",
    "\n",
    "for i in range(d): ## 이거 때문이었음;; 으이구\n",
    "    d[i] = list(map(int, input().split()))\n",
    "\n",
    "print(d)"
   ]
  },
  {
   "cell_type": "code",
   "execution_count": null,
   "metadata": {},
   "outputs": [],
   "source": [
    "# 7x7 행렬을 0으로 초기화\n",
    "d = [[0 for _ in range(7)] for _ in range(7)]\n",
    "\n",
    "# 사용자로부터 행렬의 값을 입력받기\n",
    "for i in range(7):\n",
    "    d[i] = list(map(int, input().split()))\n",
    "\n",
    "def bfs(i,j,d):\n",
    "    tmp = d[i][j]\n",
    "    \n",
    "\n",
    "ret = 0\n",
    "\n",
    "for i in range(7):\n",
    "    for j in range(7):\n",
    "        ret = bfs(i,j,d)"
   ]
  },
  {
   "cell_type": "code",
   "execution_count": null,
   "metadata": {},
   "outputs": [],
   "source": [
    "# 7x7 행렬을 0으로 초기화\n",
    "d = [[[False] for _ in range(7)] for _ in range(7)]\n",
    "\n",
    "# 사용자로부터 행렬의 값을 입력받기\n",
    "for i in range(7):\n",
    "    d[i] = list(map(int, input().split()))\n",
    "\n",
    "def bfs(i,j,d):\n",
    "    tmp = d[i][j]\n",
    "    \n",
    "\n",
    "ret = 0\n",
    "\n",
    "for i in range(7):\n",
    "    for j in range(7):\n",
    "        ret = bfs(i,j,d)"
   ]
  },
  {
   "cell_type": "code",
   "execution_count": null,
   "metadata": {},
   "outputs": [],
   "source": [
    "def bfs(x,y,t,v,p):                 # p = t[i][j]\n",
    "    if x<0 or x>=len(t) or y<0 or y>=len(t[0]):\n",
    "        return 0\n",
    "    \n",
    "    c = 0   # 블록 갯수 \n",
    "\n",
    "    if not v[x][y] and t[x][y] == p:\n",
    "        v[x][y] = 1 # 방문 표시 .. \n",
    "\n",
    "        c+=1\n",
    "        c+= dfs(x-1, y, t, v,p)\n",
    "        c+= dfs(x+1, y, t, v, p)\n",
    "        c += dfs(x, y+1, t, v,p)\n",
    "        c+= dfs(x,y-1,t,v,p)    # 네방향으로 더 호출하면서 .. \n",
    "    \n",
    "    # 모든 호출 끝나면 c반환\n",
    "\n",
    "    return c\n",
    "\n",
    "t = [list(map(int, input().split())) for _ in range(7)]     # t가 원본\n",
    "visited = [[0 for _ in range(len(t[0]))] for _ in range(len(t))] # visited 는 2차원 방문 0 \n",
    "\n",
    "s = 0   # 갯수 \n",
    "\n",
    "for i in range(len(t)): \n",
    "    for j in range(len(t[0])):  # 원본을 빙빙 돌면서.. \n",
    "        if dfs(i, j, t, visited, t[i][j]) >= 3: # 방문 횃수가 3개 이상일때에만.. \n",
    "            s+=1    # 갯수 들리기~ \n",
    "\n",
    "print(s)"
   ]
  },
  {
   "cell_type": "code",
   "execution_count": null,
   "metadata": {},
   "outputs": [],
   "source": [
    "def dfs(x, y, t, v, p):\n",
    "    # 경계 체크\n",
    "    if x < 0 or x >= len(t) or y < 0 or y >= len(t[0]):\n",
    "        return 0\n",
    "    \n",
    "    c = 0\n",
    "\n",
    "    # 현재 위치가 방문하지 않았고, 목표 값과 일치하면\n",
    "    if not v[x][y] and t[x][y] == p:\n",
    "        v[x][y] = 1  # 방문 표시\n",
    "        c += 1\n",
    "\n",
    "        # 인접한 네 방향으로 DFS 호출\n",
    "        c += dfs(x-1, y, t, v, p)  # 위\n",
    "        c += dfs(x+1, y, t, v, p)  # 아래\n",
    "        c += dfs(x, y-1, t, v, p)  # 왼쪽\n",
    "        c += dfs(x, y+1, t, v, p)  # 오른쪽\n",
    "\n",
    "    return c\n",
    "\n",
    "# 7xN 크기의 배열 입력\n",
    "t = [list(map(int, input().split())) for _ in range(7)]\n",
    "visited = [[0 for _ in range(len(t[0]))] for _ in range(len(t))]\n",
    "\n",
    "s = 0\n",
    "\n",
    "# 전체 배열을 순회하면서 DFS 호출\n",
    "for i in range(len(t)):\n",
    "    for j in range(len(t[0])):\n",
    "        # DFS 결과가 3 이상인 경우 카운트\n",
    "        if dfs(i, j, t, visited, t[i][j]) >= 3:\n",
    "            s += 1\n",
    "\n",
    "print(s)\n"
   ]
  },
  {
   "cell_type": "markdown",
   "metadata": {},
   "source": [
    "# 1260"
   ]
  },
  {
   "cell_type": "markdown",
   "metadata": {},
   "source": [
    "dfs 는 재귀로 구현, bfs 는 queue 로 구현하는게 보통.."
   ]
  },
  {
   "cell_type": "code",
   "execution_count": null,
   "metadata": {},
   "outputs": [],
   "source": [
    "# 1260 DFS와 BFS\n",
    "n, m, v = map(int, input().split())\n",
    "\n",
    "# graph = [[] for _ in range(n+1)]    # 오 [[] for _ in range(n+1)] 로 만드는 거 잘 기억하기 !! for 문 두개 아님 !!\n",
    "graph = [[] for _ in range(n+1)]\n",
    "\n",
    "\n",
    "\n",
    "for i in range(m):\n",
    "    a,b = map(int, input().split())\n",
    "    graph[a].append(b)\n",
    "    graph[b].append(a)\n",
    "\n",
    "for \n",
    "\n"
   ]
  },
  {
   "cell_type": "markdown",
   "metadata": {},
   "source": [
    "True False 로 구현\n"
   ]
  },
  {
   "cell_type": "code",
   "execution_count": null,
   "metadata": {},
   "outputs": [],
   "source": [
    "from collections import deque\n",
    "\n",
    "n,m,v = map(int, input().split())\n",
    "graph = [[False]*(n+1) for _ in range(n+1)]\n",
    "\n",
    "for _ in range(m):\n",
    "    a, b = map(int, input().split())\n",
    "    graph[a][b] = True\n",
    "    graph[b][a] = True\n",
    "\n",
    "v_dfs = [False]*(n+1)\n",
    "v_bfs = [False]*(n+1)\n",
    "\n",
    "def bfs(v):\n",
    "    q = deque([v])\n",
    "    v_bfs[v] = True\n",
    "\n",
    "    while q:\n",
    "        v = q.popleft()\n",
    "        print(v, end=\" \")\n",
    "        for i in range(1, n+1):\n",
    "            if not v_bfs[i] and graph[v][i]:\n",
    "                q.append(i)\n",
    "                v_bfs[i] = True\n",
    "\n",
    "\n",
    "def dfs(v):\n",
    "    v_dfs[v] = True\n",
    "    print(v, end=\" \")\n",
    "    for i in range(1, n+1):\n",
    "        if not v_dfs[i] and graph[v][i]:\n",
    "            dfs(i)\n",
    "\n",
    "dfs(v)\n",
    "print()\n",
    "bfs(v)"
   ]
  },
  {
   "cell_type": "code",
   "execution_count": null,
   "metadata": {},
   "outputs": [],
   "source": [
    "from collections import deque\n",
    "q = deque([1])\n",
    "q.popleft()\n",
    "print(q)"
   ]
  },
  {
   "cell_type": "markdown",
   "metadata": {},
   "source": [
    "# 2606"
   ]
  },
  {
   "cell_type": "code",
   "execution_count": null,
   "metadata": {},
   "outputs": [],
   "source": [
    "# 2606 바이러스 \n",
    "n = int(input())\n",
    "m = int(input())\n",
    "\n",
    "graph = [[] for _ in range(n+1)]\n",
    "\n",
    "for _ in range(m):\n",
    "    a,b = map(int, input().split())\n",
    "    graph[a].append(b)\n",
    "    graph[b].append(a)\n",
    "\n",
    "def dfs(v,visited):\n",
    "    visited[v] = True   # 방문 여부..\n",
    "    for num in graph[v]:\n",
    "        if not visited[num]:\n",
    "            dfs(num, visited)\n",
    "\n",
    "visited = [False] * (n+1)\n",
    "dfs(1, visited)\n",
    "\n",
    "print(visited.count(True)-1)"
   ]
  },
  {
   "cell_type": "code",
   "execution_count": null,
   "metadata": {},
   "outputs": [],
   "source": [
    "bfs(1,graph)"
   ]
  },
  {
   "cell_type": "code",
   "execution_count": null,
   "metadata": {},
   "outputs": [],
   "source": [
    "# 2606 bfs와 dfs\n",
    "n=int(input())\n",
    "m=int(input())\n",
    "\n",
    "arr = [[] for i in range(m)]\n",
    "\n",
    "for i in range(m):\n",
    "    arr[i]= input()\n",
    "\n"
   ]
  },
  {
   "cell_type": "markdown",
   "metadata": {},
   "source": [
    "# 15649"
   ]
  },
  {
   "cell_type": "code",
   "execution_count": null,
   "metadata": {},
   "outputs": [],
   "source": [
    "# 15649 N과 M\n",
    "\n",
    "n = int(input())\n",
    "m = int(input())\n",
    "\n",
    "graph = [[] for _ in range(n+1)]\n",
    "\n",
    "for i in range(m):\n",
    "    a , b = map(int, input().split())\n",
    "    graph[a].append(b)\n",
    "    graph[b].append(a)\n",
    "\n",
    "def dfs(v,visited):\n",
    "    visited[v] = True\n",
    "    for i in graph[v]:\n",
    "        visited[v] = True\n",
    "\n",
    "visited = [False] *(n+1)\n",
    "dfs(1,visited)\n",
    "\n",
    "print(visited.count(True))\n"
   ]
  },
  {
   "cell_type": "code",
   "execution_count": null,
   "metadata": {},
   "outputs": [],
   "source": [
    "# 1260 dfs 와 bfs\n",
    "\n",
    "# dfs - 재귀\n",
    "# bfs - dequeue \n",
    "\n",
    "n, m, v = map(int, input().split())\n",
    "arr =[[] for _ in range(n+1)]\n",
    "\n",
    "for i in range(m):\n",
    "    a,b = map(int, input().split())\n",
    "    arr[a].append(b)\n",
    "    arr[b].append(a)\n",
    "\n",
    "visited_dfs = [[False] for _ in range(n+1)]\n",
    "visited_bfs = [[False] for _ in range(n+1)]\n",
    "\n",
    "def dfs(visited_dfs, v):\n",
    "    print(v, end = ' ')\n",
    "    visited_dfs[v] = True\n",
    "\n",
    "    for num in arr[v]:\n",
    "        dfs()\n",
    "\n",
    "def bfs(visited_bfs, v):\n",
    "    \n",
    "\n",
    "\n"
   ]
  },
  {
   "cell_type": "code",
   "execution_count": null,
   "metadata": {},
   "outputs": [],
   "source": [
    "# 2606 바이러스\n",
    "\n",
    "n = int(input())\n",
    "m = int(input())\n",
    "\n",
    "arr = [[] for _ in range(n+1)]\n",
    "\n",
    "for _ in range(m):\n",
    "    a,b = map(int, input().split())\n",
    "    arr[a].append(b)\n",
    "    arr[b].append(a)\n",
    "\n",
    "def dfs(visited, v):\n",
    "    visited[v] = True\n",
    "    \n",
    "    for num in arr[v]:\n",
    "        dfs(visited, num)\n",
    "\n",
    "visited = [[False] for _ in range(n+1)]\n",
    "dfs(visited, 1)\n",
    "\n",
    "result = visited.count('True')\n",
    "print(result)"
   ]
  },
  {
   "cell_type": "code",
   "execution_count": null,
   "metadata": {},
   "outputs": [],
   "source": [
    "print(visited)"
   ]
  },
  {
   "cell_type": "code",
   "execution_count": null,
   "metadata": {},
   "outputs": [],
   "source": [
    "visited = [False] * (n+1)\n",
    "print(visited)"
   ]
  },
  {
   "cell_type": "code",
   "execution_count": null,
   "metadata": {},
   "outputs": [],
   "source": [
    "# 2606 바이러스\n",
    "\n",
    "n = int(input())\n",
    "m = int(input())\n",
    "\n",
    "arr = [[] for _ in range(n+1)]\n",
    "\n",
    "for _ in range(m):\n",
    "    a,b = map(int, input().split())\n",
    "    arr[a].append(b)\n",
    "    arr[b].append(a)\n",
    "\n",
    "def dfs(visited, v):\n",
    "    visited[v] = True\n",
    "    \n",
    "    for num in arr[v]:\n",
    "        dfs(visited, num)\n",
    "\n",
    "visited = [False]*(n+1)\n",
    "dfs(visited, 1)\n",
    "\n",
    "result = visited.count('True')\n",
    "print(result)"
   ]
  },
  {
   "cell_type": "code",
   "execution_count": null,
   "metadata": {},
   "outputs": [],
   "source": [
    "# 2606 바이러스\n",
    "\n",
    "n = int(input())\n",
    "m = int(input())\n",
    "\n",
    "arr = [[] for _ in range(n+1)]\n",
    "\n",
    "for _ in range(m):\n",
    "    a,b = map(int, input().split())\n",
    "    arr[a].append(b)\n",
    "    arr[b].append(a)\n",
    "\n",
    "def dfs(visited, v):\n",
    "    visited[v] = True\n",
    "    \n",
    "    for num in arr[v]:\n",
    "        if not visited[num]:\n",
    "            dfs(visited, num)\n",
    "\n",
    "visited = [False]*(n+1)\n",
    "dfs(visited, 1)\n",
    "\n",
    "result = visited.count('True')\n",
    "print(result)"
   ]
  },
  {
   "cell_type": "code",
   "execution_count": null,
   "metadata": {},
   "outputs": [],
   "source": [
    "# 2606 바이러스\n",
    "\n",
    "n = int(input())\n",
    "m = int(input())\n",
    "\n",
    "graph = [[] for _ in range(n+1)]  ## graph\n",
    "\n",
    "for _ in range(m):\n",
    "    a,b = map(int, input().split())\n",
    "    graph[a].append(b)\n",
    "    graph[b].append(a)\n",
    "\n",
    "def dfs(visited, v):\n",
    "    visited[v] = True\n",
    "    \n",
    "    for num in graph[v]:\n",
    "        if not visited[num]:        ## True False 확인 방문 여부 없으면 종료 안함\n",
    "            dfs(visited, num)\n",
    "\n",
    "visited = [False]*(n+1)             ## [[False] for _ in range(n+1)] 로 visited 배열 만들면 False 가 아니라 [False]가 n+1 개 생김\n",
    "dfs(visited, 1)\n",
    "\n",
    "result = visited.count(True)-1\n",
    "print(result)"
   ]
  },
  {
   "cell_type": "markdown",
   "metadata": {},
   "source": [
    "deque 문법 :\n",
    "append, appendleft, pop, popleft"
   ]
  },
  {
   "cell_type": "code",
   "execution_count": null,
   "metadata": {},
   "outputs": [],
   "source": [
    "# 1260 dfs bfs\n",
    "from collections import deque\n",
    "\n"
   ]
  },
  {
   "cell_type": "markdown",
   "metadata": {},
   "source": [
    "graph 자체에 True false 로 만들기 ..! 왜지"
   ]
  },
  {
   "cell_type": "code",
   "execution_count": null,
   "metadata": {},
   "outputs": [],
   "source": [
    "from collections import deque\n",
    "\n",
    "n, m, v = map(int, input().split())\n",
    "graph = [[False]*(n+1) for _ in range(n+1)]\n",
    "\n",
    "for i in range(m):\n",
    "    a,b = map(int, input().split())\n",
    "    graph[a][b] = True\n",
    "    graph[b][a] = True\n",
    "\n",
    "v_dfs = [False]*(n+1) # 방문 여부\n",
    "v_bfs = [False]*(n+1)\n",
    "\n",
    "def dfs(v):\n",
    "    v_dfs[v] = True\n",
    "    print(v, end=' ')\n",
    "\n",
    "    for i in range(1, n+1):\n",
    "        if not v_dfs[i] and graph[v][i]:   \n",
    "        # graph[v][i] 로 v 와 연결된 순서 1 부터 n+1 까지 탐색\n",
    "            dfs(i)    \n",
    "\n",
    "def bfs(v):\n",
    "    q = deque([v])  # v 를 왜  [] 로 만든거지 v 는 그냥 시작 리스트.. \n",
    "    v_bfs[v] = True\n",
    "\n",
    "    while q:\n",
    "        v = q.popleft()\n",
    "        print(v, end=\" \")\n",
    "        for i in range(1, n+1):\n",
    "            if not v_bfs[i] and graph[v][i]:\n",
    "                q.append(i)\n",
    "                v_bfs[i] = True\n",
    "\n",
    "dfs(v)\n",
    "print()\n",
    "bfs(v)\n",
    "\n",
    "\n"
   ]
  },
  {
   "cell_type": "code",
   "execution_count": null,
   "metadata": {},
   "outputs": [],
   "source": [
    "from collections import deque\n",
    "\n",
    "v=[1,2,3]\n",
    "q = deque([v])\n",
    "print(q)"
   ]
  },
  {
   "cell_type": "code",
   "execution_count": null,
   "metadata": {},
   "outputs": [],
   "source": [
    "v=1\n",
    "q=deque([v])\n",
    "v_bfs[v] = True\n",
    "v = q.popleft()\n",
    "for i in range(1,n+1):\n",
    "    if not v_bfs[i] and graph[v][i]:\n",
    "        q.append(i)\n",
    "        v_bfs[i]=True  \n",
    "        print(q)"
   ]
  },
  {
   "cell_type": "code",
   "execution_count": null,
   "metadata": {},
   "outputs": [],
   "source": [
    "i = 2\n",
    "q.append(i)\n",
    "print(q)"
   ]
  },
  {
   "cell_type": "markdown",
   "metadata": {},
   "source": [
    "# 10026"
   ]
  },
  {
   "cell_type": "code",
   "execution_count": null,
   "metadata": {},
   "outputs": [],
   "source": [
    "# 10026 적록색약\n",
    "\n",
    "# 빨강 초록 색 차이 \n",
    "# n*n 인 그리드에 rgb\n",
    "\n",
    "n = int(input())\n",
    "arr = ['' for _ in range(n)] \n",
    "\n",
    "for i in range(n):\n",
    "    arr[i] = list((input()))\n",
    "    \n",
    "for i in range(n):\n",
    "    for j in range(n):\n",
    "        print(arr[i][j], end='')\n",
    "    print()\n"
   ]
  },
  {
   "cell_type": "code",
   "execution_count": null,
   "metadata": {},
   "outputs": [],
   "source": [
    "def checker(arr, color):\n",
    "    checkmap = ([False]*(n))*(n)\n",
    "    print(checkmap)\n",
    "    for row in arr:\n",
    "        for char in row:\n",
    "            if char == color:\n",
    "                "
   ]
  },
  {
   "cell_type": "code",
   "execution_count": null,
   "metadata": {},
   "outputs": [],
   "source": [
    "checkmap = [[False]*(n)]*(n)\n",
    "print(checkmap)"
   ]
  },
  {
   "cell_type": "code",
   "execution_count": null,
   "metadata": {},
   "outputs": [],
   "source": [
    "# 10026 적록색약\n",
    "\n",
    "# 빨강 초록 색 차이 \n",
    "# n*n 인 그리드에 rgb\n",
    "\n",
    "n = int(input())\n",
    "arr = ['' for _ in range(n)] \n",
    "arr2 = ['' for _ in range(n)] \n",
    "\n",
    "checklist = [[False]*n]*n\n",
    "\n",
    "for i in range(n):\n",
    "    for j in range(n):\n",
    "        if arr[i][j] == 'G':\n",
    "            arr2[i][j] == 'R'\n",
    "        else:\n",
    "            arr2[i][j] = arr[i][j]\n",
    "\n",
    "\n",
    "for i in range(n):\n",
    "    arr[i] = list((input()))\n",
    "\n",
    "def check(checklist, i, j, color):\n",
    "    checklist[i][j] = True\n",
    "    \n",
    "    dx = [1, 0, -1, 0]\n",
    "    dy = [0, 1, 0, -1]\n",
    "    nx,ny = 0,0 \n",
    "\n",
    "    for dirt in range(4):\n",
    "        nx = i+dx[dirt]\n",
    "        ny = j+dy[dirt]\n",
    "        if nx>=n or nx<0 or ny>=n or ny<0:\n",
    "            continue\n",
    "        elif arr[nx][ny] == color and not checklist[nx][ny]:\n",
    "            check(checklist, nx, ny, color)\n",
    "        else:\n",
    "            continue\n",
    "    return checklist\n",
    "    \n",
    "ret1 = 0\n",
    "ret2 = 0\n",
    "\n",
    "for i in range(n):\n",
    "    for j in range(n):\n",
    "        if not checklist[i][j]:\n",
    "            color = arr[i][j]\n",
    "            checklist = check(checklist, i, j, color)\n",
    "            ret1 += 1\n",
    "            print(ret1)\n",
    "\n",
    "checklist = [[False]*n]*n # 적록색약 위해서 다시 초기화        \n",
    "\n",
    "\n",
    "for i in range(n):\n",
    "    for j in range(n):\n",
    "        if not checklist[i][j]:\n",
    "            color = arr2[i][j]\n",
    "            checklist = check(checklist, i, j, color)\n",
    "            ret2 += 1\n",
    "            print(ret1)\n",
    "print(ret)\n",
    "\n",
    "\n",
    "\n",
    "\n",
    "# for i in range(n):\n",
    "#     for j in range(n):\n",
    "#         print(arr[i][j], end='')\n",
    "#     print()\n",
    "\n",
    "\n"
   ]
  },
  {
   "cell_type": "code",
   "execution_count": null,
   "metadata": {},
   "outputs": [],
   "source": [
    "n = int(input())\n",
    "arr = ['' for _ in range(n)] \n",
    "checklist = [[False for _ in range(n)] for _ in range(n)]  # 수정된 부분: 각 행이 독립적으로 생성되도록 함\n",
    "\n",
    "for i in range(n):\n",
    "    arr[i] = list(input())\n",
    "\n",
    "def check(checklist, i, j, color):\n",
    "    checklisㅈt[i][j] = True\n",
    "    \n",
    "    dx = [1, 0, -1, 0]\n",
    "    dy = [0, 1, 0, -1]\n",
    "\n",
    "    for dirt in range(4):\n",
    "        nx = i + dx[dirt]\n",
    "        ny = j + dy[dirt]\n",
    "        if 0 <= nx < n and 0 <= ny < n:  # 범위 확인\n",
    "            if arr[nx][ny] == color and not checklist[nx][ny]:  # 방문하지 않은 같은 색상일 경우만 재귀 호출\n",
    "                check(checklist, nx, ny, color)\n",
    "                \n",
    "    return checklist\n",
    "\n",
    "ret = 0\n",
    "\n",
    "for i in range(n):\n",
    "    for j in range(n):\n",
    "        if not checklist[i][j]:\n",
    "            color = arr[i][j]\n",
    "            checklist = check(checklist, i, j, color)\n",
    "            ret += 1\n",
    "            print(f\"현재까지 그룹 수: {ret}\")\n",
    "\n",
    "print(\"총 그룹 수:\", ret)\n"
   ]
  },
  {
   "cell_type": "code",
   "execution_count": null,
   "metadata": {},
   "outputs": [],
   "source": [
    "# 10026 적록색약\n",
    "\n",
    "# 빨강 초록 색 차이 \n",
    "# n*n 인 그리드에 rgb\n",
    "\n",
    "n = int(input())\n",
    "arr = ['' for _ in range(n)]\n",
    "arr2 = [['' for _ in range(n)] for _ in range(n)]  # arr2 초기화 수정\n",
    "\n",
    "checklist = [[False]*n]*n\n",
    "\n",
    "for i in range(n):\n",
    "    arr[i] = list((input()))\n",
    "\n",
    "    \n",
    "for i in range(n):\n",
    "    for j in range(n):\n",
    "        if arr[i][j] == 'G':\n",
    "            arr2[i][j] = 'R'\n",
    "        else:\n",
    "            arr2[i][j] = arr[i][j]\n",
    "\n",
    "def check(checklist, i, j, color):\n",
    "    checklist[i][j] = True\n",
    "    \n",
    "    dx = [1, 0, -1, 0]\n",
    "    dy = [0, 1, 0, -1]\n",
    "\n",
    "    for dirt in range(4):\n",
    "        nx = i+dx[dirt]\n",
    "        ny = j+dy[dirt]\n",
    "        if 0<=nx<n and 0<=ny<n:\n",
    "            if arr[nx][ny] == color and not checklist[nx][ny]:\n",
    "                check(checklist, nx, ny, color)\n",
    "\n",
    "    return checklist\n",
    "    \n",
    "ret1 = 0\n",
    "ret2 = 0\n",
    "\n",
    "for i in range(n):\n",
    "    for j in range(n):\n",
    "        if not checklist[i][j]:\n",
    "            color = arr[i][j]\n",
    "            checklist = check(checklist, i, j, color)\n",
    "            ret1 += 1\n",
    "\n",
    "checklist = [[False]*n]*n # 적록색약 위해서 다시 초기화        \n",
    "\n",
    "\n",
    "for i in range(n):\n",
    "    for j in range(n):\n",
    "        if not checklist[i][j]:\n",
    "            color = arr2[i][j]\n",
    "            checklist = check(checklist, i, j, color)\n",
    "            ret2 += 1\n",
    "\n",
    "print(ret1, ret2)\n",
    "\n",
    "\n",
    "\n",
    "\n",
    "# for i in range(n):\n",
    "#     for j in range(n):\n",
    "#         print(arr[i][j], end='')\n",
    "#     print()\n",
    "\n",
    "\n"
   ]
  },
  {
   "cell_type": "code",
   "execution_count": null,
   "metadata": {},
   "outputs": [],
   "source": [
    "n = int(input())\n",
    "arr = [list(input()) for _ in range(n)]  # arr을 2차원 리스트로 초기화\n",
    "arr2 = [[None for _ in range(n)] for _ in range(n)]  # arr2를 2차원 리스트로 초기화\n",
    "\n",
    "checklist = [[False for _ in range(n)] for _ in range(n)]\n",
    "\n",
    "# 적록색약용 배열 생성\n",
    "for i in range(n):\n",
    "    for j in range(n):\n",
    "        if arr[i][j] == 'G':\n",
    "            arr2[i][j] = 'R'  # arr2[i][j] 값을 수정 가능\n",
    "        else:\n",
    "            arr2[i][j] = arr[i][j]\n",
    "\n",
    "def check(grid, checklist, i, j, color):\n",
    "    checklist[i][j] = True\n",
    "    \n",
    "    dx = [1, 0, -1, 0]\n",
    "    dy = [0, 1, 0, -1]\n",
    "\n",
    "    for direction in range(4):\n",
    "        nx = i + dx[direction]\n",
    "        ny = j + dy[direction]\n",
    "        if 0 <= nx < n and 0 <= ny < n:  # 수정된 범위 검사\n",
    "            if grid[nx][ny] == color and not checklist[nx][ny]:\n",
    "                check(grid, checklist, nx, ny, color)\n",
    "\n",
    "    return 0\n",
    "ret1 = 0\n",
    "ret2 = 0\n",
    "\n",
    "# 일반 시야 검사\n",
    "for i in range(n):\n",
    "    for j in range(n):\n",
    "        if not checklist[i][j]:\n",
    "            color = arr[i][j]\n",
    "            check(arr, checklist, i, j, color)\n",
    "            ret1 += 1\n",
    "\n",
    "# 적록색약을 위한 초기화\n",
    "checklist = [[False for _ in range(n)] for _ in range(n)]\n",
    "\n",
    "# 적록색약 시야 검사\n",
    "for i in range(n):\n",
    "    for j in range(n):\n",
    "        if not checklist[i][j]:\n",
    "            color = arr2[i][j]\n",
    "            check(arr2, checklist, i, j, color)\n",
    "            ret2 += 1\n",
    "\n",
    "print(ret1, ret2)\n"
   ]
  },
  {
   "cell_type": "markdown",
   "metadata": {},
   "source": [
    "전체 구조는 문제 없이 잘 짰는데 리스트 초기화 때문에 접근 유무 문제로 값이 다름 "
   ]
  },
  {
   "cell_type": "markdown",
   "metadata": {},
   "source": [
    "아님 런타임에러남 그냥 진짜 구현만 한것임.. DFS 에 STACK 구조로 짜야 에러 안남"
   ]
  },
  {
   "cell_type": "code",
   "execution_count": null,
   "metadata": {},
   "outputs": [],
   "source": [
    "n = int(input())\n",
    "arr = [list(input()) for _ in range(n)]  # arr을 2차원 리스트로 초기화\n",
    "arr2 = [[None for _ in range(n)] for _ in range(n)]  # arr2를 2차원 리스트로 초기화\n",
    "\n",
    "checklist = [[False for _ in range(n)] for _ in range(n)]\n",
    "\n",
    "# 적록색약용 배열 생성\n",
    "for i in range(n):\n",
    "    for j in range(n):\n",
    "        if arr[i][j] == 'G':\n",
    "            arr2[i][j] = 'R'  # arr2[i][j] 값을 수정 가능\n",
    "        else:\n",
    "            arr2[i][j] = arr[i][j]\n",
    "\n",
    "# 반복을 사용한 DFS\n",
    "def check(grid, checklist, start_x, start_y, color):\n",
    "    stack = [(start_x, start_y)]\n",
    "    checklist[start_x][start_y] = True\n",
    "\n",
    "    dx = [1, 0, -1, 0]\n",
    "    dy = [0, 1, 0, -1]\n",
    "\n",
    "    while stack:\n",
    "        x, y = stack.pop()\n",
    "        for direction in range(4):\n",
    "            nx, ny = x + dx[direction], y + dy[direction]\n",
    "            if 0 <= nx < n and 0 <= ny < n:\n",
    "                if grid[nx][ny] == color and not checklist[nx][ny]:\n",
    "                    checklist[nx][ny] = True\n",
    "                    stack.append((nx, ny))\n",
    "\n",
    "ret1 = 0\n",
    "ret2 = 0\n",
    "\n",
    "# 일반 시야 검사\n",
    "for i in range(n):\n",
    "    for j in range(n):\n",
    "        if not checklist[i][j]:\n",
    "            color = arr[i][j]\n",
    "            check(arr, checklist, i, j, color)\n",
    "            ret1 += 1\n",
    "\n",
    "# 적록색약을 위한 초기화\n",
    "checklist = [[False for _ in range(n)] for _ in range(n)]\n",
    "\n",
    "# 적록색약 시야 검사\n",
    "for i in range(n):\n",
    "    for j in range(n):\n",
    "        if not checklist[i][j]:\n",
    "            color = arr2[i][j]\n",
    "            check(arr2, checklist, i, j, color)\n",
    "            ret2 += 1\n",
    "\n",
    "print(ret1, ret2)\n"
   ]
  },
  {
   "cell_type": "markdown",
   "metadata": {},
   "source": [
    "ㅋㅋㅋㅋ strip split 차이 ****<br>\n",
    "\n",
    "strip : 문자열 양쪽 끝에서 공백이나 특정 문자 제거<br>\n",
    "split : 문자열을 특정 구분자로 나누어 리스트로 반환"
   ]
  },
  {
   "cell_type": "markdown",
   "metadata": {},
   "source": [
    "# 11725"
   ]
  },
  {
   "cell_type": "code",
   "execution_count": null,
   "metadata": {},
   "outputs": [],
   "source": [
    "# 11725 트리의 부모 찾기\n",
    "# 루트없는 트리 input -> 트리의 루트 1 -> 노드의 부모\n",
    "\n",
    "n = int(input())\n",
    "tree = [[] for _ in range(n+1)]\n",
    "\n",
    "for i in range(n-1):\n",
    "    a, b = map(int, input().split())\n",
    "    tree[a].append(b)\n",
    "    tree[b].append(a)\n",
    "    \n",
    "\n",
    "visited = [0]*(n+1)\n",
    "\n",
    "def dfs(node):\n",
    "    for i in tree[node]:\n",
    "        if visited[i] == 0:\n",
    "            visited[i] = node\n",
    "            dfs(i)\n",
    "\n",
    "dfs(1)\n",
    "\n",
    "for x in range(2, n+1):\n",
    "    print(visited[x])"
   ]
  },
  {
   "cell_type": "markdown",
   "metadata": {},
   "source": [
    "런타임 에러.."
   ]
  },
  {
   "cell_type": "markdown",
   "metadata": {},
   "source": [
    "DFS 사용해서 풀기"
   ]
  },
  {
   "cell_type": "code",
   "execution_count": null,
   "metadata": {},
   "outputs": [],
   "source": [
    "import sys\n",
    "input = sys.stdin.read\n",
    "sys.setrecursionlimit(10**6)\n",
    "\n",
    "n = int(input().strip())\n",
    "tree = [[] for _ in range(n + 1)]\n",
    "\n",
    "# 간선 정보 입력\n",
    "for _ in range(n - 1):\n",
    "    a, b = map(int, input().split())\n",
    "    tree[a].append(b)\n",
    "    tree[b].append(a)\n",
    "\n",
    "# 방문 체크 배열\n",
    "visited = [0] * (n + 1)\n",
    "visited[1] = 1  # 루트 노드 1은 부모가 없음\n",
    "\n",
    "# DFS 함수 정의\n",
    "def dfs(node):\n",
    "    for i in tree[node]:\n",
    "        if visited[i] == 0:  # 부모가 설정되지 않은 노드만 방문\n",
    "            visited[i] = node  # 부모 노드를 기록\n",
    "            dfs(i)\n",
    "\n",
    "dfs(1)\n",
    "\n",
    "# 결과 출력\n",
    "for x in range(2, n + 1):\n",
    "    print(visited[x])\n"
   ]
  },
  {
   "cell_type": "markdown",
   "metadata": {},
   "source": [
    "# 1991"
   ]
  },
  {
   "cell_type": "code",
   "execution_count": null,
   "metadata": {},
   "outputs": [],
   "source": [
    "# 1991 트리 순회\n",
    "\n",
    "n = int(input())\n",
    "tree = [[' ' for _ in range(n+1)] for _ in range(n+1)]\n",
    "\n",
    "for i in range(n):\n",
    "    root, left, right = map(int, input().split())\n",
    "    if left == '.':\n",
    "        continue\n",
    "    else :\n",
    "        tree[root].append(left)\n",
    "\n",
    "    if  right == '.':\n",
    "        continue\n",
    "    else:\n",
    "        tree[root].append(right)\n",
    "    \n",
    "print(tree)\n",
    "visited = []*(n+1)\n",
    "\n",
    "\n"
   ]
  },
  {
   "cell_type": "markdown",
   "metadata": {},
   "source": [
    "입력이 숫자가 아닌 알파벳 이라는 걸 주의해야 함 ! 그래서 LIST 말고 DICT 으로 처리 한 것ㅇㅇ"
   ]
  },
  {
   "cell_type": "code",
   "execution_count": 1,
   "metadata": {},
   "outputs": [
    {
     "name": "stdout",
     "output_type": "stream",
     "text": [
      "ABDCEFG\n",
      "DBAECFG\n",
      "DBEGFCA"
     ]
    }
   ],
   "source": [
    "n = int(input().strip())\n",
    "tree = {}\n",
    "\n",
    "for _ in range(n):\n",
    "    root, left, right = input().split()\n",
    "    tree[root] = (left, right)\n",
    "\n",
    "# 전위 순회 (Pre-order)\n",
    "def preorder(node):\n",
    "    if node == '.':\n",
    "        return\n",
    "    print(node, end='')\n",
    "    preorder(tree[node][0])\n",
    "    preorder(tree[node][1])\n",
    "\n",
    "# 중위 순회 (In-order)\n",
    "def inorder(node):\n",
    "    if node == '.':\n",
    "        return\n",
    "    inorder(tree[node][0])\n",
    "    print(node, end='')\n",
    "    inorder(tree[node][1])\n",
    "\n",
    "# 후위 순회 (Post-order)\n",
    "def postorder(node):\n",
    "    if node == '.':\n",
    "        return\n",
    "    postorder(tree[node][0])\n",
    "    postorder(tree[node][1])\n",
    "    print(node, end='')\n",
    "\n",
    "# 결과 출력\n",
    "preorder('A')\n",
    "print()\n",
    "inorder('A')\n",
    "print()\n",
    "postorder('A')\n"
   ]
  },
  {
   "cell_type": "code",
   "execution_count": 4,
   "metadata": {},
   "outputs": [
    {
     "name": "stdout",
     "output_type": "stream",
     "text": [
      "{'A': ('B', 'C'), 'B': ('D', '.'), 'C': ('E', 'F'), 'E': ('.', '.'), 'F': ('.', 'G'), 'D': ('.', '.'), 'G': ('.', '.')}\n"
     ]
    }
   ],
   "source": [
    "n = int(input())\n",
    "tree = {}\n",
    "\n",
    "for _ in range(n):\n",
    "    root, left, right = input().split()\n",
    "    tree[root] = (left, right)\n",
    "\n",
    "print(tree)\n"
   ]
  },
  {
   "cell_type": "code",
   "execution_count": 6,
   "metadata": {},
   "outputs": [
    {
     "name": "stdout",
     "output_type": "stream",
     "text": [
      "ABDCEFG\n",
      "DBAECFG\n",
      "DBEGFCA"
     ]
    }
   ],
   "source": [
    "def preorder(node):\n",
    "    if node == '.':\n",
    "        return\n",
    "    print(node, end='')\n",
    "    preorder(tree[node][0])\n",
    "    preorder(tree[node][1])\n",
    "\n",
    "def inorder(node):\n",
    "    if node =='.':\n",
    "        return\n",
    "    inorder(tree[node][0])\n",
    "    print(node,end='')\n",
    "    inorder(tree[node][1])\n",
    "\n",
    "def postorder(node):\n",
    "    if node == '.':\n",
    "        return\n",
    "    postorder(tree[node][0])\n",
    "    postorder(tree[node][1])\n",
    "    print(node, end='')\n",
    "\n",
    "preorder('A')\n",
    "print()\n",
    "inorder('A')\n",
    "print()\n",
    "postorder('A')"
   ]
  },
  {
   "cell_type": "code",
   "execution_count": 1,
   "metadata": {},
   "outputs": [
    {
     "name": "stdout",
     "output_type": "stream",
     "text": [
      "4\n",
      "6\n",
      "1\n",
      "3\n",
      "1\n",
      "4\n"
     ]
    }
   ],
   "source": [
    "## 11725 트리의 부모 찾기 \n",
    "## 런타임 에러..\n",
    "\n",
    "n = int(input())\n",
    "\n",
    "graph = [[] for _ in range(n+1)]\n",
    "\n",
    "for i in range(n-1):\n",
    "    a, b = map(int, input().split())\n",
    "    graph[a].append(b)\n",
    "    graph[b].append(a)\n",
    "\n",
    "\n",
    "visited = [False]*(n+1)\n",
    "\n",
    "def dfs(v):\n",
    "    # visited[v] = True ## 여기 부터 틀림;;\n",
    "    for i in graph[v]:\n",
    "        if visited[i] == False:\n",
    "            visited[i] = v\n",
    "            dfs(i)\n",
    "\n",
    "dfs(1)\n",
    "\n",
    "for x in range(2, n+1):\n",
    "    print(visited[x])\n",
    "\n",
    "    \n",
    "\n"
   ]
  },
  {
   "cell_type": "code",
   "execution_count": 6,
   "metadata": {},
   "outputs": [
    {
     "name": "stdout",
     "output_type": "stream",
     "text": [
      "1\n",
      "2\n",
      "3\n",
      "4\n",
      "5\n"
     ]
    }
   ],
   "source": [
    "# 백준 2750\n",
    "\n",
    "n = int(input())\n",
    "arr = set()\n",
    "\n",
    "for i in range(n):\n",
    "    tmp = int(input())\n",
    "    arr.add(tmp)\n",
    "\n",
    "for num in arr:\n",
    "    print(num)"
   ]
  },
  {
   "cell_type": "markdown",
   "metadata": {},
   "source": [
    "set 으로 풀면 중복이 있는 경우 오답 처리"
   ]
  },
  {
   "cell_type": "code",
   "execution_count": 11,
   "metadata": {},
   "outputs": [
    {
     "name": "stdout",
     "output_type": "stream",
     "text": [
      "1\n",
      "2\n",
      "3\n",
      "4\n",
      "5\n"
     ]
    }
   ],
   "source": [
    "# 백준 2750\n",
    "\n",
    "n = int(input())\n",
    "arr = []\n",
    "\n",
    "for i in range(n):\n",
    "    tmp = int(input())\n",
    "    arr.append(tmp)\n",
    "\n",
    "arr.sort()\n",
    "for num in arr:\n",
    "    print(num)"
   ]
  },
  {
   "cell_type": "markdown",
   "metadata": {},
   "source": [
    "내림차순 정렬하는 것도 해보작"
   ]
  },
  {
   "cell_type": "code",
   "execution_count": 15,
   "metadata": {},
   "outputs": [
    {
     "name": "stdout",
     "output_type": "stream",
     "text": [
      "7\n",
      "5\n",
      "5\n",
      "4\n",
      "3\n",
      "3\n",
      "2\n",
      "2\n",
      "1\n",
      "1\n"
     ]
    }
   ],
   "source": [
    "# 백준 2750\n",
    "\n",
    "n = int(input())\n",
    "arr = []\n",
    "\n",
    "for i in range(n):\n",
    "    tmp = int(input())\n",
    "    arr.append(tmp)\n",
    "\n",
    "arr.sort()\n",
    "arr.reverse()\n",
    "for num in arr:\n",
    "    print(num)"
   ]
  },
  {
   "cell_type": "markdown",
   "metadata": {},
   "source": [
    "easy"
   ]
  },
  {
   "cell_type": "markdown",
   "metadata": {},
   "source": [
    "10989 번 문제는 같지만 메모리 초과 오류 .."
   ]
  },
  {
   "cell_type": "code",
   "execution_count": null,
   "metadata": {},
   "outputs": [],
   "source": [
    "# 백준 10989 # 계수 정렬을 상툥해야 한다..!\n",
    "\n",
    "import sys\n",
    "input = sys.stdin.readline\n",
    "\n",
    "n = int(input())\n",
    "arr = [0] * (10000 + 1)\n",
    "\n",
    "for _ in range(n):\n",
    "    arr[int(input())] += 1\n",
    "\n",
    "\n",
    "for i in range(len(arr)):\n",
    "    if arr[i] != 0: \n",
    "        #0이 아닌 데이터, 즉 입력받은 데이터들을 출력\n",
    "        for _ in range(arr[i]):\n",
    "            print(i)"
   ]
  },
  {
   "cell_type": "markdown",
   "metadata": {},
   "source": [
    "# 9935"
   ]
  },
  {
   "cell_type": "code",
   "execution_count": 5,
   "metadata": {},
   "outputs": [
    {
     "name": "stdout",
     "output_type": "stream",
     "text": [
      "FRULA\n"
     ]
    }
   ],
   "source": [
    "# 9935 문자열 폭발 골드4\n",
    "\n",
    "str = input()\n",
    "bum = input()\n",
    "\n",
    "bumchar = set()\n",
    "\n",
    "for char in bum:\n",
    "    bumchar.add(char)\n",
    "\n",
    "empty = 0\n",
    "\n",
    "for char in str:\n",
    "    if char in bumchar:\n",
    "        empty +=1\n",
    "        continue\n",
    "    else:\n",
    "        print(char, end='')\n",
    "\n",
    "if empty == len(str):\n",
    "    print(\"FRULA\")\n"
   ]
  },
  {
   "cell_type": "markdown",
   "metadata": {},
   "source": [
    "문제 이해를 잘못함.. 문자 단위로 확인 하는 것이 아니라 문자열 까지 폭발 시키고 다시 확인 해서 문자열 단위를 폭발 시켜야 하는 것 .,."
   ]
  },
  {
   "cell_type": "code",
   "execution_count": null,
   "metadata": {},
   "outputs": [],
   "source": [
    "# 9935 문자열 폭발 골드4\n",
    "# 문제 이해를 잘못함.. \n",
    "# 문자 단위로 확인 하는 것이 아니라 \n",
    "# 문자열 까지 폭발 시키고 \n",
    "# 다시 확인 해서 문자열 단위를 폭발 시켜야 하는 것 .,.\n",
    "\n",
    "def check(str, bum):\n",
    "    cnt = 0\n",
    "    for char in str:\n",
    "        cnt +=1\n",
    "        if char == bum[0]:\n",
    "            for i in range(len(bum)):\n",
    "                # 으갹 이걸 어떻게 해..\n",
    "\n",
    "    return newstr\n",
    "str = input()\n",
    "bum = input()\n",
    "\n",
    "newstr = str\n",
    "if str in bum:\n",
    "    newstr = check(newstr, bum):\n",
    "\n",
    "\n",
    "# bumchar = set()\n",
    "\n",
    "# for char in bum:\n",
    "#     bumchar.add(char)\n",
    "\n",
    "# empty = 0\n",
    "\n",
    "# for char in str:\n",
    "#     if char in bumchar:\n",
    "#         empty +=1\n",
    "#         continue\n",
    "#     else:\n",
    "#         print(char, end='')\n",
    "\n",
    "if empty == len(str):\n",
    "    print(\"FRULA\")\n"
   ]
  },
  {
   "cell_type": "code",
   "execution_count": null,
   "metadata": {},
   "outputs": [
    {
     "name": "stdout",
     "output_type": "stream",
     "text": [
      "mirkovC4nizCC44\n"
     ]
    }
   ],
   "source": [
    "# 9935 문자열 폭발 골드4\n",
    "# 문제 이해를 잘못함.. \n",
    "# 문자 단위로 확인 하는 것이 아니라 \n",
    "# 문자열 까지 폭발 시키고 \n",
    "# 다시 확인 해서 문자열 단위를 폭발 시켜야 하는 것 .,.\n",
    "\n",
    "def check(str, bum):\n",
    "    newstr = []\n",
    "    cnt = 0\n",
    "    \n",
    "    for i in range(len(str)):\n",
    "        if str[cnt] == bum[0]:\n",
    "            cnt += (len(bum))\n",
    "        elif cnt>len(str):\n",
    "            continue\n",
    "        else:\n",
    "            newstr.append(str[cnt])\n",
    "\n",
    "        cnt +=1\n",
    "\n",
    "    return newstr\n",
    "\n",
    "str = input()\n",
    "bum = input()\n",
    "\n",
    "newstr = str\n",
    "if str in bum:\n",
    "    newstr = check(newstr, bum)\n",
    "\n",
    "print(newstr)\n",
    "\n",
    "if newstr is []:\n",
    "    print(\"FRULA\")\n"
   ]
  },
  {
   "cell_type": "code",
   "execution_count": 10,
   "metadata": {},
   "outputs": [
    {
     "name": "stdout",
     "output_type": "stream",
     "text": [
      "mirkovniz\n"
     ]
    }
   ],
   "source": [
    "def explode_string(string, bomb):\n",
    "    stack = []\n",
    "    bomb_len = len(bomb)\n",
    "    \n",
    "    for char in string:\n",
    "        stack.append(char)\n",
    "        \n",
    "        # 스택의 끝부분이 폭발 문자열과 일치하는지 확인\n",
    "        if ''.join(stack[-bomb_len:]) == bomb:\n",
    "            # 폭발 문자열이 발견되면 해당 부분을 스택에서 제거\n",
    "            del stack[-bomb_len:]\n",
    "    \n",
    "    # 최종 결과 출력\n",
    "    result = ''.join(stack)\n",
    "    return result if result else \"FRULA\"\n",
    "\n",
    "# 입력 받기\n",
    "string = input().strip()\n",
    "bomb = input().strip()\n",
    "\n",
    "# 결과 출력\n",
    "print(explode_string(string, bomb))\n"
   ]
  },
  {
   "cell_type": "code",
   "execution_count": null,
   "metadata": {},
   "outputs": [
    {
     "name": "stdout",
     "output_type": "stream",
     "text": [
      "mirkovniz\n"
     ]
    }
   ],
   "source": [
    "def check(str, bomb):\n",
    "    stack = []\n",
    "    bomblen = len(bomb)\n",
    "\n",
    "    for char in str:\n",
    "        stack.append(char)\n",
    "\n",
    "        if ''.join(stack[-bomblen:])==bomb:\n",
    "            del stack[-bomblen:]\n",
    "\n",
    "    result = ''.join(stack)\n",
    "    return result if result else \"FRULA\"\n",
    "\n",
    "str = input()\n",
    "bomb = input()\n",
    "\n",
    "print(check(str, bomb))"
   ]
  },
  {
   "cell_type": "code",
   "execution_count": 14,
   "metadata": {},
   "outputs": [],
   "source": [
    "arr = 'hieveryone'\n",
    "\n",
    "if ''.join(arr[-2:])=='one':\n",
    "    print('good')"
   ]
  },
  {
   "cell_type": "code",
   "execution_count": 29,
   "metadata": {},
   "outputs": [
    {
     "name": "stdout",
     "output_type": "stream",
     "text": [
      "21\n"
     ]
    }
   ],
   "source": [
    "# 백준 2559\n",
    "n,k = map(int, input().split())\n",
    "carr = list(map(int, input().split()))\n",
    "temparr = []\n",
    "\n",
    "for i in range(n-k+1):\n",
    "    sumarr = carr[i:i+k]\n",
    "    total = 0\n",
    "    for num in sumarr:\n",
    "        total += num\n",
    "\n",
    "    temparr.append(total)\n",
    "\n",
    "print(max(temparr))"
   ]
  },
  {
   "cell_type": "markdown",
   "metadata": {},
   "source": [
    "시간초과 ..ㅠ"
   ]
  },
  {
   "cell_type": "code",
   "execution_count": 34,
   "metadata": {},
   "outputs": [
    {
     "ename": "TypeError",
     "evalue": "'list' object is not callable",
     "output_type": "error",
     "traceback": [
      "\u001b[1;31m---------------------------------------------------------------------------\u001b[0m",
      "\u001b[1;31mTypeError\u001b[0m                                 Traceback (most recent call last)",
      "Cell \u001b[1;32mIn[34], line 5\u001b[0m\n\u001b[0;32m      2\u001b[0m carr \u001b[38;5;241m=\u001b[39m \u001b[38;5;28mlist\u001b[39m(\u001b[38;5;28mmap\u001b[39m(\u001b[38;5;28mint\u001b[39m, \u001b[38;5;28minput\u001b[39m()\u001b[38;5;241m.\u001b[39msplit()))\n\u001b[0;32m      4\u001b[0m \u001b[38;5;66;03m# 첫 번째 구간의 합 계산\u001b[39;00m\n\u001b[1;32m----> 5\u001b[0m current_sum \u001b[38;5;241m=\u001b[39m \u001b[38;5;28;43msum\u001b[39;49m\u001b[43m(\u001b[49m\u001b[43mcarr\u001b[49m\u001b[43m[\u001b[49m\u001b[43m:\u001b[49m\u001b[43mk\u001b[49m\u001b[43m]\u001b[49m\u001b[43m)\u001b[49m\n\u001b[0;32m      6\u001b[0m max_sum \u001b[38;5;241m=\u001b[39m current_sum\n\u001b[0;32m      8\u001b[0m \u001b[38;5;66;03m# 슬라이딩 윈도우로 구간합 갱신\u001b[39;00m\n",
      "\u001b[1;31mTypeError\u001b[0m: 'list' object is not callable"
     ]
    }
   ],
   "source": [
    "n, k = map(int, input().split())\n",
    "carr = list(map(int, input().split()))\n",
    "\n",
    "# 첫 번째 구간의 합 계산\n",
    "current_sum = sum(carr[:k])\n",
    "max_sum = current_sum\n",
    "\n",
    "# 슬라이딩 윈도우로 구간합 갱신\n",
    "for i in range(1, n - k + 1):\n",
    "    current_sum = current_sum - carr[i - 1] + carr[i + k - 1]\n",
    "    max_sum = max(max_sum, current_sum)\n",
    "\n",
    "print(max_sum)"
   ]
  },
  {
   "cell_type": "markdown",
   "metadata": {},
   "source": [
    "슬라이딩 윈도우 사용.. 해야 함.."
   ]
  },
  {
   "cell_type": "code",
   "execution_count": 31,
   "metadata": {},
   "outputs": [
    {
     "ename": "TypeError",
     "evalue": "'list' object is not callable",
     "output_type": "error",
     "traceback": [
      "\u001b[1;31m---------------------------------------------------------------------------\u001b[0m",
      "\u001b[1;31mTypeError\u001b[0m                                 Traceback (most recent call last)",
      "Cell \u001b[1;32mIn[31], line 4\u001b[0m\n\u001b[0;32m      1\u001b[0m n, k \u001b[38;5;241m=\u001b[39m \u001b[38;5;28mmap\u001b[39m(\u001b[38;5;28mint\u001b[39m, \u001b[38;5;28minput\u001b[39m()\u001b[38;5;241m.\u001b[39msplit())\n\u001b[0;32m      2\u001b[0m carr \u001b[38;5;241m=\u001b[39m \u001b[38;5;28mlist\u001b[39m(\u001b[38;5;28mmap\u001b[39m(\u001b[38;5;28mint\u001b[39m, \u001b[38;5;28minput\u001b[39m()\u001b[38;5;241m.\u001b[39msplit()))\n\u001b[1;32m----> 4\u001b[0m current_sum \u001b[38;5;241m=\u001b[39m \u001b[38;5;28;43msum\u001b[39;49m\u001b[43m(\u001b[49m\u001b[43mcarr\u001b[49m\u001b[43m[\u001b[49m\u001b[43m:\u001b[49m\u001b[43mk\u001b[49m\u001b[43m]\u001b[49m\u001b[43m)\u001b[49m\n\u001b[0;32m      5\u001b[0m max_sum \u001b[38;5;241m=\u001b[39m \u001b[38;5;28msum\u001b[39m(current_sum)\n\u001b[0;32m      7\u001b[0m \u001b[38;5;28;01mfor\u001b[39;00m i \u001b[38;5;129;01min\u001b[39;00m \u001b[38;5;28mrange\u001b[39m(\u001b[38;5;241m1\u001b[39m, n\u001b[38;5;241m-\u001b[39mk\u001b[38;5;241m+\u001b[39m\u001b[38;5;241m1\u001b[39m):\n",
      "\u001b[1;31mTypeError\u001b[0m: 'list' object is not callable"
     ]
    }
   ],
   "source": [
    "n, k = map(int, input().split())\n",
    "carr = list(map(int, input().split()))\n",
    "\n",
    "current_sum = sum(carr[:k])\n",
    "max_sum = sum(current_sum)\n",
    "\n",
    "for i in range(1, n-k+1):\n",
    "    current_sum = current_sum - carr[i-1] + carr[i+k-1]   # 이전 current_sum 에서 맨 처음과 맨 시작만 .. \n",
    "    print(current_sum)"
   ]
  },
  {
   "cell_type": "code",
   "execution_count": 36,
   "metadata": {},
   "outputs": [
    {
     "name": "stdout",
     "output_type": "stream",
     "text": [
      "[0, inf, inf, inf, inf, inf, inf, inf, inf, inf, inf, inf, inf, inf, inf, inf]\n",
      "[0, inf, 1, inf, inf, inf, inf, inf, inf, inf, inf, inf, inf, inf, inf, inf]\n",
      "[0, inf, 1, inf, inf, inf, inf, inf, inf, inf, inf, inf, inf, inf, inf, inf]\n",
      "[0, inf, 1, inf, 2, inf, inf, inf, inf, inf, inf, inf, inf, inf, inf, inf]\n",
      "[0, inf, 1, inf, 2, 1, inf, inf, inf, inf, inf, inf, inf, inf, inf, inf]\n",
      "[0, inf, 1, inf, 2, 1, 3, inf, inf, inf, inf, inf, inf, inf, inf, inf]\n",
      "[0, inf, 1, inf, 2, 1, 3, 2, inf, inf, inf, inf, inf, inf, inf, inf]\n",
      "[0, inf, 1, inf, 2, 1, 3, 2, 4, inf, inf, inf, inf, inf, inf, inf]\n",
      "[0, inf, 1, inf, 2, 1, 3, 2, 4, 3, inf, inf, inf, inf, inf, inf]\n",
      "[0, inf, 1, inf, 2, 1, 3, 2, 4, 3, 2, inf, inf, inf, inf, inf]\n",
      "[0, inf, 1, inf, 2, 1, 3, 2, 4, 3, 2, 4, inf, inf, inf, inf]\n",
      "[0, inf, 1, inf, 2, 1, 3, 2, 4, 3, 2, 4, 3, inf, inf, inf]\n",
      "[0, inf, 1, inf, 2, 1, 3, 2, 4, 3, 2, 4, 3, 5, inf, inf]\n",
      "[0, inf, 1, inf, 2, 1, 3, 2, 4, 3, 2, 4, 3, 5, 4, inf]\n",
      "[0, inf, 1, inf, 2, 1, 3, 2, 4, 3, 2, 4, 3, 5, 4, 3]\n",
      "3\n",
      "[0, inf, inf, inf, inf, inf, inf, inf, inf, inf, inf, inf, inf, inf, inf]\n",
      "[0, inf, 1, inf, inf, inf, inf, inf, inf, inf, inf, inf, inf, inf, inf]\n",
      "[0, inf, 1, inf, inf, inf, inf, inf, inf, inf, inf, inf, inf, inf, inf]\n",
      "[0, inf, 1, inf, 2, inf, inf, inf, inf, inf, inf, inf, inf, inf, inf]\n",
      "[0, inf, 1, inf, 2, 1, inf, inf, inf, inf, inf, inf, inf, inf, inf]\n",
      "[0, inf, 1, inf, 2, 1, 3, inf, inf, inf, inf, inf, inf, inf, inf]\n",
      "[0, inf, 1, inf, 2, 1, 3, 2, inf, inf, inf, inf, inf, inf, inf]\n",
      "[0, inf, 1, inf, 2, 1, 3, 2, 4, inf, inf, inf, inf, inf, inf]\n",
      "[0, inf, 1, inf, 2, 1, 3, 2, 4, 3, inf, inf, inf, inf, inf]\n",
      "[0, inf, 1, inf, 2, 1, 3, 2, 4, 3, 2, inf, inf, inf, inf]\n",
      "[0, inf, 1, inf, 2, 1, 3, 2, 4, 3, 2, 4, inf, inf, inf]\n",
      "[0, inf, 1, inf, 2, 1, 3, 2, 4, 3, 2, 4, 3, inf, inf]\n",
      "[0, inf, 1, inf, 2, 1, 3, 2, 4, 3, 2, 4, 3, 5, inf]\n",
      "[0, inf, 1, inf, 2, 1, 3, 2, 4, 3, 2, 4, 3, 5, 4]\n",
      "4\n",
      "[0, inf, inf, inf, inf, inf, inf, inf, inf, inf, inf, inf, inf, inf]\n",
      "[0, inf, 1, inf, inf, inf, inf, inf, inf, inf, inf, inf, inf, inf]\n",
      "[0, inf, 1, inf, inf, inf, inf, inf, inf, inf, inf, inf, inf, inf]\n",
      "[0, inf, 1, inf, 2, inf, inf, inf, inf, inf, inf, inf, inf, inf]\n",
      "[0, inf, 1, inf, 2, 1, inf, inf, inf, inf, inf, inf, inf, inf]\n",
      "[0, inf, 1, inf, 2, 1, 3, inf, inf, inf, inf, inf, inf, inf]\n",
      "[0, inf, 1, inf, 2, 1, 3, 2, inf, inf, inf, inf, inf, inf]\n",
      "[0, inf, 1, inf, 2, 1, 3, 2, 4, inf, inf, inf, inf, inf]\n",
      "[0, inf, 1, inf, 2, 1, 3, 2, 4, 3, inf, inf, inf, inf]\n",
      "[0, inf, 1, inf, 2, 1, 3, 2, 4, 3, 2, inf, inf, inf]\n",
      "[0, inf, 1, inf, 2, 1, 3, 2, 4, 3, 2, 4, inf, inf]\n",
      "[0, inf, 1, inf, 2, 1, 3, 2, 4, 3, 2, 4, 3, inf]\n",
      "[0, inf, 1, inf, 2, 1, 3, 2, 4, 3, 2, 4, 3, 5]\n",
      "5\n"
     ]
    }
   ],
   "source": [
    "def min_coins(n):\n",
    "    # DP 테이블 초기화 (n+1 크기), 큰 값으로 초기화하여 최소값 비교 가능하게 함\n",
    "    dp = [float('inf')] * (n + 1)\n",
    "    dp[0] = 0  # 0원을 만들기 위해 필요한 동전의 개수는 0\n",
    "\n",
    "    # 2원, 5원 동전을 사용하여 DP 테이블 채우기\n",
    "    for i in range(1, n + 1):\n",
    "        if i >= 2:\n",
    "            dp[i] = min(dp[i], dp[i - 2] + 1)  # 2원을 사용하는 경우\n",
    "        if i >= 5:\n",
    "            dp[i] = min(dp[i], dp[i - 5] + 1)  # 5원을 사용하는 경우\n",
    "        print(dp)\n",
    "    # n원을 만들 수 없는 경우 -1 반환\n",
    "    return dp[n] if dp[n] != float('inf') else -1\n",
    "\n",
    "# 예제 실행\n",
    "print(min_coins(15))  # 3\n",
    "print(min_coins(14))  # 4\n",
    "print(min_coins(13))  # 5\n"
   ]
  },
  {
   "cell_type": "markdown",
   "metadata": {},
   "source": [
    "1149"
   ]
  },
  {
   "cell_type": "code",
   "execution_count": 1,
   "metadata": {},
   "outputs": [
    {
     "name": "stdout",
     "output_type": "stream",
     "text": [
      "96\n"
     ]
    }
   ],
   "source": [
    "# 1149 RGB 거리\n",
    "\n",
    "n = int(input())\n",
    "\n",
    "datas = [list(map(int, input().split())) for _ in range(n)]\n",
    "dp = [[0]*3 for _ in range(n)]\n",
    "\n",
    "answer = 0\n",
    "prev = -1\n",
    "\n",
    "dp[0] = datas[0]\n",
    "\n",
    "for i in range(1,n):\n",
    "    dp[i][0] = min(dp[i-1][1], dp[i-1][2]) + datas[i][0]\n",
    "    dp[i][1] = min(dp[i-1][0], dp[i-1][2]) + datas[i][1]\n",
    "    dp[i][2] = min(dp[i-1][0], dp[i-1][1]) + datas[i][2]\n",
    "\n",
    "\n",
    "print(min(dp[-1]))"
   ]
  },
  {
   "cell_type": "code",
   "execution_count": null,
   "metadata": {},
   "outputs": [],
   "source": []
  }
 ],
 "metadata": {
  "kernelspec": {
   "display_name": "Python 3",
   "language": "python",
   "name": "python3"
  },
  "language_info": {
   "codemirror_mode": {
    "name": "ipython",
    "version": 3
   },
   "file_extension": ".py",
   "mimetype": "text/x-python",
   "name": "python",
   "nbconvert_exporter": "python",
   "pygments_lexer": "ipython3",
   "version": "3.11.9"
  }
 },
 "nbformat": 4,
 "nbformat_minor": 2
}
