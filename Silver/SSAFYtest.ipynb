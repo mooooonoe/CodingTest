{
 "cells": [
  {
   "cell_type": "markdown",
   "metadata": {},
   "source": [
    "# sw expert academy 모의테스트"
   ]
  },
  {
   "cell_type": "code",
   "execution_count": null,
   "metadata": {},
   "outputs": [],
   "source": [
    "# 기본 제공코드는 임의 수정해도 관계 없습니다. 단, 입출력 포맷 주의\n",
    "# 아래 표준 입출력 예제 필요시 참고하세요.\n",
    "\n",
    "# 표준 입력 예제\n",
    "'''\n",
    "a = int(input())                        정수형 변수 1개 입력 받는 예제\n",
    "b, c = map(int, input().split())        정수형 변수 2개 입력 받는 예제 \n",
    "d = float(input())                      실수형 변수 1개 입력 받는 예제\n",
    "e, f, g = map(float, input().split())   실수형 변수 3개 입력 받는 예제\n",
    "h = input()                             문자열 변수 1개 입력 받는 예제\n",
    "'''\n",
    "\n",
    "# 표준 출력 예제\n",
    "'''\n",
    "a, b = 6, 3\n",
    "c, d, e = 1.0, 2.5, 3.4\n",
    "f = \"ABC\"\n",
    "print(a)                                정수형 변수 1개 출력하는 예제\n",
    "print(b, end = \" \")                     줄바꿈 하지 않고 정수형 변수와 공백을 출력하는 예제\n",
    "print(c, d, e)                          실수형 변수 3개 출력하는 예제\n",
    "print(f)                                문자열 1개 출력하는 예제\n",
    "'''\n",
    "\n",
    "\n",
    "\n",
    "\n",
    "'''\n",
    "아래의 구문은 input.txt 를 read only 형식으로 연 후,\n",
    "앞으로 표준 입력(키보드) 대신 input.txt 파일로부터 읽어오겠다는 의미의 코드입니다.\n",
    "여러분이 작성한 코드를 테스트 할 때, 편의를 위해서 input.txt에 입력을 저장한 후,\n",
    "아래 구문을 이용하면 이후 입력을 수행할 때 표준 입력 대신 파일로부터 입력을 받아올 수 있습니다.\n",
    "따라서 테스트를 수행할 때에는 아래 주석을 지우고 이 구문을 사용하셔도 좋습니다.\n",
    "아래 구문을 사용하기 위해서는 import sys가 필요합니다.\n",
    "단, 채점을 위해 코드를 제출하실 때에는 반드시 아래 구문을 지우거나 주석 처리 하셔야 합니다.\n",
    "'''\n",
    "#import sys\n",
    "#sys.stdin = open(\"input.txt\", \"r\")\n",
    "\n",
    "T = int(input())\n",
    "# 여러개의 테스트 케이스가 주어지므로, 각각을 처리합니다.\n",
    "for test_case in range(1, T + 1):\n",
    "    # ///////////////////////////////////////////////////////////////////////////////////\n",
    "    '''\n",
    "\n",
    "        이 부분에 여러분의 알고리즘 구현이 들어갑니다.\n",
    "\n",
    "    '''\n",
    "    # ///////////////////////////////////////////////////////////////////////////////////\n"
   ]
  },
  {
   "cell_type": "code",
   "execution_count": 50,
   "metadata": {},
   "outputs": [
    {
     "name": "stdout",
     "output_type": "stream",
     "text": [
      "3\n",
      "2\n",
      "55\n"
     ]
    }
   ],
   "source": [
    "# 22574. 높은 곳으로\n",
    "\n",
    "T = int(input())\n",
    "\n",
    "for test_case in range(1, T+1):\n",
    "    n, p = map(int, input().split())\n",
    "\n",
    "    # n 번의 선택, 가만히 놔둘지 or i층을 올릴지 선택 가능 \n",
    "    # 이때 i층은 (1<= i <= n)\n",
    "    \n",
    "    # dp = [0]*(n+1) # 이렇게 하면 에러남 !!\n",
    "    dp = [[] for _ in range(n+1)]\n",
    "\n",
    "    for i in range(1,n+1):\n",
    "        if i == 1:\n",
    "            dp[1].append(0) # 처음 0층\n",
    "            dp[1].append(0+1)\n",
    "        else:\n",
    "            for num in dp[i-1]:\n",
    "                if num==p: # 폭탄 인 경우 패스\n",
    "                    continue\n",
    "                elif (num+i)==p:\n",
    "                    continue\n",
    "                else:\n",
    "                    dp[i].append(num)\n",
    "                    dp[i].append(num+i)\n",
    "\n",
    "    result = max(dp[n])\n",
    "    print(result)      \n"
   ]
  },
  {
   "cell_type": "code",
   "execution_count": 2,
   "metadata": {},
   "outputs": [
    {
     "name": "stdout",
     "output_type": "stream",
     "text": [
      "1\n",
      "2\n"
     ]
    }
   ],
   "source": [
    "n = 3\n",
    "\n",
    "for i in range(1,3):\n",
    "    print(i)"
   ]
  },
  {
   "cell_type": "code",
   "execution_count": 22,
   "metadata": {},
   "outputs": [
    {
     "name": "stdout",
     "output_type": "stream",
     "text": [
      "[[None], [None], [None]]\n"
     ]
    }
   ],
   "source": [
    "n = 2\n",
    "dp = [[None]]*(n+1)\n",
    "print(dp)"
   ]
  },
  {
   "cell_type": "code",
   "execution_count": 20,
   "metadata": {},
   "outputs": [],
   "source": [
    "dp = [[0], [1], [2]]"
   ]
  },
  {
   "cell_type": "code",
   "execution_count": 23,
   "metadata": {},
   "outputs": [
    {
     "name": "stdout",
     "output_type": "stream",
     "text": [
      "[[None, 1], [None, 1], [None, 1]]\n"
     ]
    }
   ],
   "source": [
    "dp[0].append(1)\n",
    "print(dp)"
   ]
  },
  {
   "cell_type": "code",
   "execution_count": 25,
   "metadata": {},
   "outputs": [
    {
     "name": "stdout",
     "output_type": "stream",
     "text": [
      "[[], [], [], [], []]\n",
      "[[], [], [1], [], []]\n"
     ]
    }
   ],
   "source": [
    "dp = [[] for _ in range(5)]\n",
    "print(dp)\n",
    "dp[2].append(1)\n",
    "print(dp)"
   ]
  },
  {
   "cell_type": "code",
   "execution_count": 34,
   "metadata": {},
   "outputs": [
    {
     "name": "stdout",
     "output_type": "stream",
     "text": [
      "[[], [], [], [], []]\n",
      "[[], [], [1, 2, 5], [], []]\n",
      "5\n"
     ]
    }
   ],
   "source": [
    "dp = [[] for _ in range(5)]\n",
    "print(dp)\n",
    "dp[2].append(1)\n",
    "dp[2].append(2)\n",
    "dp[2].append(5)\n",
    "print(dp)\n",
    "print(max(dp[2]))"
   ]
  },
  {
   "cell_type": "code",
   "execution_count": 35,
   "metadata": {},
   "outputs": [
    {
     "name": "stdout",
     "output_type": "stream",
     "text": [
      "[[], [], [1, 2, 5], [2, 3, 6], []]\n",
      "6\n"
     ]
    }
   ],
   "source": [
    "for i in dp[2]:\n",
    "    dp[3].append(i+1)\n",
    "\n",
    "print(dp)\n",
    "print(max(dp[3]))"
   ]
  },
  {
   "cell_type": "markdown",
   "metadata": {},
   "source": [
    "잘 풀었는데 에러가 난다 ! "
   ]
  },
  {
   "cell_type": "code",
   "execution_count": 53,
   "metadata": {},
   "outputs": [
    {
     "name": "stdout",
     "output_type": "stream",
     "text": [
      "#3\n",
      "#2\n",
      "#55\n"
     ]
    }
   ],
   "source": [
    "import sys\n",
    "sys.stdin = open(\"1_sample_input.txt\", \"r\")\n",
    "\n",
    "# 22574. 높은 곳으로\n",
    "\n",
    "# input\n",
    "T = int(input())\n",
    "\n",
    "for test_case in range(1, T+1):\n",
    "    n, p = map(int, input().split())\n",
    "\n",
    "    # n 번의 선택, 가만히 놔둘지 or i층을 올릴지 선택 가능 \n",
    "    # 이때 i층은 (1<= i <= n)\n",
    "    \n",
    "    # dp = [0]*(n+1) # 이렇게 하면 에러남 !!\n",
    "    dp = [[] for _ in range(n+1)]\n",
    "\n",
    "    for i in range(1,n+1):\n",
    "        if i == 1:\n",
    "            dp[1].append(0) # 처음 0층\n",
    "            dp[1].append(0+1)\n",
    "        else:\n",
    "            for num in dp[i-1]:\n",
    "                if num==p: # 폭탄 인 경우 패스\n",
    "                    continue\n",
    "                elif (num+i)==p:\n",
    "                    continue\n",
    "                else:\n",
    "                    dp[i].append(num)\n",
    "                    dp[i].append(num+i)\n",
    "    #output\n",
    "    result = max(dp[n])\n",
    "    print(f\"{result}\")      \n"
   ]
  },
  {
   "cell_type": "markdown",
   "metadata": {},
   "source": [
    "sys 문제가 아님 ! "
   ]
  },
  {
   "cell_type": "code",
   "execution_count": null,
   "metadata": {},
   "outputs": [],
   "source": [
    "# 22574. 높은 곳으로\n",
    "\n",
    "T = int(input())\n",
    "\n",
    "for test_case in range(1, T+1):\n",
    "    n, p = map(int, input().split())\n",
    "\n",
    "    # n 번의 선택, 가만히 놔둘지 or i층을 올릴지 선택 가능 \n",
    "    # 이때 i층은 (1<= i <= n)\n",
    "    \n",
    "    # dp = [0]*(n+1) # 이렇게 하면 에러남 !!\n",
    "    dp = [[] for _ in range(n+1)]\n",
    "\n",
    "    for i in range(1,n+1):\n",
    "        if i == 1:\n",
    "            dp[1].append(0) # 처음 0층\n",
    "            dp[1].append(0+1)\n",
    "        else:\n",
    "            for num in dp[i-1]:\n",
    "                if num==p: # 폭탄 인 경우 패스\n",
    "                    continue\n",
    "                elif (num+i)==p:\n",
    "                    continue\n",
    "                else:\n",
    "                    dp[i].append(num)\n",
    "                    dp[i].append(num+i)\n",
    "\n",
    "    result = max(dp[n])\n",
    "    print(result)      \n"
   ]
  },
  {
   "cell_type": "code",
   "execution_count": null,
   "metadata": {},
   "outputs": [],
   "source": [
    "# 정답 코드 ..\n",
    "\n",
    "T = int(input())\n",
    " \n",
    "for test_case in range(1, T + 1):\n",
    "    n, p = map(int, (input().split()))\n",
    "    lay=0\n",
    "    for i in range(1, n+1, 1):\n",
    "        if lay + i ==p:\n",
    "            if lay +i >1:\n",
    "                lay= lay+i-1\n",
    "            else:\n",
    "                continue\n",
    "        else :lay +=i\n",
    "    print(lay)"
   ]
  },
  {
   "cell_type": "code",
   "execution_count": 55,
   "metadata": {},
   "outputs": [
    {
     "name": "stdout",
     "output_type": "stream",
     "text": [
      "3\n",
      "2\n",
      "55\n"
     ]
    }
   ],
   "source": [
    "# 정답 보고 수정.. \n",
    "T = int(input())\n",
    "\n",
    "for test_case in range(1, T+1):\n",
    "    n, p = map(int, input().split())\n",
    "\n",
    "    now = 0\n",
    "\n",
    "    for i in range(1,n+1):\n",
    "        if now + i == p:\n",
    "            if now + i > 1:\n",
    "                now = now+i-1\n",
    "            else:\n",
    "                continue\n",
    "        else:\n",
    "            now+= i\n",
    "\n",
    "    print(now)\n"
   ]
  },
  {
   "cell_type": "code",
   "execution_count": null,
   "metadata": {},
   "outputs": [],
   "source": []
  }
 ],
 "metadata": {
  "kernelspec": {
   "display_name": "Python 3",
   "language": "python",
   "name": "python3"
  },
  "language_info": {
   "codemirror_mode": {
    "name": "ipython",
    "version": 3
   },
   "file_extension": ".py",
   "mimetype": "text/x-python",
   "name": "python",
   "nbconvert_exporter": "python",
   "pygments_lexer": "ipython3",
   "version": "3.12.3"
  }
 },
 "nbformat": 4,
 "nbformat_minor": 2
}
