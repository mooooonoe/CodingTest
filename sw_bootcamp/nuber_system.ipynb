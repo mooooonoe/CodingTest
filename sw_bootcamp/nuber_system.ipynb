{
 "cells": [
  {
   "cell_type": "markdown",
   "metadata": {},
   "source": [
    "### 프로그래머스 3진법 뒤집기"
   ]
  },
  {
   "cell_type": "code",
   "execution_count": 1,
   "metadata": {},
   "outputs": [],
   "source": [
    "def solution(n):\n",
    "    answer = ''\n",
    "    \n",
    "    while n>=1: # 나ㅏ는 처음에 n != 1 로 조건을 했더니 에러남 .. 왜? # 주의 .. n == 0 일때까지 실행되면 진법 계산 이상..\n",
    "        mod = n%3\n",
    "        n = n//3\n",
    "        \n",
    "        answer += str(mod)\n",
    "    \n",
    "    return int(answer, 3)\n",
    "    "
   ]
  },
  {
   "cell_type": "markdown",
   "metadata": {},
   "source": [
    "1\n",
    "3\n",
    "9\n",
    "27\n",
    "81\n",
    "243\n",
    "\n",
    "dimod 로 몫과 나머지 ..\n",
    "\n",
    "\n",
    "진법 을 나타낼때에는 .. 나머지가 1일까지 진법으로 나누기 ..\n",
    "\n",
    "\n",
    "int(n,base) base진법을 10진법으로 변환*** \n",
    "int(n) 말고 (n, base) ***"
   ]
  },
  {
   "cell_type": "code",
   "execution_count": null,
   "metadata": {},
   "outputs": [],
   "source": []
  }
 ],
 "metadata": {
  "kernelspec": {
   "display_name": "Python 3",
   "language": "python",
   "name": "python3"
  },
  "language_info": {
   "codemirror_mode": {
    "name": "ipython",
    "version": 3
   },
   "file_extension": ".py",
   "mimetype": "text/x-python",
   "name": "python",
   "nbconvert_exporter": "python",
   "pygments_lexer": "ipython3",
   "version": "3.11.9"
  }
 },
 "nbformat": 4,
 "nbformat_minor": 2
}
